{
 "cells": [
  {
   "cell_type": "code",
   "execution_count": 1,
   "id": "6128e039",
   "metadata": {},
   "outputs": [
    {
     "name": "stderr",
     "output_type": "stream",
     "text": [
      "Warning message:\n",
      "\"package 'ggplot2' was built under R version 3.6.3\"\n",
      "Warning message:\n",
      "\"package 'tidyr' was built under R version 3.6.3\"\n"
     ]
    }
   ],
   "source": [
    "library(ggplot2)\n",
    "library(tidyr)\n",
    "library(stringr)"
   ]
  },
  {
   "cell_type": "code",
   "execution_count": 2,
   "id": "47571c7a",
   "metadata": {},
   "outputs": [
    {
     "data": {
      "text/html": [
       "<table>\n",
       "<thead><tr><th scope=col>laptop_ID</th><th scope=col>Company</th><th scope=col>Product</th><th scope=col>TypeName</th><th scope=col>Inches</th><th scope=col>ScreenResolution</th><th scope=col>Cpu</th><th scope=col>Ram</th><th scope=col>Memory</th><th scope=col>Gpu</th><th scope=col>OpSys</th><th scope=col>Weight</th><th scope=col>Price_euros</th></tr></thead>\n",
       "<tbody>\n",
       "\t<tr><td>1                                 </td><td>Apple                             </td><td>MacBook Pro                       </td><td>Ultrabook                         </td><td>13.3                              </td><td>IPS Panel Retina Display 2560x1600</td><td>Intel Core i5 2.3GHz              </td><td>8GB                               </td><td>128GB SSD                         </td><td>Intel Iris Plus Graphics 640      </td><td>macOS                             </td><td>1.37kg                            </td><td>1339.69                           </td></tr>\n",
       "\t<tr><td>2                                 </td><td>Apple                             </td><td>Macbook Air                       </td><td>Ultrabook                         </td><td>13.3                              </td><td>1440x900                          </td><td>Intel Core i5 1.8GHz              </td><td>8GB                               </td><td>128GB Flash Storage               </td><td>Intel HD Graphics 6000            </td><td>macOS                             </td><td>1.34kg                            </td><td> 898.94                           </td></tr>\n",
       "\t<tr><td>3                                 </td><td>HP                                </td><td>250 G6                            </td><td>Notebook                          </td><td>15.6                              </td><td>Full HD 1920x1080                 </td><td>Intel Core i5 7200U 2.5GHz        </td><td>8GB                               </td><td>256GB SSD                         </td><td>Intel HD Graphics 620             </td><td>No OS                             </td><td>1.86kg                            </td><td> 575.00                           </td></tr>\n",
       "\t<tr><td>4                                 </td><td>Apple                             </td><td>MacBook Pro                       </td><td>Ultrabook                         </td><td>15.4                              </td><td>IPS Panel Retina Display 2880x1800</td><td>Intel Core i7 2.7GHz              </td><td>16GB                              </td><td>512GB SSD                         </td><td>AMD Radeon Pro 455                </td><td>macOS                             </td><td>1.83kg                            </td><td>2537.45                           </td></tr>\n",
       "\t<tr><td>5                                 </td><td>Apple                             </td><td>MacBook Pro                       </td><td>Ultrabook                         </td><td>13.3                              </td><td>IPS Panel Retina Display 2560x1600</td><td>Intel Core i5 3.1GHz              </td><td>8GB                               </td><td>256GB SSD                         </td><td>Intel Iris Plus Graphics 650      </td><td>macOS                             </td><td>1.37kg                            </td><td>1803.60                           </td></tr>\n",
       "\t<tr><td>6                                 </td><td>Acer                              </td><td>Aspire 3                          </td><td>Notebook                          </td><td>15.6                              </td><td>1366x768                          </td><td>AMD A9-Series 9420 3GHz           </td><td>4GB                               </td><td>500GB HDD                         </td><td>AMD Radeon R5                     </td><td>Windows 10                        </td><td>2.1kg                             </td><td> 400.00                           </td></tr>\n",
       "</tbody>\n",
       "</table>\n"
      ],
      "text/latex": [
       "\\begin{tabular}{r|lllllllllllll}\n",
       " laptop\\_ID & Company & Product & TypeName & Inches & ScreenResolution & Cpu & Ram & Memory & Gpu & OpSys & Weight & Price\\_euros\\\\\n",
       "\\hline\n",
       "\t 1                                  & Apple                              & MacBook Pro                        & Ultrabook                          & 13.3                               & IPS Panel Retina Display 2560x1600 & Intel Core i5 2.3GHz               & 8GB                                & 128GB SSD                          & Intel Iris Plus Graphics 640       & macOS                              & 1.37kg                             & 1339.69                           \\\\\n",
       "\t 2                                  & Apple                              & Macbook Air                        & Ultrabook                          & 13.3                               & 1440x900                           & Intel Core i5 1.8GHz               & 8GB                                & 128GB Flash Storage                & Intel HD Graphics 6000             & macOS                              & 1.34kg                             &  898.94                           \\\\\n",
       "\t 3                                  & HP                                 & 250 G6                             & Notebook                           & 15.6                               & Full HD 1920x1080                  & Intel Core i5 7200U 2.5GHz         & 8GB                                & 256GB SSD                          & Intel HD Graphics 620              & No OS                              & 1.86kg                             &  575.00                           \\\\\n",
       "\t 4                                  & Apple                              & MacBook Pro                        & Ultrabook                          & 15.4                               & IPS Panel Retina Display 2880x1800 & Intel Core i7 2.7GHz               & 16GB                               & 512GB SSD                          & AMD Radeon Pro 455                 & macOS                              & 1.83kg                             & 2537.45                           \\\\\n",
       "\t 5                                  & Apple                              & MacBook Pro                        & Ultrabook                          & 13.3                               & IPS Panel Retina Display 2560x1600 & Intel Core i5 3.1GHz               & 8GB                                & 256GB SSD                          & Intel Iris Plus Graphics 650       & macOS                              & 1.37kg                             & 1803.60                           \\\\\n",
       "\t 6                                  & Acer                               & Aspire 3                           & Notebook                           & 15.6                               & 1366x768                           & AMD A9-Series 9420 3GHz            & 4GB                                & 500GB HDD                          & AMD Radeon R5                      & Windows 10                         & 2.1kg                              &  400.00                           \\\\\n",
       "\\end{tabular}\n"
      ],
      "text/markdown": [
       "\n",
       "| laptop_ID | Company | Product | TypeName | Inches | ScreenResolution | Cpu | Ram | Memory | Gpu | OpSys | Weight | Price_euros |\n",
       "|---|---|---|---|---|---|---|---|---|---|---|---|---|\n",
       "| 1                                  | Apple                              | MacBook Pro                        | Ultrabook                          | 13.3                               | IPS Panel Retina Display 2560x1600 | Intel Core i5 2.3GHz               | 8GB                                | 128GB SSD                          | Intel Iris Plus Graphics 640       | macOS                              | 1.37kg                             | 1339.69                            |\n",
       "| 2                                  | Apple                              | Macbook Air                        | Ultrabook                          | 13.3                               | 1440x900                           | Intel Core i5 1.8GHz               | 8GB                                | 128GB Flash Storage                | Intel HD Graphics 6000             | macOS                              | 1.34kg                             |  898.94                            |\n",
       "| 3                                  | HP                                 | 250 G6                             | Notebook                           | 15.6                               | Full HD 1920x1080                  | Intel Core i5 7200U 2.5GHz         | 8GB                                | 256GB SSD                          | Intel HD Graphics 620              | No OS                              | 1.86kg                             |  575.00                            |\n",
       "| 4                                  | Apple                              | MacBook Pro                        | Ultrabook                          | 15.4                               | IPS Panel Retina Display 2880x1800 | Intel Core i7 2.7GHz               | 16GB                               | 512GB SSD                          | AMD Radeon Pro 455                 | macOS                              | 1.83kg                             | 2537.45                            |\n",
       "| 5                                  | Apple                              | MacBook Pro                        | Ultrabook                          | 13.3                               | IPS Panel Retina Display 2560x1600 | Intel Core i5 3.1GHz               | 8GB                                | 256GB SSD                          | Intel Iris Plus Graphics 650       | macOS                              | 1.37kg                             | 1803.60                            |\n",
       "| 6                                  | Acer                               | Aspire 3                           | Notebook                           | 15.6                               | 1366x768                           | AMD A9-Series 9420 3GHz            | 4GB                                | 500GB HDD                          | AMD Radeon R5                      | Windows 10                         | 2.1kg                              |  400.00                            |\n",
       "\n"
      ],
      "text/plain": [
       "  laptop_ID Company Product     TypeName  Inches\n",
       "1 1         Apple   MacBook Pro Ultrabook 13.3  \n",
       "2 2         Apple   Macbook Air Ultrabook 13.3  \n",
       "3 3         HP      250 G6      Notebook  15.6  \n",
       "4 4         Apple   MacBook Pro Ultrabook 15.4  \n",
       "5 5         Apple   MacBook Pro Ultrabook 13.3  \n",
       "6 6         Acer    Aspire 3    Notebook  15.6  \n",
       "  ScreenResolution                   Cpu                        Ram \n",
       "1 IPS Panel Retina Display 2560x1600 Intel Core i5 2.3GHz       8GB \n",
       "2 1440x900                           Intel Core i5 1.8GHz       8GB \n",
       "3 Full HD 1920x1080                  Intel Core i5 7200U 2.5GHz 8GB \n",
       "4 IPS Panel Retina Display 2880x1800 Intel Core i7 2.7GHz       16GB\n",
       "5 IPS Panel Retina Display 2560x1600 Intel Core i5 3.1GHz       8GB \n",
       "6 1366x768                           AMD A9-Series 9420 3GHz    4GB \n",
       "  Memory              Gpu                          OpSys      Weight\n",
       "1 128GB SSD           Intel Iris Plus Graphics 640 macOS      1.37kg\n",
       "2 128GB Flash Storage Intel HD Graphics 6000       macOS      1.34kg\n",
       "3 256GB SSD           Intel HD Graphics 620        No OS      1.86kg\n",
       "4 512GB SSD           AMD Radeon Pro 455           macOS      1.83kg\n",
       "5 256GB SSD           Intel Iris Plus Graphics 650 macOS      1.37kg\n",
       "6 500GB HDD           AMD Radeon R5                Windows 10 2.1kg \n",
       "  Price_euros\n",
       "1 1339.69    \n",
       "2  898.94    \n",
       "3  575.00    \n",
       "4 2537.45    \n",
       "5 1803.60    \n",
       "6  400.00    "
      ]
     },
     "metadata": {},
     "output_type": "display_data"
    }
   ],
   "source": [
    "data <- read.csv('laptop_price.csv')\n",
    "head(data)"
   ]
  },
  {
   "cell_type": "code",
   "execution_count": 3,
   "id": "b5436ca0",
   "metadata": {},
   "outputs": [],
   "source": [
    "data$Weight<-gsub(\"kg\",\"\",data$Weight)\n",
    "data$Ram<-gsub(\"GB\",\"\", data$Ram)\n"
   ]
  },
  {
   "cell_type": "code",
   "execution_count": 4,
   "id": "fb2b166e",
   "metadata": {},
   "outputs": [
    {
     "data": {
      "text/html": [
       "<table>\n",
       "<thead><tr><th scope=col>laptop_ID</th><th scope=col>Company</th><th scope=col>Product</th><th scope=col>TypeName</th><th scope=col>Inches</th><th scope=col>ScreenResolution</th><th scope=col>Cpu</th><th scope=col>Ram</th><th scope=col>Memory</th><th scope=col>Gpu</th><th scope=col>OpSys</th><th scope=col>Weight</th><th scope=col>Price_euros</th></tr></thead>\n",
       "<tbody>\n",
       "\t<tr><td>1                                 </td><td>Apple                             </td><td>MacBook Pro                       </td><td>Ultrabook                         </td><td>13.3                              </td><td>IPS Panel Retina Display 2560x1600</td><td>Intel Core i5 2.3GHz              </td><td> 8                                </td><td>128GB SSD                         </td><td>Intel Iris Plus Graphics 640      </td><td>macOS                             </td><td>1.37                              </td><td>1339.69                           </td></tr>\n",
       "\t<tr><td>2                                 </td><td>Apple                             </td><td>Macbook Air                       </td><td>Ultrabook                         </td><td>13.3                              </td><td>1440x900                          </td><td>Intel Core i5 1.8GHz              </td><td> 8                                </td><td>128GB Flash Storage               </td><td>Intel HD Graphics 6000            </td><td>macOS                             </td><td>1.34                              </td><td> 898.94                           </td></tr>\n",
       "\t<tr><td>3                                 </td><td>HP                                </td><td>250 G6                            </td><td>Notebook                          </td><td>15.6                              </td><td>Full HD 1920x1080                 </td><td>Intel Core i5 7200U 2.5GHz        </td><td> 8                                </td><td>256GB SSD                         </td><td>Intel HD Graphics 620             </td><td>No OS                             </td><td>1.86                              </td><td> 575.00                           </td></tr>\n",
       "\t<tr><td>4                                 </td><td>Apple                             </td><td>MacBook Pro                       </td><td>Ultrabook                         </td><td>15.4                              </td><td>IPS Panel Retina Display 2880x1800</td><td>Intel Core i7 2.7GHz              </td><td>16                                </td><td>512GB SSD                         </td><td>AMD Radeon Pro 455                </td><td>macOS                             </td><td>1.83                              </td><td>2537.45                           </td></tr>\n",
       "\t<tr><td>5                                 </td><td>Apple                             </td><td>MacBook Pro                       </td><td>Ultrabook                         </td><td>13.3                              </td><td>IPS Panel Retina Display 2560x1600</td><td>Intel Core i5 3.1GHz              </td><td> 8                                </td><td>256GB SSD                         </td><td>Intel Iris Plus Graphics 650      </td><td>macOS                             </td><td>1.37                              </td><td>1803.60                           </td></tr>\n",
       "\t<tr><td>6                                 </td><td>Acer                              </td><td>Aspire 3                          </td><td>Notebook                          </td><td>15.6                              </td><td>1366x768                          </td><td>AMD A9-Series 9420 3GHz           </td><td> 4                                </td><td>500GB HDD                         </td><td>AMD Radeon R5                     </td><td>Windows 10                        </td><td>2.10                              </td><td> 400.00                           </td></tr>\n",
       "</tbody>\n",
       "</table>\n"
      ],
      "text/latex": [
       "\\begin{tabular}{r|lllllllllllll}\n",
       " laptop\\_ID & Company & Product & TypeName & Inches & ScreenResolution & Cpu & Ram & Memory & Gpu & OpSys & Weight & Price\\_euros\\\\\n",
       "\\hline\n",
       "\t 1                                  & Apple                              & MacBook Pro                        & Ultrabook                          & 13.3                               & IPS Panel Retina Display 2560x1600 & Intel Core i5 2.3GHz               &  8                                 & 128GB SSD                          & Intel Iris Plus Graphics 640       & macOS                              & 1.37                               & 1339.69                           \\\\\n",
       "\t 2                                  & Apple                              & Macbook Air                        & Ultrabook                          & 13.3                               & 1440x900                           & Intel Core i5 1.8GHz               &  8                                 & 128GB Flash Storage                & Intel HD Graphics 6000             & macOS                              & 1.34                               &  898.94                           \\\\\n",
       "\t 3                                  & HP                                 & 250 G6                             & Notebook                           & 15.6                               & Full HD 1920x1080                  & Intel Core i5 7200U 2.5GHz         &  8                                 & 256GB SSD                          & Intel HD Graphics 620              & No OS                              & 1.86                               &  575.00                           \\\\\n",
       "\t 4                                  & Apple                              & MacBook Pro                        & Ultrabook                          & 15.4                               & IPS Panel Retina Display 2880x1800 & Intel Core i7 2.7GHz               & 16                                 & 512GB SSD                          & AMD Radeon Pro 455                 & macOS                              & 1.83                               & 2537.45                           \\\\\n",
       "\t 5                                  & Apple                              & MacBook Pro                        & Ultrabook                          & 13.3                               & IPS Panel Retina Display 2560x1600 & Intel Core i5 3.1GHz               &  8                                 & 256GB SSD                          & Intel Iris Plus Graphics 650       & macOS                              & 1.37                               & 1803.60                           \\\\\n",
       "\t 6                                  & Acer                               & Aspire 3                           & Notebook                           & 15.6                               & 1366x768                           & AMD A9-Series 9420 3GHz            &  4                                 & 500GB HDD                          & AMD Radeon R5                      & Windows 10                         & 2.10                               &  400.00                           \\\\\n",
       "\\end{tabular}\n"
      ],
      "text/markdown": [
       "\n",
       "| laptop_ID | Company | Product | TypeName | Inches | ScreenResolution | Cpu | Ram | Memory | Gpu | OpSys | Weight | Price_euros |\n",
       "|---|---|---|---|---|---|---|---|---|---|---|---|---|\n",
       "| 1                                  | Apple                              | MacBook Pro                        | Ultrabook                          | 13.3                               | IPS Panel Retina Display 2560x1600 | Intel Core i5 2.3GHz               |  8                                 | 128GB SSD                          | Intel Iris Plus Graphics 640       | macOS                              | 1.37                               | 1339.69                            |\n",
       "| 2                                  | Apple                              | Macbook Air                        | Ultrabook                          | 13.3                               | 1440x900                           | Intel Core i5 1.8GHz               |  8                                 | 128GB Flash Storage                | Intel HD Graphics 6000             | macOS                              | 1.34                               |  898.94                            |\n",
       "| 3                                  | HP                                 | 250 G6                             | Notebook                           | 15.6                               | Full HD 1920x1080                  | Intel Core i5 7200U 2.5GHz         |  8                                 | 256GB SSD                          | Intel HD Graphics 620              | No OS                              | 1.86                               |  575.00                            |\n",
       "| 4                                  | Apple                              | MacBook Pro                        | Ultrabook                          | 15.4                               | IPS Panel Retina Display 2880x1800 | Intel Core i7 2.7GHz               | 16                                 | 512GB SSD                          | AMD Radeon Pro 455                 | macOS                              | 1.83                               | 2537.45                            |\n",
       "| 5                                  | Apple                              | MacBook Pro                        | Ultrabook                          | 13.3                               | IPS Panel Retina Display 2560x1600 | Intel Core i5 3.1GHz               |  8                                 | 256GB SSD                          | Intel Iris Plus Graphics 650       | macOS                              | 1.37                               | 1803.60                            |\n",
       "| 6                                  | Acer                               | Aspire 3                           | Notebook                           | 15.6                               | 1366x768                           | AMD A9-Series 9420 3GHz            |  4                                 | 500GB HDD                          | AMD Radeon R5                      | Windows 10                         | 2.10                               |  400.00                            |\n",
       "\n"
      ],
      "text/plain": [
       "  laptop_ID Company Product     TypeName  Inches\n",
       "1 1         Apple   MacBook Pro Ultrabook 13.3  \n",
       "2 2         Apple   Macbook Air Ultrabook 13.3  \n",
       "3 3         HP      250 G6      Notebook  15.6  \n",
       "4 4         Apple   MacBook Pro Ultrabook 15.4  \n",
       "5 5         Apple   MacBook Pro Ultrabook 13.3  \n",
       "6 6         Acer    Aspire 3    Notebook  15.6  \n",
       "  ScreenResolution                   Cpu                        Ram\n",
       "1 IPS Panel Retina Display 2560x1600 Intel Core i5 2.3GHz        8 \n",
       "2 1440x900                           Intel Core i5 1.8GHz        8 \n",
       "3 Full HD 1920x1080                  Intel Core i5 7200U 2.5GHz  8 \n",
       "4 IPS Panel Retina Display 2880x1800 Intel Core i7 2.7GHz       16 \n",
       "5 IPS Panel Retina Display 2560x1600 Intel Core i5 3.1GHz        8 \n",
       "6 1366x768                           AMD A9-Series 9420 3GHz     4 \n",
       "  Memory              Gpu                          OpSys      Weight\n",
       "1 128GB SSD           Intel Iris Plus Graphics 640 macOS      1.37  \n",
       "2 128GB Flash Storage Intel HD Graphics 6000       macOS      1.34  \n",
       "3 256GB SSD           Intel HD Graphics 620        No OS      1.86  \n",
       "4 512GB SSD           AMD Radeon Pro 455           macOS      1.83  \n",
       "5 256GB SSD           Intel Iris Plus Graphics 650 macOS      1.37  \n",
       "6 500GB HDD           AMD Radeon R5                Windows 10 2.10  \n",
       "  Price_euros\n",
       "1 1339.69    \n",
       "2  898.94    \n",
       "3  575.00    \n",
       "4 2537.45    \n",
       "5 1803.60    \n",
       "6  400.00    "
      ]
     },
     "metadata": {},
     "output_type": "display_data"
    }
   ],
   "source": [
    "data$Weight <- as.numeric(data$Weight)\n",
    "data$Ram <- as.numeric(data$Ram)\n",
    "head(data)"
   ]
  },
  {
   "cell_type": "code",
   "execution_count": 5,
   "id": "acea3d6b",
   "metadata": {},
   "outputs": [
    {
     "name": "stderr",
     "output_type": "stream",
     "text": [
      "`stat_bin()` using `bins = 30`. Pick better value with `binwidth`.\n",
      "\n"
     ]
    },
    {
     "data": {
      "image/png": "[encoded data removed]",
      "text/plain": [
       "plot without title"
      ]
     },
     "metadata": {
      "image/png": {
       "height": 420,
       "width": 420
      }
     },
     "output_type": "display_data"
    }
   ],
   "source": [
    "ggplot(data = data, mapping = aes(x=Price_euros)) + \n",
    "  geom_histogram(aes(y=..density..),fill=\"green\",color=\"white\",alpha=1) + \n",
    "  geom_density() +\n",
    "  geom_rug() +\n",
    "  labs(x='price') +\n",
    "  theme_minimal()"
   ]
  },
  {
   "cell_type": "code",
   "execution_count": 6,
   "id": "c32eb6c3",
   "metadata": {},
   "outputs": [
    {
     "data": {
      "image/png": "[encoded data removed]",
      "text/plain": [
       "plot without title"
      ]
     },
     "metadata": {
      "image/png": {
       "height": 420,
       "width": 420
      }
     },
     "output_type": "display_data"
    }
   ],
   "source": [
    "ggplot(data) +\n",
    "  geom_bar(aes(y = Company), fill = \"pink\") +\n",
    "  xlab(\"Count\") + ylab(\"Company\")"
   ]
  },
  {
   "cell_type": "code",
   "execution_count": 7,
   "id": "fe9ff6fa",
   "metadata": {},
   "outputs": [
    {
     "data": {
      "image/png": "[encoded data removed]",
      "text/plain": [
       "plot without title"
      ]
     },
     "metadata": {
      "image/png": {
       "height": 420,
       "width": 420
      }
     },
     "output_type": "display_data"
    }
   ],
   "source": [
    "ggplot(data) +\n",
    "  geom_bar(aes(y = TypeName), fill = \"orange\") +\n",
    "  xlab(\"Count\") + ylab(\"TypeName\")"
   ]
  },
  {
   "cell_type": "code",
   "execution_count": 8,
   "id": "446567ba",
   "metadata": {},
   "outputs": [],
   "source": [
    "data$Memory<-gsub(\".0\",\"\",data$Memory)\n",
    "data$Memory<-gsub(\"GB\",\"\",data$Memory)\n",
    "data$Memory<-gsub(\"TB\",\"000\",data$Memory)"
   ]
  },
  {
   "cell_type": "code",
   "execution_count": 9,
   "id": "517e4366",
   "metadata": {},
   "outputs": [
    {
     "data": {
      "text/html": [
       "<table>\n",
       "<thead><tr><th></th><th scope=col>laptop_ID</th><th scope=col>Company</th><th scope=col>Product</th><th scope=col>TypeName</th><th scope=col>Inches</th><th scope=col>ScreenResolution</th><th scope=col>Cpu</th><th scope=col>Ram</th><th scope=col>Memory</th><th scope=col>Gpu</th><th scope=col>OpSys</th><th scope=col>Weight</th><th scope=col>Price_euros</th></tr></thead>\n",
       "<tbody>\n",
       "\t<tr><th scope=row>1254</th><td>1271                                      </td><td>Lenovo                                    </td><td>ThinkPad L460                             </td><td>Notebook                                  </td><td>14.0                                      </td><td>IPS Panel Full HD 1920x1080               </td><td>Intel Core i5 6200U 2.3GHz                </td><td> 8                                        </td><td>256 SSD                                   </td><td>Intel HD Graphics 520                     </td><td>Windows 10                                </td><td>1.90                                      </td><td>1072.00                                   </td></tr>\n",
       "\t<tr><th scope=row>1255</th><td>1272                                      </td><td>Dell                                      </td><td>Inspiron 3552                             </td><td>Notebook                                  </td><td>15.6                                      </td><td>1366x768                                  </td><td>Intel Pentium Quad Core N3700 1.6GHz      </td><td> 4                                        </td><td>0 HDD                                     </td><td>Intel HD Graphics                         </td><td>Windows 10                                </td><td>2.20                                      </td><td> 443.99                                   </td></tr>\n",
       "\t<tr><th scope=row>1256</th><td>1273                                      </td><td>Asus                                      </td><td>X541NA-GO020T (N3350/4GB/1TB/W10)         </td><td>Notebook                                  </td><td>15.6                                      </td><td>1366x768                                  </td><td>Intel Celeron Dual Core N3350 1.1GHz      </td><td> 4                                        </td><td>1000 HDD                                  </td><td>Intel HD Graphics 500                     </td><td>Windows 10                                </td><td>2.00                                      </td><td> 339.00                                   </td></tr>\n",
       "\t<tr><th scope=row>1257</th><td>1274                                      </td><td>Asus                                      </td><td>Rog G752VT-GC073T                         </td><td>Gaming                                    </td><td>17.3                                      </td><td>IPS Panel Full HD 1920x1080               </td><td>Intel Core i7 6700HQ 2.6GHz               </td><td>16                                        </td><td>128 SSD +  1000 HDD                       </td><td>Nvidia GeForce GTX 970M                   </td><td>Windows 10                                </td><td>4.00                                      </td><td>1900.00                                   </td></tr>\n",
       "\t<tr><th scope=row>1258</th><td>1275                                      </td><td>Dell                                      </td><td>Vostro 3568                               </td><td>Notebook                                  </td><td>15.6                                      </td><td>1366x768                                  </td><td>Intel Core i3 6006U 2GHz                  </td><td> 4                                        </td><td>0 HDD                                     </td><td>Intel HD Graphics 520                     </td><td>Windows 10                                </td><td>2.29                                      </td><td> 490.00                                   </td></tr>\n",
       "\t<tr><th scope=row>1259</th><td>1276                                      </td><td>Lenovo                                    </td><td>B51-80 (i7-6500U/8GB/1008GB/Radeon        </td><td>Notebook                                  </td><td>15.6                                      </td><td>Full HD 1920x1080                         </td><td>Intel Core i7 6500U 2.5GHz                </td><td> 8                                        </td><td>1000 Hybrid                               </td><td>AMD Radeon R5 M330                        </td><td>Windows 7                                 </td><td>2.32                                      </td><td> 895.00                                   </td></tr>\n",
       "\t<tr><th scope=row>1260</th><td>1277                                      </td><td>MSI                                       </td><td>GE62 Apache                               </td><td>Gaming                                    </td><td>15.6                                      </td><td>Full HD 1920x1080                         </td><td>Intel Core i7 6700HQ 2.6GHz               </td><td> 8                                        </td><td>128 SSD +  1000 HDD                       </td><td>Nvidia GeForce GTX 960M                   </td><td>Windows 10                                </td><td>2.40                                      </td><td>1229.00                                   </td></tr>\n",
       "\t<tr><th scope=row>1261</th><td>1278                                      </td><td>Lenovo                                    </td><td>Yoga 500-14IBD                            </td><td>2 in 1 Convertible                        </td><td>14.0                                      </td><td>Full HD / Touchscreen 1920x1080           </td><td>Intel Core i5 6200U 2.3GHz                </td><td> 4                                        </td><td>128 SSD                                   </td><td>Intel HD Graphics 520                     </td><td>Windows 10                                </td><td>1.80                                      </td><td> 833.01                                   </td></tr>\n",
       "\t<tr><th scope=row>1262</th><td>1279                                      </td><td>Asus                                      </td><td>ZenBook UX305CA-UBM1                      </td><td>Ultrabook                                 </td><td>13.3                                      </td><td>IPS Panel Full HD 1920x1080               </td><td>Intel Core M 6Y30 0.9GHz                  </td><td> 8                                        </td><td>512 SSD                                   </td><td>Intel HD Graphics 515                     </td><td>Windows 10                                </td><td>1.20                                      </td><td> 729.00                                   </td></tr>\n",
       "\t<tr><th scope=row>1263</th><td>1280                                      </td><td>Dell                                      </td><td>Inspiron 3567                             </td><td>Notebook                                  </td><td>15.6                                      </td><td>1366x768                                  </td><td>Intel Core i3 7100U 2.4GHz                </td><td> 6                                        </td><td>1000 HDD                                  </td><td>Intel HD Graphics 620                     </td><td>Windows 10                                </td><td>2.30                                      </td><td> 459.00                                   </td></tr>\n",
       "\t<tr><th scope=row>1264</th><td>1281                                      </td><td>Acer                                      </td><td>Aspire ES1-531                            </td><td>Notebook                                  </td><td>15.6                                      </td><td>1366x768                                  </td><td>Intel Celeron Dual Core N3060 1.6GHz      </td><td> 4                                        </td><td>0 HDD                                     </td><td>Intel HD Graphics 400                     </td><td>Linux                                     </td><td>2.40                                      </td><td> 289.00                                   </td></tr>\n",
       "\t<tr><th scope=row>1265</th><td>1282                                      </td><td>Dell                                      </td><td>Inspiron 3552                             </td><td>Notebook                                  </td><td>15.6                                      </td><td>1366x768                                  </td><td>Intel Celeron Dual Core N3050 1.6GHz      </td><td> 2                                        </td><td>0 HDD                                     </td><td>Intel HD Graphics                         </td><td>Windows 10                                </td><td>2.20                                      </td><td> 379.00                                   </td></tr>\n",
       "\t<tr><th scope=row>1266</th><td>1283                                      </td><td>Lenovo                                    </td><td>IdeaPad Y700-15ISK                        </td><td>Notebook                                  </td><td>15.6                                      </td><td>IPS Panel Full HD 1920x1080               </td><td>Intel Core i7 6700HQ 2.6GHz               </td><td> 8                                        </td><td>1000 HDD                                  </td><td>Nvidia GeForce GTX 960M                   </td><td>Windows 10                                </td><td>2.60                                      </td><td> 899.00                                   </td></tr>\n",
       "\t<tr><th scope=row>1267</th><td>1284                                      </td><td>HP                                        </td><td>Pavilion 15-AW003nv                       </td><td>Notebook                                  </td><td>15.6                                      </td><td>Full HD 1920x1080                         </td><td>AMD A9-Series 9410 2.9GHz                 </td><td> 6                                        </td><td>1000 Hybrid                               </td><td>AMD Radeon R7 M440                        </td><td>Windows 10                                </td><td>2.04                                      </td><td> 549.99                                   </td></tr>\n",
       "\t<tr><th scope=row>1268</th><td>1285                                      </td><td>Dell                                      </td><td>Inspiron 3567                             </td><td>Notebook                                  </td><td>15.6                                      </td><td>1366x768                                  </td><td>Intel Core i7 7500U 2.7GHz                </td><td> 8                                        </td><td>1000 HDD                                  </td><td>AMD Radeon R5 M430                        </td><td>Linux                                     </td><td>2.30                                      </td><td> 805.99                                   </td></tr>\n",
       "\t<tr><th scope=row>1269</th><td>1286                                      </td><td>HP                                        </td><td>Stream 11-Y000na                          </td><td>Netbook                                   </td><td>11.6                                      </td><td>1366x768                                  </td><td>Intel Celeron Dual Core N3060 1.6GHz      </td><td> 2                                        </td><td>32 Flash Storage                          </td><td>Intel HD Graphics 400                     </td><td>Windows 10                                </td><td>1.17                                      </td><td> 209.00                                   </td></tr>\n",
       "\t<tr><th scope=row>1270</th><td>1287                                      </td><td>Asus                                      </td><td>X556UJ-XO044T (i7-6500U/4GB/500GB/GeForce </td><td>Notebook                                  </td><td>15.6                                      </td><td>1366x768                                  </td><td>Intel Core i7 6500U 2.5GHz                </td><td> 4                                        </td><td>0 HDD                                     </td><td>Nvidia GeForce 920M                       </td><td>Windows 10                                </td><td>2.20                                      </td><td> 720.32                                   </td></tr>\n",
       "\t<tr><th scope=row>1271</th><td>1288                                      </td><td>Lenovo                                    </td><td>Yoga 500-14ISK                            </td><td>2 in 1 Convertible                        </td><td>14.0                                      </td><td>IPS Panel Full HD / Touchscreen 1920x1080 </td><td>Intel Core i7 6500U 2.5GHz                </td><td> 4                                        </td><td>128 SSD                                   </td><td>Intel HD Graphics 520                     </td><td>Windows 10                                </td><td>1.80                                      </td><td> 638.00                                   </td></tr>\n",
       "\t<tr><th scope=row>1272</th><td>1289                                      </td><td>Lenovo                                    </td><td>Yoga 900-13ISK                            </td><td>2 in 1 Convertible                        </td><td>13.3                                      </td><td>IPS Panel Quad HD+ / Touchscreen 3200x1800</td><td>Intel Core i7 6500U 2.5GHz                </td><td>16                                        </td><td>512 SSD                                   </td><td>Intel HD Graphics 520                     </td><td>Windows 10                                </td><td>1.30                                      </td><td>1499.00                                   </td></tr>\n",
       "\t<tr><th scope=row>1273</th><td>1290                                      </td><td>Lenovo                                    </td><td>IdeaPad 100S-14IBR                        </td><td>Notebook                                  </td><td>14.0                                      </td><td>1366x768                                  </td><td>Intel Celeron Dual Core N3050 1.6GHz      </td><td> 2                                        </td><td>64 Flash Storage                          </td><td>Intel HD Graphics                         </td><td>Windows 10                                </td><td>1.50                                      </td><td> 229.00                                   </td></tr>\n",
       "\t<tr><th scope=row>1274</th><td>1291                                      </td><td>HP                                        </td><td>15-AC110nv (i7-6500U/6GB/1TB/Radeon       </td><td>Notebook                                  </td><td>15.6                                      </td><td>1366x768                                  </td><td>Intel Core i7 6500U 2.5GHz                </td><td> 6                                        </td><td>1000 HDD                                  </td><td>AMD Radeon R5 M330                        </td><td>Windows 10                                </td><td>2.19                                      </td><td> 764.00                                   </td></tr>\n",
       "\t<tr><th scope=row>1275</th><td>1292                                      </td><td>Asus                                      </td><td>X553SA-XX031T (N3050/4GB/500GB/W10)       </td><td>Notebook                                  </td><td>15.6                                      </td><td>1366x768                                  </td><td>Intel Celeron Dual Core N3050 1.6GHz      </td><td> 4                                        </td><td>0 HDD                                     </td><td>Intel HD Graphics                         </td><td>Windows 10                                </td><td>2.20                                      </td><td> 369.00                                   </td></tr>\n",
       "\t<tr><th scope=row>1276</th><td>1293                                      </td><td>Asus                                      </td><td>ZenBook UX305CA-UBM1                      </td><td>Ultrabook                                 </td><td>13.3                                      </td><td>IPS Panel Full HD 1920x1080               </td><td>Intel Core M 6Y30 0.9GHz                  </td><td> 8                                        </td><td>512 SSD                                   </td><td>Intel HD Graphics 515                     </td><td>Windows 10                                </td><td>1.20                                      </td><td> 729.00                                   </td></tr>\n",
       "\t<tr><th scope=row>1277</th><td>1294                                      </td><td>Dell                                      </td><td>Inspiron 3567                             </td><td>Notebook                                  </td><td>15.6                                      </td><td>1366x768                                  </td><td>Intel Core i3 7100U 2.4GHz                </td><td> 6                                        </td><td>1000 HDD                                  </td><td>Intel HD Graphics 620                     </td><td>Windows 10                                </td><td>2.30                                      </td><td> 459.00                                   </td></tr>\n",
       "\t<tr><th scope=row>1278</th><td>1295                                      </td><td>Acer                                      </td><td>Aspire ES1-531                            </td><td>Notebook                                  </td><td>15.6                                      </td><td>1366x768                                  </td><td>Intel Celeron Dual Core N3060 1.6GHz      </td><td> 4                                        </td><td>0 HDD                                     </td><td>Intel HD Graphics 400                     </td><td>Linux                                     </td><td>2.40                                      </td><td> 289.00                                   </td></tr>\n",
       "\t<tr><th scope=row>1279</th><td>1296                                      </td><td>Dell                                      </td><td>Inspiron 3552                             </td><td>Notebook                                  </td><td>15.6                                      </td><td>1366x768                                  </td><td>Intel Celeron Dual Core N3050 1.6GHz      </td><td> 2                                        </td><td>0 HDD                                     </td><td>Intel HD Graphics                         </td><td>Windows 10                                </td><td>2.20                                      </td><td> 379.00                                   </td></tr>\n",
       "\t<tr><th scope=row>1280</th><td>1297                                      </td><td>Lenovo                                    </td><td>IdeaPad Y700-15ISK                        </td><td>Notebook                                  </td><td>15.6                                      </td><td>IPS Panel Full HD 1920x1080               </td><td>Intel Core i7 6700HQ 2.6GHz               </td><td> 8                                        </td><td>1000 HDD                                  </td><td>Nvidia GeForce GTX 960M                   </td><td>Windows 10                                </td><td>2.60                                      </td><td> 899.00                                   </td></tr>\n",
       "\t<tr><th scope=row>1281</th><td>1298                                      </td><td>HP                                        </td><td>Pavilion 15-AW003nv                       </td><td>Notebook                                  </td><td>15.6                                      </td><td>Full HD 1920x1080                         </td><td>AMD A9-Series 9410 2.9GHz                 </td><td> 6                                        </td><td>1000 Hybrid                               </td><td>AMD Radeon R7 M440                        </td><td>Windows 10                                </td><td>2.04                                      </td><td> 549.99                                   </td></tr>\n",
       "\t<tr><th scope=row>1282</th><td>1299                                      </td><td>Dell                                      </td><td>Inspiron 3567                             </td><td>Notebook                                  </td><td>15.6                                      </td><td>1366x768                                  </td><td>Intel Core i7 7500U 2.7GHz                </td><td> 8                                        </td><td>1000 HDD                                  </td><td>AMD Radeon R5 M430                        </td><td>Linux                                     </td><td>2.30                                      </td><td> 805.99                                   </td></tr>\n",
       "\t<tr><th scope=row>1283</th><td>1300                                      </td><td>HP                                        </td><td>Stream 11-Y000na                          </td><td>Netbook                                   </td><td>11.6                                      </td><td>1366x768                                  </td><td>Intel Celeron Dual Core N3060 1.6GHz      </td><td> 2                                        </td><td>32 Flash Storage                          </td><td>Intel HD Graphics 400                     </td><td>Windows 10                                </td><td>1.17                                      </td><td> 209.00                                   </td></tr>\n",
       "\t<tr><th scope=row>1284</th><td>1301                                      </td><td>Asus                                      </td><td>X556UJ-XO044T (i7-6500U/4GB/500GB/GeForce </td><td>Notebook                                  </td><td>15.6                                      </td><td>1366x768                                  </td><td>Intel Core i7 6500U 2.5GHz                </td><td> 4                                        </td><td>0 HDD                                     </td><td>Nvidia GeForce 920M                       </td><td>Windows 10                                </td><td>2.20                                      </td><td> 720.32                                   </td></tr>\n",
       "\t<tr><th scope=row>1285</th><td>1302                                      </td><td>Lenovo                                    </td><td>Yoga 500-14ISK                            </td><td>2 in 1 Convertible                        </td><td>14.0                                      </td><td>IPS Panel Full HD / Touchscreen 1920x1080 </td><td>Intel Core i7 6500U 2.5GHz                </td><td> 4                                        </td><td>128 SSD                                   </td><td>Intel HD Graphics 520                     </td><td>Windows 10                                </td><td>1.80                                      </td><td> 638.00                                   </td></tr>\n",
       "\t<tr><th scope=row>1286</th><td>1303                                      </td><td>Lenovo                                    </td><td>Yoga 900-13ISK                            </td><td>2 in 1 Convertible                        </td><td>13.3                                      </td><td>IPS Panel Quad HD+ / Touchscreen 3200x1800</td><td>Intel Core i7 6500U 2.5GHz                </td><td>16                                        </td><td>512 SSD                                   </td><td>Intel HD Graphics 520                     </td><td>Windows 10                                </td><td>1.30                                      </td><td>1499.00                                   </td></tr>\n",
       "\t<tr><th scope=row>1287</th><td>1304                                      </td><td>Lenovo                                    </td><td>IdeaPad 100S-14IBR                        </td><td>Notebook                                  </td><td>14.0                                      </td><td>1366x768                                  </td><td>Intel Celeron Dual Core N3050 1.6GHz      </td><td> 2                                        </td><td>64 Flash Storage                          </td><td>Intel HD Graphics                         </td><td>Windows 10                                </td><td>1.50                                      </td><td> 229.00                                   </td></tr>\n",
       "\t<tr><th scope=row>1288</th><td>1305                                      </td><td>HP                                        </td><td>15-AC110nv (i7-6500U/6GB/1TB/Radeon       </td><td>Notebook                                  </td><td>15.6                                      </td><td>1366x768                                  </td><td>Intel Core i7 6500U 2.5GHz                </td><td> 6                                        </td><td>1000 HDD                                  </td><td>AMD Radeon R5 M330                        </td><td>Windows 10                                </td><td>2.19                                      </td><td> 764.00                                   </td></tr>\n",
       "\t<tr><th scope=row>1289</th><td>1306                                      </td><td>Asus                                      </td><td>X553SA-XX031T (N3050/4GB/500GB/W10)       </td><td>Notebook                                  </td><td>15.6                                      </td><td>1366x768                                  </td><td>Intel Celeron Dual Core N3050 1.6GHz      </td><td> 4                                        </td><td>0 HDD                                     </td><td>Intel HD Graphics                         </td><td>Windows 10                                </td><td>2.20                                      </td><td> 369.00                                   </td></tr>\n",
       "\t<tr><th scope=row>1290</th><td>1307                                      </td><td>Asus                                      </td><td>ZenBook UX305CA-UBM1                      </td><td>Ultrabook                                 </td><td>13.3                                      </td><td>IPS Panel Full HD 1920x1080               </td><td>Intel Core M 6Y30 0.9GHz                  </td><td> 8                                        </td><td>512 SSD                                   </td><td>Intel HD Graphics 515                     </td><td>Windows 10                                </td><td>1.20                                      </td><td> 729.00                                   </td></tr>\n",
       "\t<tr><th scope=row>1291</th><td>1308                                      </td><td>Dell                                      </td><td>Inspiron 3567                             </td><td>Notebook                                  </td><td>15.6                                      </td><td>1366x768                                  </td><td>Intel Core i3 7100U 2.4GHz                </td><td> 6                                        </td><td>1000 HDD                                  </td><td>Intel HD Graphics 620                     </td><td>Windows 10                                </td><td>2.30                                      </td><td> 459.00                                   </td></tr>\n",
       "\t<tr><th scope=row>1292</th><td>1309                                      </td><td>Acer                                      </td><td>Aspire ES1-531                            </td><td>Notebook                                  </td><td>15.6                                      </td><td>1366x768                                  </td><td>Intel Celeron Dual Core N3060 1.6GHz      </td><td> 4                                        </td><td>0 HDD                                     </td><td>Intel HD Graphics 400                     </td><td>Linux                                     </td><td>2.40                                      </td><td> 289.00                                   </td></tr>\n",
       "\t<tr><th scope=row>1293</th><td>1310                                      </td><td>Dell                                      </td><td>Inspiron 3552                             </td><td>Notebook                                  </td><td>15.6                                      </td><td>1366x768                                  </td><td>Intel Celeron Dual Core N3050 1.6GHz      </td><td> 2                                        </td><td>0 HDD                                     </td><td>Intel HD Graphics                         </td><td>Windows 10                                </td><td>2.20                                      </td><td> 379.00                                   </td></tr>\n",
       "\t<tr><th scope=row>1294</th><td>1311                                      </td><td>Lenovo                                    </td><td>IdeaPad Y700-15ISK                        </td><td>Notebook                                  </td><td>15.6                                      </td><td>IPS Panel Full HD 1920x1080               </td><td>Intel Core i7 6700HQ 2.6GHz               </td><td> 8                                        </td><td>1000 HDD                                  </td><td>Nvidia GeForce GTX 960M                   </td><td>Windows 10                                </td><td>2.60                                      </td><td> 899.00                                   </td></tr>\n",
       "\t<tr><th scope=row>1295</th><td>1312                                      </td><td>HP                                        </td><td>Pavilion 15-AW003nv                       </td><td>Notebook                                  </td><td>15.6                                      </td><td>Full HD 1920x1080                         </td><td>AMD A9-Series 9410 2.9GHz                 </td><td> 6                                        </td><td>1000 Hybrid                               </td><td>AMD Radeon R7 M440                        </td><td>Windows 10                                </td><td>2.04                                      </td><td> 549.99                                   </td></tr>\n",
       "\t<tr><th scope=row>1296</th><td>1313                                      </td><td>Dell                                      </td><td>Inspiron 3567                             </td><td>Notebook                                  </td><td>15.6                                      </td><td>1366x768                                  </td><td>Intel Core i7 7500U 2.7GHz                </td><td> 8                                        </td><td>1000 HDD                                  </td><td>AMD Radeon R5 M430                        </td><td>Linux                                     </td><td>2.30                                      </td><td> 805.99                                   </td></tr>\n",
       "\t<tr><th scope=row>1297</th><td>1314                                      </td><td>HP                                        </td><td>Stream 11-Y000na                          </td><td>Netbook                                   </td><td>11.6                                      </td><td>1366x768                                  </td><td>Intel Celeron Dual Core N3060 1.6GHz      </td><td> 2                                        </td><td>32 Flash Storage                          </td><td>Intel HD Graphics 400                     </td><td>Windows 10                                </td><td>1.17                                      </td><td> 209.00                                   </td></tr>\n",
       "\t<tr><th scope=row>1298</th><td>1315                                      </td><td>Asus                                      </td><td>X556UJ-XO044T (i7-6500U/4GB/500GB/GeForce </td><td>Notebook                                  </td><td>15.6                                      </td><td>1366x768                                  </td><td>Intel Core i7 6500U 2.5GHz                </td><td> 4                                        </td><td>0 HDD                                     </td><td>Nvidia GeForce 920M                       </td><td>Windows 10                                </td><td>2.20                                      </td><td> 720.32                                   </td></tr>\n",
       "\t<tr><th scope=row>1299</th><td>1316                                      </td><td>Lenovo                                    </td><td>Yoga 500-14ISK                            </td><td>2 in 1 Convertible                        </td><td>14.0                                      </td><td>IPS Panel Full HD / Touchscreen 1920x1080 </td><td>Intel Core i7 6500U 2.5GHz                </td><td> 4                                        </td><td>128 SSD                                   </td><td>Intel HD Graphics 520                     </td><td>Windows 10                                </td><td>1.80                                      </td><td> 638.00                                   </td></tr>\n",
       "\t<tr><th scope=row>1300</th><td>1317                                      </td><td>Lenovo                                    </td><td>Yoga 900-13ISK                            </td><td>2 in 1 Convertible                        </td><td>13.3                                      </td><td>IPS Panel Quad HD+ / Touchscreen 3200x1800</td><td>Intel Core i7 6500U 2.5GHz                </td><td>16                                        </td><td>512 SSD                                   </td><td>Intel HD Graphics 520                     </td><td>Windows 10                                </td><td>1.30                                      </td><td>1499.00                                   </td></tr>\n",
       "\t<tr><th scope=row>1301</th><td>1318                                      </td><td>Lenovo                                    </td><td>IdeaPad 100S-14IBR                        </td><td>Notebook                                  </td><td>14.0                                      </td><td>1366x768                                  </td><td>Intel Celeron Dual Core N3050 1.6GHz      </td><td> 2                                        </td><td>64 Flash Storage                          </td><td>Intel HD Graphics                         </td><td>Windows 10                                </td><td>1.50                                      </td><td> 229.00                                   </td></tr>\n",
       "\t<tr><th scope=row>1302</th><td>1319                                      </td><td>HP                                        </td><td>15-AC110nv (i7-6500U/6GB/1TB/Radeon       </td><td>Notebook                                  </td><td>15.6                                      </td><td>1366x768                                  </td><td>Intel Core i7 6500U 2.5GHz                </td><td> 6                                        </td><td>1000 HDD                                  </td><td>AMD Radeon R5 M330                        </td><td>Windows 10                                </td><td>2.19                                      </td><td> 764.00                                   </td></tr>\n",
       "\t<tr><th scope=row>1303</th><td>1320                                      </td><td>Asus                                      </td><td>X553SA-XX031T (N3050/4GB/500GB/W10)       </td><td>Notebook                                  </td><td>15.6                                      </td><td>1366x768                                  </td><td>Intel Celeron Dual Core N3050 1.6GHz      </td><td> 4                                        </td><td>0 HDD                                     </td><td>Intel HD Graphics                         </td><td>Windows 10                                </td><td>2.20                                      </td><td> 369.00                                   </td></tr>\n",
       "</tbody>\n",
       "</table>\n"
      ],
      "text/latex": [
       "\\begin{tabular}{r|lllllllllllll}\n",
       "  & laptop\\_ID & Company & Product & TypeName & Inches & ScreenResolution & Cpu & Ram & Memory & Gpu & OpSys & Weight & Price\\_euros\\\\\n",
       "\\hline\n",
       "\t1254 & 1271                                       & Lenovo                                     & ThinkPad L460                              & Notebook                                   & 14.0                                       & IPS Panel Full HD 1920x1080                & Intel Core i5 6200U 2.3GHz                 &  8                                         & 256 SSD                                    & Intel HD Graphics 520                      & Windows 10                                 & 1.90                                       & 1072.00                                   \\\\\n",
       "\t1255 & 1272                                       & Dell                                       & Inspiron 3552                              & Notebook                                   & 15.6                                       & 1366x768                                   & Intel Pentium Quad Core N3700 1.6GHz       &  4                                         & 0 HDD                                      & Intel HD Graphics                          & Windows 10                                 & 2.20                                       &  443.99                                   \\\\\n",
       "\t1256 & 1273                                       & Asus                                       & X541NA-GO020T (N3350/4GB/1TB/W10)          & Notebook                                   & 15.6                                       & 1366x768                                   & Intel Celeron Dual Core N3350 1.1GHz       &  4                                         & 1000 HDD                                   & Intel HD Graphics 500                      & Windows 10                                 & 2.00                                       &  339.00                                   \\\\\n",
       "\t1257 & 1274                                       & Asus                                       & Rog G752VT-GC073T                          & Gaming                                     & 17.3                                       & IPS Panel Full HD 1920x1080                & Intel Core i7 6700HQ 2.6GHz                & 16                                         & 128 SSD +  1000 HDD                        & Nvidia GeForce GTX 970M                    & Windows 10                                 & 4.00                                       & 1900.00                                   \\\\\n",
       "\t1258 & 1275                                       & Dell                                       & Vostro 3568                                & Notebook                                   & 15.6                                       & 1366x768                                   & Intel Core i3 6006U 2GHz                   &  4                                         & 0 HDD                                      & Intel HD Graphics 520                      & Windows 10                                 & 2.29                                       &  490.00                                   \\\\\n",
       "\t1259 & 1276                                       & Lenovo                                     & B51-80 (i7-6500U/8GB/1008GB/Radeon         & Notebook                                   & 15.6                                       & Full HD 1920x1080                          & Intel Core i7 6500U 2.5GHz                 &  8                                         & 1000 Hybrid                                & AMD Radeon R5 M330                         & Windows 7                                  & 2.32                                       &  895.00                                   \\\\\n",
       "\t1260 & 1277                                       & MSI                                        & GE62 Apache                                & Gaming                                     & 15.6                                       & Full HD 1920x1080                          & Intel Core i7 6700HQ 2.6GHz                &  8                                         & 128 SSD +  1000 HDD                        & Nvidia GeForce GTX 960M                    & Windows 10                                 & 2.40                                       & 1229.00                                   \\\\\n",
       "\t1261 & 1278                                       & Lenovo                                     & Yoga 500-14IBD                             & 2 in 1 Convertible                         & 14.0                                       & Full HD / Touchscreen 1920x1080            & Intel Core i5 6200U 2.3GHz                 &  4                                         & 128 SSD                                    & Intel HD Graphics 520                      & Windows 10                                 & 1.80                                       &  833.01                                   \\\\\n",
       "\t1262 & 1279                                       & Asus                                       & ZenBook UX305CA-UBM1                       & Ultrabook                                  & 13.3                                       & IPS Panel Full HD 1920x1080                & Intel Core M 6Y30 0.9GHz                   &  8                                         & 512 SSD                                    & Intel HD Graphics 515                      & Windows 10                                 & 1.20                                       &  729.00                                   \\\\\n",
       "\t1263 & 1280                                       & Dell                                       & Inspiron 3567                              & Notebook                                   & 15.6                                       & 1366x768                                   & Intel Core i3 7100U 2.4GHz                 &  6                                         & 1000 HDD                                   & Intel HD Graphics 620                      & Windows 10                                 & 2.30                                       &  459.00                                   \\\\\n",
       "\t1264 & 1281                                       & Acer                                       & Aspire ES1-531                             & Notebook                                   & 15.6                                       & 1366x768                                   & Intel Celeron Dual Core N3060 1.6GHz       &  4                                         & 0 HDD                                      & Intel HD Graphics 400                      & Linux                                      & 2.40                                       &  289.00                                   \\\\\n",
       "\t1265 & 1282                                       & Dell                                       & Inspiron 3552                              & Notebook                                   & 15.6                                       & 1366x768                                   & Intel Celeron Dual Core N3050 1.6GHz       &  2                                         & 0 HDD                                      & Intel HD Graphics                          & Windows 10                                 & 2.20                                       &  379.00                                   \\\\\n",
       "\t1266 & 1283                                       & Lenovo                                     & IdeaPad Y700-15ISK                         & Notebook                                   & 15.6                                       & IPS Panel Full HD 1920x1080                & Intel Core i7 6700HQ 2.6GHz                &  8                                         & 1000 HDD                                   & Nvidia GeForce GTX 960M                    & Windows 10                                 & 2.60                                       &  899.00                                   \\\\\n",
       "\t1267 & 1284                                       & HP                                         & Pavilion 15-AW003nv                        & Notebook                                   & 15.6                                       & Full HD 1920x1080                          & AMD A9-Series 9410 2.9GHz                  &  6                                         & 1000 Hybrid                                & AMD Radeon R7 M440                         & Windows 10                                 & 2.04                                       &  549.99                                   \\\\\n",
       "\t1268 & 1285                                       & Dell                                       & Inspiron 3567                              & Notebook                                   & 15.6                                       & 1366x768                                   & Intel Core i7 7500U 2.7GHz                 &  8                                         & 1000 HDD                                   & AMD Radeon R5 M430                         & Linux                                      & 2.30                                       &  805.99                                   \\\\\n",
       "\t1269 & 1286                                       & HP                                         & Stream 11-Y000na                           & Netbook                                    & 11.6                                       & 1366x768                                   & Intel Celeron Dual Core N3060 1.6GHz       &  2                                         & 32 Flash Storage                           & Intel HD Graphics 400                      & Windows 10                                 & 1.17                                       &  209.00                                   \\\\\n",
       "\t1270 & 1287                                       & Asus                                       & X556UJ-XO044T (i7-6500U/4GB/500GB/GeForce  & Notebook                                   & 15.6                                       & 1366x768                                   & Intel Core i7 6500U 2.5GHz                 &  4                                         & 0 HDD                                      & Nvidia GeForce 920M                        & Windows 10                                 & 2.20                                       &  720.32                                   \\\\\n",
       "\t1271 & 1288                                       & Lenovo                                     & Yoga 500-14ISK                             & 2 in 1 Convertible                         & 14.0                                       & IPS Panel Full HD / Touchscreen 1920x1080  & Intel Core i7 6500U 2.5GHz                 &  4                                         & 128 SSD                                    & Intel HD Graphics 520                      & Windows 10                                 & 1.80                                       &  638.00                                   \\\\\n",
       "\t1272 & 1289                                       & Lenovo                                     & Yoga 900-13ISK                             & 2 in 1 Convertible                         & 13.3                                       & IPS Panel Quad HD+ / Touchscreen 3200x1800 & Intel Core i7 6500U 2.5GHz                 & 16                                         & 512 SSD                                    & Intel HD Graphics 520                      & Windows 10                                 & 1.30                                       & 1499.00                                   \\\\\n",
       "\t1273 & 1290                                       & Lenovo                                     & IdeaPad 100S-14IBR                         & Notebook                                   & 14.0                                       & 1366x768                                   & Intel Celeron Dual Core N3050 1.6GHz       &  2                                         & 64 Flash Storage                           & Intel HD Graphics                          & Windows 10                                 & 1.50                                       &  229.00                                   \\\\\n",
       "\t1274 & 1291                                       & HP                                         & 15-AC110nv (i7-6500U/6GB/1TB/Radeon        & Notebook                                   & 15.6                                       & 1366x768                                   & Intel Core i7 6500U 2.5GHz                 &  6                                         & 1000 HDD                                   & AMD Radeon R5 M330                         & Windows 10                                 & 2.19                                       &  764.00                                   \\\\\n",
       "\t1275 & 1292                                       & Asus                                       & X553SA-XX031T (N3050/4GB/500GB/W10)        & Notebook                                   & 15.6                                       & 1366x768                                   & Intel Celeron Dual Core N3050 1.6GHz       &  4                                         & 0 HDD                                      & Intel HD Graphics                          & Windows 10                                 & 2.20                                       &  369.00                                   \\\\\n",
       "\t1276 & 1293                                       & Asus                                       & ZenBook UX305CA-UBM1                       & Ultrabook                                  & 13.3                                       & IPS Panel Full HD 1920x1080                & Intel Core M 6Y30 0.9GHz                   &  8                                         & 512 SSD                                    & Intel HD Graphics 515                      & Windows 10                                 & 1.20                                       &  729.00                                   \\\\\n",
       "\t1277 & 1294                                       & Dell                                       & Inspiron 3567                              & Notebook                                   & 15.6                                       & 1366x768                                   & Intel Core i3 7100U 2.4GHz                 &  6                                         & 1000 HDD                                   & Intel HD Graphics 620                      & Windows 10                                 & 2.30                                       &  459.00                                   \\\\\n",
       "\t1278 & 1295                                       & Acer                                       & Aspire ES1-531                             & Notebook                                   & 15.6                                       & 1366x768                                   & Intel Celeron Dual Core N3060 1.6GHz       &  4                                         & 0 HDD                                      & Intel HD Graphics 400                      & Linux                                      & 2.40                                       &  289.00                                   \\\\\n",
       "\t1279 & 1296                                       & Dell                                       & Inspiron 3552                              & Notebook                                   & 15.6                                       & 1366x768                                   & Intel Celeron Dual Core N3050 1.6GHz       &  2                                         & 0 HDD                                      & Intel HD Graphics                          & Windows 10                                 & 2.20                                       &  379.00                                   \\\\\n",
       "\t1280 & 1297                                       & Lenovo                                     & IdeaPad Y700-15ISK                         & Notebook                                   & 15.6                                       & IPS Panel Full HD 1920x1080                & Intel Core i7 6700HQ 2.6GHz                &  8                                         & 1000 HDD                                   & Nvidia GeForce GTX 960M                    & Windows 10                                 & 2.60                                       &  899.00                                   \\\\\n",
       "\t1281 & 1298                                       & HP                                         & Pavilion 15-AW003nv                        & Notebook                                   & 15.6                                       & Full HD 1920x1080                          & AMD A9-Series 9410 2.9GHz                  &  6                                         & 1000 Hybrid                                & AMD Radeon R7 M440                         & Windows 10                                 & 2.04                                       &  549.99                                   \\\\\n",
       "\t1282 & 1299                                       & Dell                                       & Inspiron 3567                              & Notebook                                   & 15.6                                       & 1366x768                                   & Intel Core i7 7500U 2.7GHz                 &  8                                         & 1000 HDD                                   & AMD Radeon R5 M430                         & Linux                                      & 2.30                                       &  805.99                                   \\\\\n",
       "\t1283 & 1300                                       & HP                                         & Stream 11-Y000na                           & Netbook                                    & 11.6                                       & 1366x768                                   & Intel Celeron Dual Core N3060 1.6GHz       &  2                                         & 32 Flash Storage                           & Intel HD Graphics 400                      & Windows 10                                 & 1.17                                       &  209.00                                   \\\\\n",
       "\t1284 & 1301                                       & Asus                                       & X556UJ-XO044T (i7-6500U/4GB/500GB/GeForce  & Notebook                                   & 15.6                                       & 1366x768                                   & Intel Core i7 6500U 2.5GHz                 &  4                                         & 0 HDD                                      & Nvidia GeForce 920M                        & Windows 10                                 & 2.20                                       &  720.32                                   \\\\\n",
       "\t1285 & 1302                                       & Lenovo                                     & Yoga 500-14ISK                             & 2 in 1 Convertible                         & 14.0                                       & IPS Panel Full HD / Touchscreen 1920x1080  & Intel Core i7 6500U 2.5GHz                 &  4                                         & 128 SSD                                    & Intel HD Graphics 520                      & Windows 10                                 & 1.80                                       &  638.00                                   \\\\\n",
       "\t1286 & 1303                                       & Lenovo                                     & Yoga 900-13ISK                             & 2 in 1 Convertible                         & 13.3                                       & IPS Panel Quad HD+ / Touchscreen 3200x1800 & Intel Core i7 6500U 2.5GHz                 & 16                                         & 512 SSD                                    & Intel HD Graphics 520                      & Windows 10                                 & 1.30                                       & 1499.00                                   \\\\\n",
       "\t1287 & 1304                                       & Lenovo                                     & IdeaPad 100S-14IBR                         & Notebook                                   & 14.0                                       & 1366x768                                   & Intel Celeron Dual Core N3050 1.6GHz       &  2                                         & 64 Flash Storage                           & Intel HD Graphics                          & Windows 10                                 & 1.50                                       &  229.00                                   \\\\\n",
       "\t1288 & 1305                                       & HP                                         & 15-AC110nv (i7-6500U/6GB/1TB/Radeon        & Notebook                                   & 15.6                                       & 1366x768                                   & Intel Core i7 6500U 2.5GHz                 &  6                                         & 1000 HDD                                   & AMD Radeon R5 M330                         & Windows 10                                 & 2.19                                       &  764.00                                   \\\\\n",
       "\t1289 & 1306                                       & Asus                                       & X553SA-XX031T (N3050/4GB/500GB/W10)        & Notebook                                   & 15.6                                       & 1366x768                                   & Intel Celeron Dual Core N3050 1.6GHz       &  4                                         & 0 HDD                                      & Intel HD Graphics                          & Windows 10                                 & 2.20                                       &  369.00                                   \\\\\n",
       "\t1290 & 1307                                       & Asus                                       & ZenBook UX305CA-UBM1                       & Ultrabook                                  & 13.3                                       & IPS Panel Full HD 1920x1080                & Intel Core M 6Y30 0.9GHz                   &  8                                         & 512 SSD                                    & Intel HD Graphics 515                      & Windows 10                                 & 1.20                                       &  729.00                                   \\\\\n",
       "\t1291 & 1308                                       & Dell                                       & Inspiron 3567                              & Notebook                                   & 15.6                                       & 1366x768                                   & Intel Core i3 7100U 2.4GHz                 &  6                                         & 1000 HDD                                   & Intel HD Graphics 620                      & Windows 10                                 & 2.30                                       &  459.00                                   \\\\\n",
       "\t1292 & 1309                                       & Acer                                       & Aspire ES1-531                             & Notebook                                   & 15.6                                       & 1366x768                                   & Intel Celeron Dual Core N3060 1.6GHz       &  4                                         & 0 HDD                                      & Intel HD Graphics 400                      & Linux                                      & 2.40                                       &  289.00                                   \\\\\n",
       "\t1293 & 1310                                       & Dell                                       & Inspiron 3552                              & Notebook                                   & 15.6                                       & 1366x768                                   & Intel Celeron Dual Core N3050 1.6GHz       &  2                                         & 0 HDD                                      & Intel HD Graphics                          & Windows 10                                 & 2.20                                       &  379.00                                   \\\\\n",
       "\t1294 & 1311                                       & Lenovo                                     & IdeaPad Y700-15ISK                         & Notebook                                   & 15.6                                       & IPS Panel Full HD 1920x1080                & Intel Core i7 6700HQ 2.6GHz                &  8                                         & 1000 HDD                                   & Nvidia GeForce GTX 960M                    & Windows 10                                 & 2.60                                       &  899.00                                   \\\\\n",
       "\t1295 & 1312                                       & HP                                         & Pavilion 15-AW003nv                        & Notebook                                   & 15.6                                       & Full HD 1920x1080                          & AMD A9-Series 9410 2.9GHz                  &  6                                         & 1000 Hybrid                                & AMD Radeon R7 M440                         & Windows 10                                 & 2.04                                       &  549.99                                   \\\\\n",
       "\t1296 & 1313                                       & Dell                                       & Inspiron 3567                              & Notebook                                   & 15.6                                       & 1366x768                                   & Intel Core i7 7500U 2.7GHz                 &  8                                         & 1000 HDD                                   & AMD Radeon R5 M430                         & Linux                                      & 2.30                                       &  805.99                                   \\\\\n",
       "\t1297 & 1314                                       & HP                                         & Stream 11-Y000na                           & Netbook                                    & 11.6                                       & 1366x768                                   & Intel Celeron Dual Core N3060 1.6GHz       &  2                                         & 32 Flash Storage                           & Intel HD Graphics 400                      & Windows 10                                 & 1.17                                       &  209.00                                   \\\\\n",
       "\t1298 & 1315                                       & Asus                                       & X556UJ-XO044T (i7-6500U/4GB/500GB/GeForce  & Notebook                                   & 15.6                                       & 1366x768                                   & Intel Core i7 6500U 2.5GHz                 &  4                                         & 0 HDD                                      & Nvidia GeForce 920M                        & Windows 10                                 & 2.20                                       &  720.32                                   \\\\\n",
       "\t1299 & 1316                                       & Lenovo                                     & Yoga 500-14ISK                             & 2 in 1 Convertible                         & 14.0                                       & IPS Panel Full HD / Touchscreen 1920x1080  & Intel Core i7 6500U 2.5GHz                 &  4                                         & 128 SSD                                    & Intel HD Graphics 520                      & Windows 10                                 & 1.80                                       &  638.00                                   \\\\\n",
       "\t1300 & 1317                                       & Lenovo                                     & Yoga 900-13ISK                             & 2 in 1 Convertible                         & 13.3                                       & IPS Panel Quad HD+ / Touchscreen 3200x1800 & Intel Core i7 6500U 2.5GHz                 & 16                                         & 512 SSD                                    & Intel HD Graphics 520                      & Windows 10                                 & 1.30                                       & 1499.00                                   \\\\\n",
       "\t1301 & 1318                                       & Lenovo                                     & IdeaPad 100S-14IBR                         & Notebook                                   & 14.0                                       & 1366x768                                   & Intel Celeron Dual Core N3050 1.6GHz       &  2                                         & 64 Flash Storage                           & Intel HD Graphics                          & Windows 10                                 & 1.50                                       &  229.00                                   \\\\\n",
       "\t1302 & 1319                                       & HP                                         & 15-AC110nv (i7-6500U/6GB/1TB/Radeon        & Notebook                                   & 15.6                                       & 1366x768                                   & Intel Core i7 6500U 2.5GHz                 &  6                                         & 1000 HDD                                   & AMD Radeon R5 M330                         & Windows 10                                 & 2.19                                       &  764.00                                   \\\\\n",
       "\t1303 & 1320                                       & Asus                                       & X553SA-XX031T (N3050/4GB/500GB/W10)        & Notebook                                   & 15.6                                       & 1366x768                                   & Intel Celeron Dual Core N3050 1.6GHz       &  4                                         & 0 HDD                                      & Intel HD Graphics                          & Windows 10                                 & 2.20                                       &  369.00                                   \\\\\n",
       "\\end{tabular}\n"
      ],
      "text/markdown": [
       "\n",
       "| <!--/--> | laptop_ID | Company | Product | TypeName | Inches | ScreenResolution | Cpu | Ram | Memory | Gpu | OpSys | Weight | Price_euros |\n",
       "|---|---|---|---|---|---|---|---|---|---|---|---|---|---|\n",
       "| 1254 | 1271                                       | Lenovo                                     | ThinkPad L460                              | Notebook                                   | 14.0                                       | IPS Panel Full HD 1920x1080                | Intel Core i5 6200U 2.3GHz                 |  8                                         | 256 SSD                                    | Intel HD Graphics 520                      | Windows 10                                 | 1.90                                       | 1072.00                                    |\n",
       "| 1255 | 1272                                       | Dell                                       | Inspiron 3552                              | Notebook                                   | 15.6                                       | 1366x768                                   | Intel Pentium Quad Core N3700 1.6GHz       |  4                                         | 0 HDD                                      | Intel HD Graphics                          | Windows 10                                 | 2.20                                       |  443.99                                    |\n",
       "| 1256 | 1273                                       | Asus                                       | X541NA-GO020T (N3350/4GB/1TB/W10)          | Notebook                                   | 15.6                                       | 1366x768                                   | Intel Celeron Dual Core N3350 1.1GHz       |  4                                         | 1000 HDD                                   | Intel HD Graphics 500                      | Windows 10                                 | 2.00                                       |  339.00                                    |\n",
       "| 1257 | 1274                                       | Asus                                       | Rog G752VT-GC073T                          | Gaming                                     | 17.3                                       | IPS Panel Full HD 1920x1080                | Intel Core i7 6700HQ 2.6GHz                | 16                                         | 128 SSD +  1000 HDD                        | Nvidia GeForce GTX 970M                    | Windows 10                                 | 4.00                                       | 1900.00                                    |\n",
       "| 1258 | 1275                                       | Dell                                       | Vostro 3568                                | Notebook                                   | 15.6                                       | 1366x768                                   | Intel Core i3 6006U 2GHz                   |  4                                         | 0 HDD                                      | Intel HD Graphics 520                      | Windows 10                                 | 2.29                                       |  490.00                                    |\n",
       "| 1259 | 1276                                       | Lenovo                                     | B51-80 (i7-6500U/8GB/1008GB/Radeon         | Notebook                                   | 15.6                                       | Full HD 1920x1080                          | Intel Core i7 6500U 2.5GHz                 |  8                                         | 1000 Hybrid                                | AMD Radeon R5 M330                         | Windows 7                                  | 2.32                                       |  895.00                                    |\n",
       "| 1260 | 1277                                       | MSI                                        | GE62 Apache                                | Gaming                                     | 15.6                                       | Full HD 1920x1080                          | Intel Core i7 6700HQ 2.6GHz                |  8                                         | 128 SSD +  1000 HDD                        | Nvidia GeForce GTX 960M                    | Windows 10                                 | 2.40                                       | 1229.00                                    |\n",
       "| 1261 | 1278                                       | Lenovo                                     | Yoga 500-14IBD                             | 2 in 1 Convertible                         | 14.0                                       | Full HD / Touchscreen 1920x1080            | Intel Core i5 6200U 2.3GHz                 |  4                                         | 128 SSD                                    | Intel HD Graphics 520                      | Windows 10                                 | 1.80                                       |  833.01                                    |\n",
       "| 1262 | 1279                                       | Asus                                       | ZenBook UX305CA-UBM1                       | Ultrabook                                  | 13.3                                       | IPS Panel Full HD 1920x1080                | Intel Core M 6Y30 0.9GHz                   |  8                                         | 512 SSD                                    | Intel HD Graphics 515                      | Windows 10                                 | 1.20                                       |  729.00                                    |\n",
       "| 1263 | 1280                                       | Dell                                       | Inspiron 3567                              | Notebook                                   | 15.6                                       | 1366x768                                   | Intel Core i3 7100U 2.4GHz                 |  6                                         | 1000 HDD                                   | Intel HD Graphics 620                      | Windows 10                                 | 2.30                                       |  459.00                                    |\n",
       "| 1264 | 1281                                       | Acer                                       | Aspire ES1-531                             | Notebook                                   | 15.6                                       | 1366x768                                   | Intel Celeron Dual Core N3060 1.6GHz       |  4                                         | 0 HDD                                      | Intel HD Graphics 400                      | Linux                                      | 2.40                                       |  289.00                                    |\n",
       "| 1265 | 1282                                       | Dell                                       | Inspiron 3552                              | Notebook                                   | 15.6                                       | 1366x768                                   | Intel Celeron Dual Core N3050 1.6GHz       |  2                                         | 0 HDD                                      | Intel HD Graphics                          | Windows 10                                 | 2.20                                       |  379.00                                    |\n",
       "| 1266 | 1283                                       | Lenovo                                     | IdeaPad Y700-15ISK                         | Notebook                                   | 15.6                                       | IPS Panel Full HD 1920x1080                | Intel Core i7 6700HQ 2.6GHz                |  8                                         | 1000 HDD                                   | Nvidia GeForce GTX 960M                    | Windows 10                                 | 2.60                                       |  899.00                                    |\n",
       "| 1267 | 1284                                       | HP                                         | Pavilion 15-AW003nv                        | Notebook                                   | 15.6                                       | Full HD 1920x1080                          | AMD A9-Series 9410 2.9GHz                  |  6                                         | 1000 Hybrid                                | AMD Radeon R7 M440                         | Windows 10                                 | 2.04                                       |  549.99                                    |\n",
       "| 1268 | 1285                                       | Dell                                       | Inspiron 3567                              | Notebook                                   | 15.6                                       | 1366x768                                   | Intel Core i7 7500U 2.7GHz                 |  8                                         | 1000 HDD                                   | AMD Radeon R5 M430                         | Linux                                      | 2.30                                       |  805.99                                    |\n",
       "| 1269 | 1286                                       | HP                                         | Stream 11-Y000na                           | Netbook                                    | 11.6                                       | 1366x768                                   | Intel Celeron Dual Core N3060 1.6GHz       |  2                                         | 32 Flash Storage                           | Intel HD Graphics 400                      | Windows 10                                 | 1.17                                       |  209.00                                    |\n",
       "| 1270 | 1287                                       | Asus                                       | X556UJ-XO044T (i7-6500U/4GB/500GB/GeForce  | Notebook                                   | 15.6                                       | 1366x768                                   | Intel Core i7 6500U 2.5GHz                 |  4                                         | 0 HDD                                      | Nvidia GeForce 920M                        | Windows 10                                 | 2.20                                       |  720.32                                    |\n",
       "| 1271 | 1288                                       | Lenovo                                     | Yoga 500-14ISK                             | 2 in 1 Convertible                         | 14.0                                       | IPS Panel Full HD / Touchscreen 1920x1080  | Intel Core i7 6500U 2.5GHz                 |  4                                         | 128 SSD                                    | Intel HD Graphics 520                      | Windows 10                                 | 1.80                                       |  638.00                                    |\n",
       "| 1272 | 1289                                       | Lenovo                                     | Yoga 900-13ISK                             | 2 in 1 Convertible                         | 13.3                                       | IPS Panel Quad HD+ / Touchscreen 3200x1800 | Intel Core i7 6500U 2.5GHz                 | 16                                         | 512 SSD                                    | Intel HD Graphics 520                      | Windows 10                                 | 1.30                                       | 1499.00                                    |\n",
       "| 1273 | 1290                                       | Lenovo                                     | IdeaPad 100S-14IBR                         | Notebook                                   | 14.0                                       | 1366x768                                   | Intel Celeron Dual Core N3050 1.6GHz       |  2                                         | 64 Flash Storage                           | Intel HD Graphics                          | Windows 10                                 | 1.50                                       |  229.00                                    |\n",
       "| 1274 | 1291                                       | HP                                         | 15-AC110nv (i7-6500U/6GB/1TB/Radeon        | Notebook                                   | 15.6                                       | 1366x768                                   | Intel Core i7 6500U 2.5GHz                 |  6                                         | 1000 HDD                                   | AMD Radeon R5 M330                         | Windows 10                                 | 2.19                                       |  764.00                                    |\n",
       "| 1275 | 1292                                       | Asus                                       | X553SA-XX031T (N3050/4GB/500GB/W10)        | Notebook                                   | 15.6                                       | 1366x768                                   | Intel Celeron Dual Core N3050 1.6GHz       |  4                                         | 0 HDD                                      | Intel HD Graphics                          | Windows 10                                 | 2.20                                       |  369.00                                    |\n",
       "| 1276 | 1293                                       | Asus                                       | ZenBook UX305CA-UBM1                       | Ultrabook                                  | 13.3                                       | IPS Panel Full HD 1920x1080                | Intel Core M 6Y30 0.9GHz                   |  8                                         | 512 SSD                                    | Intel HD Graphics 515                      | Windows 10                                 | 1.20                                       |  729.00                                    |\n",
       "| 1277 | 1294                                       | Dell                                       | Inspiron 3567                              | Notebook                                   | 15.6                                       | 1366x768                                   | Intel Core i3 7100U 2.4GHz                 |  6                                         | 1000 HDD                                   | Intel HD Graphics 620                      | Windows 10                                 | 2.30                                       |  459.00                                    |\n",
       "| 1278 | 1295                                       | Acer                                       | Aspire ES1-531                             | Notebook                                   | 15.6                                       | 1366x768                                   | Intel Celeron Dual Core N3060 1.6GHz       |  4                                         | 0 HDD                                      | Intel HD Graphics 400                      | Linux                                      | 2.40                                       |  289.00                                    |\n",
       "| 1279 | 1296                                       | Dell                                       | Inspiron 3552                              | Notebook                                   | 15.6                                       | 1366x768                                   | Intel Celeron Dual Core N3050 1.6GHz       |  2                                         | 0 HDD                                      | Intel HD Graphics                          | Windows 10                                 | 2.20                                       |  379.00                                    |\n",
       "| 1280 | 1297                                       | Lenovo                                     | IdeaPad Y700-15ISK                         | Notebook                                   | 15.6                                       | IPS Panel Full HD 1920x1080                | Intel Core i7 6700HQ 2.6GHz                |  8                                         | 1000 HDD                                   | Nvidia GeForce GTX 960M                    | Windows 10                                 | 2.60                                       |  899.00                                    |\n",
       "| 1281 | 1298                                       | HP                                         | Pavilion 15-AW003nv                        | Notebook                                   | 15.6                                       | Full HD 1920x1080                          | AMD A9-Series 9410 2.9GHz                  |  6                                         | 1000 Hybrid                                | AMD Radeon R7 M440                         | Windows 10                                 | 2.04                                       |  549.99                                    |\n",
       "| 1282 | 1299                                       | Dell                                       | Inspiron 3567                              | Notebook                                   | 15.6                                       | 1366x768                                   | Intel Core i7 7500U 2.7GHz                 |  8                                         | 1000 HDD                                   | AMD Radeon R5 M430                         | Linux                                      | 2.30                                       |  805.99                                    |\n",
       "| 1283 | 1300                                       | HP                                         | Stream 11-Y000na                           | Netbook                                    | 11.6                                       | 1366x768                                   | Intel Celeron Dual Core N3060 1.6GHz       |  2                                         | 32 Flash Storage                           | Intel HD Graphics 400                      | Windows 10                                 | 1.17                                       |  209.00                                    |\n",
       "| 1284 | 1301                                       | Asus                                       | X556UJ-XO044T (i7-6500U/4GB/500GB/GeForce  | Notebook                                   | 15.6                                       | 1366x768                                   | Intel Core i7 6500U 2.5GHz                 |  4                                         | 0 HDD                                      | Nvidia GeForce 920M                        | Windows 10                                 | 2.20                                       |  720.32                                    |\n",
       "| 1285 | 1302                                       | Lenovo                                     | Yoga 500-14ISK                             | 2 in 1 Convertible                         | 14.0                                       | IPS Panel Full HD / Touchscreen 1920x1080  | Intel Core i7 6500U 2.5GHz                 |  4                                         | 128 SSD                                    | Intel HD Graphics 520                      | Windows 10                                 | 1.80                                       |  638.00                                    |\n",
       "| 1286 | 1303                                       | Lenovo                                     | Yoga 900-13ISK                             | 2 in 1 Convertible                         | 13.3                                       | IPS Panel Quad HD+ / Touchscreen 3200x1800 | Intel Core i7 6500U 2.5GHz                 | 16                                         | 512 SSD                                    | Intel HD Graphics 520                      | Windows 10                                 | 1.30                                       | 1499.00                                    |\n",
       "| 1287 | 1304                                       | Lenovo                                     | IdeaPad 100S-14IBR                         | Notebook                                   | 14.0                                       | 1366x768                                   | Intel Celeron Dual Core N3050 1.6GHz       |  2                                         | 64 Flash Storage                           | Intel HD Graphics                          | Windows 10                                 | 1.50                                       |  229.00                                    |\n",
       "| 1288 | 1305                                       | HP                                         | 15-AC110nv (i7-6500U/6GB/1TB/Radeon        | Notebook                                   | 15.6                                       | 1366x768                                   | Intel Core i7 6500U 2.5GHz                 |  6                                         | 1000 HDD                                   | AMD Radeon R5 M330                         | Windows 10                                 | 2.19                                       |  764.00                                    |\n",
       "| 1289 | 1306                                       | Asus                                       | X553SA-XX031T (N3050/4GB/500GB/W10)        | Notebook                                   | 15.6                                       | 1366x768                                   | Intel Celeron Dual Core N3050 1.6GHz       |  4                                         | 0 HDD                                      | Intel HD Graphics                          | Windows 10                                 | 2.20                                       |  369.00                                    |\n",
       "| 1290 | 1307                                       | Asus                                       | ZenBook UX305CA-UBM1                       | Ultrabook                                  | 13.3                                       | IPS Panel Full HD 1920x1080                | Intel Core M 6Y30 0.9GHz                   |  8                                         | 512 SSD                                    | Intel HD Graphics 515                      | Windows 10                                 | 1.20                                       |  729.00                                    |\n",
       "| 1291 | 1308                                       | Dell                                       | Inspiron 3567                              | Notebook                                   | 15.6                                       | 1366x768                                   | Intel Core i3 7100U 2.4GHz                 |  6                                         | 1000 HDD                                   | Intel HD Graphics 620                      | Windows 10                                 | 2.30                                       |  459.00                                    |\n",
       "| 1292 | 1309                                       | Acer                                       | Aspire ES1-531                             | Notebook                                   | 15.6                                       | 1366x768                                   | Intel Celeron Dual Core N3060 1.6GHz       |  4                                         | 0 HDD                                      | Intel HD Graphics 400                      | Linux                                      | 2.40                                       |  289.00                                    |\n",
       "| 1293 | 1310                                       | Dell                                       | Inspiron 3552                              | Notebook                                   | 15.6                                       | 1366x768                                   | Intel Celeron Dual Core N3050 1.6GHz       |  2                                         | 0 HDD                                      | Intel HD Graphics                          | Windows 10                                 | 2.20                                       |  379.00                                    |\n",
       "| 1294 | 1311                                       | Lenovo                                     | IdeaPad Y700-15ISK                         | Notebook                                   | 15.6                                       | IPS Panel Full HD 1920x1080                | Intel Core i7 6700HQ 2.6GHz                |  8                                         | 1000 HDD                                   | Nvidia GeForce GTX 960M                    | Windows 10                                 | 2.60                                       |  899.00                                    |\n",
       "| 1295 | 1312                                       | HP                                         | Pavilion 15-AW003nv                        | Notebook                                   | 15.6                                       | Full HD 1920x1080                          | AMD A9-Series 9410 2.9GHz                  |  6                                         | 1000 Hybrid                                | AMD Radeon R7 M440                         | Windows 10                                 | 2.04                                       |  549.99                                    |\n",
       "| 1296 | 1313                                       | Dell                                       | Inspiron 3567                              | Notebook                                   | 15.6                                       | 1366x768                                   | Intel Core i7 7500U 2.7GHz                 |  8                                         | 1000 HDD                                   | AMD Radeon R5 M430                         | Linux                                      | 2.30                                       |  805.99                                    |\n",
       "| 1297 | 1314                                       | HP                                         | Stream 11-Y000na                           | Netbook                                    | 11.6                                       | 1366x768                                   | Intel Celeron Dual Core N3060 1.6GHz       |  2                                         | 32 Flash Storage                           | Intel HD Graphics 400                      | Windows 10                                 | 1.17                                       |  209.00                                    |\n",
       "| 1298 | 1315                                       | Asus                                       | X556UJ-XO044T (i7-6500U/4GB/500GB/GeForce  | Notebook                                   | 15.6                                       | 1366x768                                   | Intel Core i7 6500U 2.5GHz                 |  4                                         | 0 HDD                                      | Nvidia GeForce 920M                        | Windows 10                                 | 2.20                                       |  720.32                                    |\n",
       "| 1299 | 1316                                       | Lenovo                                     | Yoga 500-14ISK                             | 2 in 1 Convertible                         | 14.0                                       | IPS Panel Full HD / Touchscreen 1920x1080  | Intel Core i7 6500U 2.5GHz                 |  4                                         | 128 SSD                                    | Intel HD Graphics 520                      | Windows 10                                 | 1.80                                       |  638.00                                    |\n",
       "| 1300 | 1317                                       | Lenovo                                     | Yoga 900-13ISK                             | 2 in 1 Convertible                         | 13.3                                       | IPS Panel Quad HD+ / Touchscreen 3200x1800 | Intel Core i7 6500U 2.5GHz                 | 16                                         | 512 SSD                                    | Intel HD Graphics 520                      | Windows 10                                 | 1.30                                       | 1499.00                                    |\n",
       "| 1301 | 1318                                       | Lenovo                                     | IdeaPad 100S-14IBR                         | Notebook                                   | 14.0                                       | 1366x768                                   | Intel Celeron Dual Core N3050 1.6GHz       |  2                                         | 64 Flash Storage                           | Intel HD Graphics                          | Windows 10                                 | 1.50                                       |  229.00                                    |\n",
       "| 1302 | 1319                                       | HP                                         | 15-AC110nv (i7-6500U/6GB/1TB/Radeon        | Notebook                                   | 15.6                                       | 1366x768                                   | Intel Core i7 6500U 2.5GHz                 |  6                                         | 1000 HDD                                   | AMD Radeon R5 M330                         | Windows 10                                 | 2.19                                       |  764.00                                    |\n",
       "| 1303 | 1320                                       | Asus                                       | X553SA-XX031T (N3050/4GB/500GB/W10)        | Notebook                                   | 15.6                                       | 1366x768                                   | Intel Celeron Dual Core N3050 1.6GHz       |  4                                         | 0 HDD                                      | Intel HD Graphics                          | Windows 10                                 | 2.20                                       |  369.00                                    |\n",
       "\n"
      ],
      "text/plain": [
       "     laptop_ID Company Product                                  \n",
       "1254 1271      Lenovo  ThinkPad L460                            \n",
       "1255 1272      Dell    Inspiron 3552                            \n",
       "1256 1273      Asus    X541NA-GO020T (N3350/4GB/1TB/W10)        \n",
       "1257 1274      Asus    Rog G752VT-GC073T                        \n",
       "1258 1275      Dell    Vostro 3568                              \n",
       "1259 1276      Lenovo  B51-80 (i7-6500U/8GB/1008GB/Radeon       \n",
       "1260 1277      MSI     GE62 Apache                              \n",
       "1261 1278      Lenovo  Yoga 500-14IBD                           \n",
       "1262 1279      Asus    ZenBook UX305CA-UBM1                     \n",
       "1263 1280      Dell    Inspiron 3567                            \n",
       "1264 1281      Acer    Aspire ES1-531                           \n",
       "1265 1282      Dell    Inspiron 3552                            \n",
       "1266 1283      Lenovo  IdeaPad Y700-15ISK                       \n",
       "1267 1284      HP      Pavilion 15-AW003nv                      \n",
       "1268 1285      Dell    Inspiron 3567                            \n",
       "1269 1286      HP      Stream 11-Y000na                         \n",
       "1270 1287      Asus    X556UJ-XO044T (i7-6500U/4GB/500GB/GeForce\n",
       "1271 1288      Lenovo  Yoga 500-14ISK                           \n",
       "1272 1289      Lenovo  Yoga 900-13ISK                           \n",
       "1273 1290      Lenovo  IdeaPad 100S-14IBR                       \n",
       "1274 1291      HP      15-AC110nv (i7-6500U/6GB/1TB/Radeon      \n",
       "1275 1292      Asus    X553SA-XX031T (N3050/4GB/500GB/W10)      \n",
       "1276 1293      Asus    ZenBook UX305CA-UBM1                     \n",
       "1277 1294      Dell    Inspiron 3567                            \n",
       "1278 1295      Acer    Aspire ES1-531                           \n",
       "1279 1296      Dell    Inspiron 3552                            \n",
       "1280 1297      Lenovo  IdeaPad Y700-15ISK                       \n",
       "1281 1298      HP      Pavilion 15-AW003nv                      \n",
       "1282 1299      Dell    Inspiron 3567                            \n",
       "1283 1300      HP      Stream 11-Y000na                         \n",
       "1284 1301      Asus    X556UJ-XO044T (i7-6500U/4GB/500GB/GeForce\n",
       "1285 1302      Lenovo  Yoga 500-14ISK                           \n",
       "1286 1303      Lenovo  Yoga 900-13ISK                           \n",
       "1287 1304      Lenovo  IdeaPad 100S-14IBR                       \n",
       "1288 1305      HP      15-AC110nv (i7-6500U/6GB/1TB/Radeon      \n",
       "1289 1306      Asus    X553SA-XX031T (N3050/4GB/500GB/W10)      \n",
       "1290 1307      Asus    ZenBook UX305CA-UBM1                     \n",
       "1291 1308      Dell    Inspiron 3567                            \n",
       "1292 1309      Acer    Aspire ES1-531                           \n",
       "1293 1310      Dell    Inspiron 3552                            \n",
       "1294 1311      Lenovo  IdeaPad Y700-15ISK                       \n",
       "1295 1312      HP      Pavilion 15-AW003nv                      \n",
       "1296 1313      Dell    Inspiron 3567                            \n",
       "1297 1314      HP      Stream 11-Y000na                         \n",
       "1298 1315      Asus    X556UJ-XO044T (i7-6500U/4GB/500GB/GeForce\n",
       "1299 1316      Lenovo  Yoga 500-14ISK                           \n",
       "1300 1317      Lenovo  Yoga 900-13ISK                           \n",
       "1301 1318      Lenovo  IdeaPad 100S-14IBR                       \n",
       "1302 1319      HP      15-AC110nv (i7-6500U/6GB/1TB/Radeon      \n",
       "1303 1320      Asus    X553SA-XX031T (N3050/4GB/500GB/W10)      \n",
       "     TypeName           Inches ScreenResolution                          \n",
       "1254 Notebook           14.0   IPS Panel Full HD 1920x1080               \n",
       "1255 Notebook           15.6   1366x768                                  \n",
       "1256 Notebook           15.6   1366x768                                  \n",
       "1257 Gaming             17.3   IPS Panel Full HD 1920x1080               \n",
       "1258 Notebook           15.6   1366x768                                  \n",
       "1259 Notebook           15.6   Full HD 1920x1080                         \n",
       "1260 Gaming             15.6   Full HD 1920x1080                         \n",
       "1261 2 in 1 Convertible 14.0   Full HD / Touchscreen 1920x1080           \n",
       "1262 Ultrabook          13.3   IPS Panel Full HD 1920x1080               \n",
       "1263 Notebook           15.6   1366x768                                  \n",
       "1264 Notebook           15.6   1366x768                                  \n",
       "1265 Notebook           15.6   1366x768                                  \n",
       "1266 Notebook           15.6   IPS Panel Full HD 1920x1080               \n",
       "1267 Notebook           15.6   Full HD 1920x1080                         \n",
       "1268 Notebook           15.6   1366x768                                  \n",
       "1269 Netbook            11.6   1366x768                                  \n",
       "1270 Notebook           15.6   1366x768                                  \n",
       "1271 2 in 1 Convertible 14.0   IPS Panel Full HD / Touchscreen 1920x1080 \n",
       "1272 2 in 1 Convertible 13.3   IPS Panel Quad HD+ / Touchscreen 3200x1800\n",
       "1273 Notebook           14.0   1366x768                                  \n",
       "1274 Notebook           15.6   1366x768                                  \n",
       "1275 Notebook           15.6   1366x768                                  \n",
       "1276 Ultrabook          13.3   IPS Panel Full HD 1920x1080               \n",
       "1277 Notebook           15.6   1366x768                                  \n",
       "1278 Notebook           15.6   1366x768                                  \n",
       "1279 Notebook           15.6   1366x768                                  \n",
       "1280 Notebook           15.6   IPS Panel Full HD 1920x1080               \n",
       "1281 Notebook           15.6   Full HD 1920x1080                         \n",
       "1282 Notebook           15.6   1366x768                                  \n",
       "1283 Netbook            11.6   1366x768                                  \n",
       "1284 Notebook           15.6   1366x768                                  \n",
       "1285 2 in 1 Convertible 14.0   IPS Panel Full HD / Touchscreen 1920x1080 \n",
       "1286 2 in 1 Convertible 13.3   IPS Panel Quad HD+ / Touchscreen 3200x1800\n",
       "1287 Notebook           14.0   1366x768                                  \n",
       "1288 Notebook           15.6   1366x768                                  \n",
       "1289 Notebook           15.6   1366x768                                  \n",
       "1290 Ultrabook          13.3   IPS Panel Full HD 1920x1080               \n",
       "1291 Notebook           15.6   1366x768                                  \n",
       "1292 Notebook           15.6   1366x768                                  \n",
       "1293 Notebook           15.6   1366x768                                  \n",
       "1294 Notebook           15.6   IPS Panel Full HD 1920x1080               \n",
       "1295 Notebook           15.6   Full HD 1920x1080                         \n",
       "1296 Notebook           15.6   1366x768                                  \n",
       "1297 Netbook            11.6   1366x768                                  \n",
       "1298 Notebook           15.6   1366x768                                  \n",
       "1299 2 in 1 Convertible 14.0   IPS Panel Full HD / Touchscreen 1920x1080 \n",
       "1300 2 in 1 Convertible 13.3   IPS Panel Quad HD+ / Touchscreen 3200x1800\n",
       "1301 Notebook           14.0   1366x768                                  \n",
       "1302 Notebook           15.6   1366x768                                  \n",
       "1303 Notebook           15.6   1366x768                                  \n",
       "     Cpu                                  Ram Memory             \n",
       "1254 Intel Core i5 6200U 2.3GHz            8  256 SSD            \n",
       "1255 Intel Pentium Quad Core N3700 1.6GHz  4  0 HDD              \n",
       "1256 Intel Celeron Dual Core N3350 1.1GHz  4  1000 HDD           \n",
       "1257 Intel Core i7 6700HQ 2.6GHz          16  128 SSD +  1000 HDD\n",
       "1258 Intel Core i3 6006U 2GHz              4  0 HDD              \n",
       "1259 Intel Core i7 6500U 2.5GHz            8  1000 Hybrid        \n",
       "1260 Intel Core i7 6700HQ 2.6GHz           8  128 SSD +  1000 HDD\n",
       "1261 Intel Core i5 6200U 2.3GHz            4  128 SSD            \n",
       "1262 Intel Core M 6Y30 0.9GHz              8  512 SSD            \n",
       "1263 Intel Core i3 7100U 2.4GHz            6  1000 HDD           \n",
       "1264 Intel Celeron Dual Core N3060 1.6GHz  4  0 HDD              \n",
       "1265 Intel Celeron Dual Core N3050 1.6GHz  2  0 HDD              \n",
       "1266 Intel Core i7 6700HQ 2.6GHz           8  1000 HDD           \n",
       "1267 AMD A9-Series 9410 2.9GHz             6  1000 Hybrid        \n",
       "1268 Intel Core i7 7500U 2.7GHz            8  1000 HDD           \n",
       "1269 Intel Celeron Dual Core N3060 1.6GHz  2  32 Flash Storage   \n",
       "1270 Intel Core i7 6500U 2.5GHz            4  0 HDD              \n",
       "1271 Intel Core i7 6500U 2.5GHz            4  128 SSD            \n",
       "1272 Intel Core i7 6500U 2.5GHz           16  512 SSD            \n",
       "1273 Intel Celeron Dual Core N3050 1.6GHz  2  64 Flash Storage   \n",
       "1274 Intel Core i7 6500U 2.5GHz            6  1000 HDD           \n",
       "1275 Intel Celeron Dual Core N3050 1.6GHz  4  0 HDD              \n",
       "1276 Intel Core M 6Y30 0.9GHz              8  512 SSD            \n",
       "1277 Intel Core i3 7100U 2.4GHz            6  1000 HDD           \n",
       "1278 Intel Celeron Dual Core N3060 1.6GHz  4  0 HDD              \n",
       "1279 Intel Celeron Dual Core N3050 1.6GHz  2  0 HDD              \n",
       "1280 Intel Core i7 6700HQ 2.6GHz           8  1000 HDD           \n",
       "1281 AMD A9-Series 9410 2.9GHz             6  1000 Hybrid        \n",
       "1282 Intel Core i7 7500U 2.7GHz            8  1000 HDD           \n",
       "1283 Intel Celeron Dual Core N3060 1.6GHz  2  32 Flash Storage   \n",
       "1284 Intel Core i7 6500U 2.5GHz            4  0 HDD              \n",
       "1285 Intel Core i7 6500U 2.5GHz            4  128 SSD            \n",
       "1286 Intel Core i7 6500U 2.5GHz           16  512 SSD            \n",
       "1287 Intel Celeron Dual Core N3050 1.6GHz  2  64 Flash Storage   \n",
       "1288 Intel Core i7 6500U 2.5GHz            6  1000 HDD           \n",
       "1289 Intel Celeron Dual Core N3050 1.6GHz  4  0 HDD              \n",
       "1290 Intel Core M 6Y30 0.9GHz              8  512 SSD            \n",
       "1291 Intel Core i3 7100U 2.4GHz            6  1000 HDD           \n",
       "1292 Intel Celeron Dual Core N3060 1.6GHz  4  0 HDD              \n",
       "1293 Intel Celeron Dual Core N3050 1.6GHz  2  0 HDD              \n",
       "1294 Intel Core i7 6700HQ 2.6GHz           8  1000 HDD           \n",
       "1295 AMD A9-Series 9410 2.9GHz             6  1000 Hybrid        \n",
       "1296 Intel Core i7 7500U 2.7GHz            8  1000 HDD           \n",
       "1297 Intel Celeron Dual Core N3060 1.6GHz  2  32 Flash Storage   \n",
       "1298 Intel Core i7 6500U 2.5GHz            4  0 HDD              \n",
       "1299 Intel Core i7 6500U 2.5GHz            4  128 SSD            \n",
       "1300 Intel Core i7 6500U 2.5GHz           16  512 SSD            \n",
       "1301 Intel Celeron Dual Core N3050 1.6GHz  2  64 Flash Storage   \n",
       "1302 Intel Core i7 6500U 2.5GHz            6  1000 HDD           \n",
       "1303 Intel Celeron Dual Core N3050 1.6GHz  4  0 HDD              \n",
       "     Gpu                     OpSys      Weight Price_euros\n",
       "1254 Intel HD Graphics 520   Windows 10 1.90   1072.00    \n",
       "1255 Intel HD Graphics       Windows 10 2.20    443.99    \n",
       "1256 Intel HD Graphics 500   Windows 10 2.00    339.00    \n",
       "1257 Nvidia GeForce GTX 970M Windows 10 4.00   1900.00    \n",
       "1258 Intel HD Graphics 520   Windows 10 2.29    490.00    \n",
       "1259 AMD Radeon R5 M330      Windows 7  2.32    895.00    \n",
       "1260 Nvidia GeForce GTX 960M Windows 10 2.40   1229.00    \n",
       "1261 Intel HD Graphics 520   Windows 10 1.80    833.01    \n",
       "1262 Intel HD Graphics 515   Windows 10 1.20    729.00    \n",
       "1263 Intel HD Graphics 620   Windows 10 2.30    459.00    \n",
       "1264 Intel HD Graphics 400   Linux      2.40    289.00    \n",
       "1265 Intel HD Graphics       Windows 10 2.20    379.00    \n",
       "1266 Nvidia GeForce GTX 960M Windows 10 2.60    899.00    \n",
       "1267 AMD Radeon R7 M440      Windows 10 2.04    549.99    \n",
       "1268 AMD Radeon R5 M430      Linux      2.30    805.99    \n",
       "1269 Intel HD Graphics 400   Windows 10 1.17    209.00    \n",
       "1270 Nvidia GeForce 920M     Windows 10 2.20    720.32    \n",
       "1271 Intel HD Graphics 520   Windows 10 1.80    638.00    \n",
       "1272 Intel HD Graphics 520   Windows 10 1.30   1499.00    \n",
       "1273 Intel HD Graphics       Windows 10 1.50    229.00    \n",
       "1274 AMD Radeon R5 M330      Windows 10 2.19    764.00    \n",
       "1275 Intel HD Graphics       Windows 10 2.20    369.00    \n",
       "1276 Intel HD Graphics 515   Windows 10 1.20    729.00    \n",
       "1277 Intel HD Graphics 620   Windows 10 2.30    459.00    \n",
       "1278 Intel HD Graphics 400   Linux      2.40    289.00    \n",
       "1279 Intel HD Graphics       Windows 10 2.20    379.00    \n",
       "1280 Nvidia GeForce GTX 960M Windows 10 2.60    899.00    \n",
       "1281 AMD Radeon R7 M440      Windows 10 2.04    549.99    \n",
       "1282 AMD Radeon R5 M430      Linux      2.30    805.99    \n",
       "1283 Intel HD Graphics 400   Windows 10 1.17    209.00    \n",
       "1284 Nvidia GeForce 920M     Windows 10 2.20    720.32    \n",
       "1285 Intel HD Graphics 520   Windows 10 1.80    638.00    \n",
       "1286 Intel HD Graphics 520   Windows 10 1.30   1499.00    \n",
       "1287 Intel HD Graphics       Windows 10 1.50    229.00    \n",
       "1288 AMD Radeon R5 M330      Windows 10 2.19    764.00    \n",
       "1289 Intel HD Graphics       Windows 10 2.20    369.00    \n",
       "1290 Intel HD Graphics 515   Windows 10 1.20    729.00    \n",
       "1291 Intel HD Graphics 620   Windows 10 2.30    459.00    \n",
       "1292 Intel HD Graphics 400   Linux      2.40    289.00    \n",
       "1293 Intel HD Graphics       Windows 10 2.20    379.00    \n",
       "1294 Nvidia GeForce GTX 960M Windows 10 2.60    899.00    \n",
       "1295 AMD Radeon R7 M440      Windows 10 2.04    549.99    \n",
       "1296 AMD Radeon R5 M430      Linux      2.30    805.99    \n",
       "1297 Intel HD Graphics 400   Windows 10 1.17    209.00    \n",
       "1298 Nvidia GeForce 920M     Windows 10 2.20    720.32    \n",
       "1299 Intel HD Graphics 520   Windows 10 1.80    638.00    \n",
       "1300 Intel HD Graphics 520   Windows 10 1.30   1499.00    \n",
       "1301 Intel HD Graphics       Windows 10 1.50    229.00    \n",
       "1302 AMD Radeon R5 M330      Windows 10 2.19    764.00    \n",
       "1303 Intel HD Graphics       Windows 10 2.20    369.00    "
      ]
     },
     "metadata": {},
     "output_type": "display_data"
    }
   ],
   "source": [
    "tail(data,50)"
   ]
  },
  {
   "cell_type": "code",
   "execution_count": 10,
   "id": "9f403276",
   "metadata": {},
   "outputs": [
    {
     "name": "stderr",
     "output_type": "stream",
     "text": [
      "Warning message:\n",
      "\"Expected 2 pieces. Missing pieces filled with `NA` in 1095 rows [1, 2, 3, 4, 5, 6, 7, 8, 9, 10, 11, 12, 13, 14, 15, 16, 17, 18, 19, 20, ...].\"\n"
     ]
    }
   ],
   "source": [
    "new <- separate(data, Memory, into = c(\"first\", \"second\"), sep = \"\\\\+\", extra = \"merge\")\n"
   ]
  },
  {
   "cell_type": "code",
   "execution_count": 11,
   "id": "d2515cd7",
   "metadata": {},
   "outputs": [],
   "source": [
    "data[\"first\"] <- new$first\n",
    "data['second'] <- new$second"
   ]
  },
  {
   "cell_type": "code",
   "execution_count": 12,
   "id": "5b8ed0b4",
   "metadata": {},
   "outputs": [
    {
     "data": {
      "text/html": [
       "<table>\n",
       "<thead><tr><th></th><th scope=col>laptop_ID</th><th scope=col>Company</th><th scope=col>Product</th><th scope=col>TypeName</th><th scope=col>Inches</th><th scope=col>ScreenResolution</th><th scope=col>Cpu</th><th scope=col>Ram</th><th scope=col>Memory</th><th scope=col>Gpu</th><th scope=col>OpSys</th><th scope=col>Weight</th><th scope=col>Price_euros</th><th scope=col>first</th><th scope=col>second</th></tr></thead>\n",
       "<tbody>\n",
       "\t<tr><th scope=row>1254</th><td>1271                                      </td><td>Lenovo                                    </td><td>ThinkPad L460                             </td><td>Notebook                                  </td><td>14.0                                      </td><td>IPS Panel Full HD 1920x1080               </td><td>Intel Core i5 6200U 2.3GHz                </td><td> 8                                        </td><td>256 SSD                                   </td><td>Intel HD Graphics 520                     </td><td>Windows 10                                </td><td>1.90                                      </td><td>1072.00                                   </td><td>256 SSD                                   </td><td>NA                                        </td></tr>\n",
       "\t<tr><th scope=row>1255</th><td>1272                                      </td><td>Dell                                      </td><td>Inspiron 3552                             </td><td>Notebook                                  </td><td>15.6                                      </td><td>1366x768                                  </td><td>Intel Pentium Quad Core N3700 1.6GHz      </td><td> 4                                        </td><td>0 HDD                                     </td><td>Intel HD Graphics                         </td><td>Windows 10                                </td><td>2.20                                      </td><td> 443.99                                   </td><td>0 HDD                                     </td><td>NA                                        </td></tr>\n",
       "\t<tr><th scope=row>1256</th><td>1273                                      </td><td>Asus                                      </td><td>X541NA-GO020T (N3350/4GB/1TB/W10)         </td><td>Notebook                                  </td><td>15.6                                      </td><td>1366x768                                  </td><td>Intel Celeron Dual Core N3350 1.1GHz      </td><td> 4                                        </td><td>1000 HDD                                  </td><td>Intel HD Graphics 500                     </td><td>Windows 10                                </td><td>2.00                                      </td><td> 339.00                                   </td><td>1000 HDD                                  </td><td>NA                                        </td></tr>\n",
       "\t<tr><th scope=row>1257</th><td>1274                                      </td><td>Asus                                      </td><td>Rog G752VT-GC073T                         </td><td>Gaming                                    </td><td>17.3                                      </td><td>IPS Panel Full HD 1920x1080               </td><td>Intel Core i7 6700HQ 2.6GHz               </td><td>16                                        </td><td>128 SSD +  1000 HDD                       </td><td>Nvidia GeForce GTX 970M                   </td><td>Windows 10                                </td><td>4.00                                      </td><td>1900.00                                   </td><td>128 SSD                                   </td><td>  1000 HDD                                </td></tr>\n",
       "\t<tr><th scope=row>1258</th><td>1275                                      </td><td>Dell                                      </td><td>Vostro 3568                               </td><td>Notebook                                  </td><td>15.6                                      </td><td>1366x768                                  </td><td>Intel Core i3 6006U 2GHz                  </td><td> 4                                        </td><td>0 HDD                                     </td><td>Intel HD Graphics 520                     </td><td>Windows 10                                </td><td>2.29                                      </td><td> 490.00                                   </td><td>0 HDD                                     </td><td>NA                                        </td></tr>\n",
       "\t<tr><th scope=row>1259</th><td>1276                                      </td><td>Lenovo                                    </td><td>B51-80 (i7-6500U/8GB/1008GB/Radeon        </td><td>Notebook                                  </td><td>15.6                                      </td><td>Full HD 1920x1080                         </td><td>Intel Core i7 6500U 2.5GHz                </td><td> 8                                        </td><td>1000 Hybrid                               </td><td>AMD Radeon R5 M330                        </td><td>Windows 7                                 </td><td>2.32                                      </td><td> 895.00                                   </td><td>1000 Hybrid                               </td><td>NA                                        </td></tr>\n",
       "\t<tr><th scope=row>1260</th><td>1277                                      </td><td>MSI                                       </td><td>GE62 Apache                               </td><td>Gaming                                    </td><td>15.6                                      </td><td>Full HD 1920x1080                         </td><td>Intel Core i7 6700HQ 2.6GHz               </td><td> 8                                        </td><td>128 SSD +  1000 HDD                       </td><td>Nvidia GeForce GTX 960M                   </td><td>Windows 10                                </td><td>2.40                                      </td><td>1229.00                                   </td><td>128 SSD                                   </td><td>  1000 HDD                                </td></tr>\n",
       "\t<tr><th scope=row>1261</th><td>1278                                      </td><td>Lenovo                                    </td><td>Yoga 500-14IBD                            </td><td>2 in 1 Convertible                        </td><td>14.0                                      </td><td>Full HD / Touchscreen 1920x1080           </td><td>Intel Core i5 6200U 2.3GHz                </td><td> 4                                        </td><td>128 SSD                                   </td><td>Intel HD Graphics 520                     </td><td>Windows 10                                </td><td>1.80                                      </td><td> 833.01                                   </td><td>128 SSD                                   </td><td>NA                                        </td></tr>\n",
       "\t<tr><th scope=row>1262</th><td>1279                                      </td><td>Asus                                      </td><td>ZenBook UX305CA-UBM1                      </td><td>Ultrabook                                 </td><td>13.3                                      </td><td>IPS Panel Full HD 1920x1080               </td><td>Intel Core M 6Y30 0.9GHz                  </td><td> 8                                        </td><td>512 SSD                                   </td><td>Intel HD Graphics 515                     </td><td>Windows 10                                </td><td>1.20                                      </td><td> 729.00                                   </td><td>512 SSD                                   </td><td>NA                                        </td></tr>\n",
       "\t<tr><th scope=row>1263</th><td>1280                                      </td><td>Dell                                      </td><td>Inspiron 3567                             </td><td>Notebook                                  </td><td>15.6                                      </td><td>1366x768                                  </td><td>Intel Core i3 7100U 2.4GHz                </td><td> 6                                        </td><td>1000 HDD                                  </td><td>Intel HD Graphics 620                     </td><td>Windows 10                                </td><td>2.30                                      </td><td> 459.00                                   </td><td>1000 HDD                                  </td><td>NA                                        </td></tr>\n",
       "\t<tr><th scope=row>1264</th><td>1281                                      </td><td>Acer                                      </td><td>Aspire ES1-531                            </td><td>Notebook                                  </td><td>15.6                                      </td><td>1366x768                                  </td><td>Intel Celeron Dual Core N3060 1.6GHz      </td><td> 4                                        </td><td>0 HDD                                     </td><td>Intel HD Graphics 400                     </td><td>Linux                                     </td><td>2.40                                      </td><td> 289.00                                   </td><td>0 HDD                                     </td><td>NA                                        </td></tr>\n",
       "\t<tr><th scope=row>1265</th><td>1282                                      </td><td>Dell                                      </td><td>Inspiron 3552                             </td><td>Notebook                                  </td><td>15.6                                      </td><td>1366x768                                  </td><td>Intel Celeron Dual Core N3050 1.6GHz      </td><td> 2                                        </td><td>0 HDD                                     </td><td>Intel HD Graphics                         </td><td>Windows 10                                </td><td>2.20                                      </td><td> 379.00                                   </td><td>0 HDD                                     </td><td>NA                                        </td></tr>\n",
       "\t<tr><th scope=row>1266</th><td>1283                                      </td><td>Lenovo                                    </td><td>IdeaPad Y700-15ISK                        </td><td>Notebook                                  </td><td>15.6                                      </td><td>IPS Panel Full HD 1920x1080               </td><td>Intel Core i7 6700HQ 2.6GHz               </td><td> 8                                        </td><td>1000 HDD                                  </td><td>Nvidia GeForce GTX 960M                   </td><td>Windows 10                                </td><td>2.60                                      </td><td> 899.00                                   </td><td>1000 HDD                                  </td><td>NA                                        </td></tr>\n",
       "\t<tr><th scope=row>1267</th><td>1284                                      </td><td>HP                                        </td><td>Pavilion 15-AW003nv                       </td><td>Notebook                                  </td><td>15.6                                      </td><td>Full HD 1920x1080                         </td><td>AMD A9-Series 9410 2.9GHz                 </td><td> 6                                        </td><td>1000 Hybrid                               </td><td>AMD Radeon R7 M440                        </td><td>Windows 10                                </td><td>2.04                                      </td><td> 549.99                                   </td><td>1000 Hybrid                               </td><td>NA                                        </td></tr>\n",
       "\t<tr><th scope=row>1268</th><td>1285                                      </td><td>Dell                                      </td><td>Inspiron 3567                             </td><td>Notebook                                  </td><td>15.6                                      </td><td>1366x768                                  </td><td>Intel Core i7 7500U 2.7GHz                </td><td> 8                                        </td><td>1000 HDD                                  </td><td>AMD Radeon R5 M430                        </td><td>Linux                                     </td><td>2.30                                      </td><td> 805.99                                   </td><td>1000 HDD                                  </td><td>NA                                        </td></tr>\n",
       "\t<tr><th scope=row>1269</th><td>1286                                      </td><td>HP                                        </td><td>Stream 11-Y000na                          </td><td>Netbook                                   </td><td>11.6                                      </td><td>1366x768                                  </td><td>Intel Celeron Dual Core N3060 1.6GHz      </td><td> 2                                        </td><td>32 Flash Storage                          </td><td>Intel HD Graphics 400                     </td><td>Windows 10                                </td><td>1.17                                      </td><td> 209.00                                   </td><td>32 Flash Storage                          </td><td>NA                                        </td></tr>\n",
       "\t<tr><th scope=row>1270</th><td>1287                                      </td><td>Asus                                      </td><td>X556UJ-XO044T (i7-6500U/4GB/500GB/GeForce </td><td>Notebook                                  </td><td>15.6                                      </td><td>1366x768                                  </td><td>Intel Core i7 6500U 2.5GHz                </td><td> 4                                        </td><td>0 HDD                                     </td><td>Nvidia GeForce 920M                       </td><td>Windows 10                                </td><td>2.20                                      </td><td> 720.32                                   </td><td>0 HDD                                     </td><td>NA                                        </td></tr>\n",
       "\t<tr><th scope=row>1271</th><td>1288                                      </td><td>Lenovo                                    </td><td>Yoga 500-14ISK                            </td><td>2 in 1 Convertible                        </td><td>14.0                                      </td><td>IPS Panel Full HD / Touchscreen 1920x1080 </td><td>Intel Core i7 6500U 2.5GHz                </td><td> 4                                        </td><td>128 SSD                                   </td><td>Intel HD Graphics 520                     </td><td>Windows 10                                </td><td>1.80                                      </td><td> 638.00                                   </td><td>128 SSD                                   </td><td>NA                                        </td></tr>\n",
       "\t<tr><th scope=row>1272</th><td>1289                                      </td><td>Lenovo                                    </td><td>Yoga 900-13ISK                            </td><td>2 in 1 Convertible                        </td><td>13.3                                      </td><td>IPS Panel Quad HD+ / Touchscreen 3200x1800</td><td>Intel Core i7 6500U 2.5GHz                </td><td>16                                        </td><td>512 SSD                                   </td><td>Intel HD Graphics 520                     </td><td>Windows 10                                </td><td>1.30                                      </td><td>1499.00                                   </td><td>512 SSD                                   </td><td>NA                                        </td></tr>\n",
       "\t<tr><th scope=row>1273</th><td>1290                                      </td><td>Lenovo                                    </td><td>IdeaPad 100S-14IBR                        </td><td>Notebook                                  </td><td>14.0                                      </td><td>1366x768                                  </td><td>Intel Celeron Dual Core N3050 1.6GHz      </td><td> 2                                        </td><td>64 Flash Storage                          </td><td>Intel HD Graphics                         </td><td>Windows 10                                </td><td>1.50                                      </td><td> 229.00                                   </td><td>64 Flash Storage                          </td><td>NA                                        </td></tr>\n",
       "\t<tr><th scope=row>1274</th><td>1291                                      </td><td>HP                                        </td><td>15-AC110nv (i7-6500U/6GB/1TB/Radeon       </td><td>Notebook                                  </td><td>15.6                                      </td><td>1366x768                                  </td><td>Intel Core i7 6500U 2.5GHz                </td><td> 6                                        </td><td>1000 HDD                                  </td><td>AMD Radeon R5 M330                        </td><td>Windows 10                                </td><td>2.19                                      </td><td> 764.00                                   </td><td>1000 HDD                                  </td><td>NA                                        </td></tr>\n",
       "\t<tr><th scope=row>1275</th><td>1292                                      </td><td>Asus                                      </td><td>X553SA-XX031T (N3050/4GB/500GB/W10)       </td><td>Notebook                                  </td><td>15.6                                      </td><td>1366x768                                  </td><td>Intel Celeron Dual Core N3050 1.6GHz      </td><td> 4                                        </td><td>0 HDD                                     </td><td>Intel HD Graphics                         </td><td>Windows 10                                </td><td>2.20                                      </td><td> 369.00                                   </td><td>0 HDD                                     </td><td>NA                                        </td></tr>\n",
       "\t<tr><th scope=row>1276</th><td>1293                                      </td><td>Asus                                      </td><td>ZenBook UX305CA-UBM1                      </td><td>Ultrabook                                 </td><td>13.3                                      </td><td>IPS Panel Full HD 1920x1080               </td><td>Intel Core M 6Y30 0.9GHz                  </td><td> 8                                        </td><td>512 SSD                                   </td><td>Intel HD Graphics 515                     </td><td>Windows 10                                </td><td>1.20                                      </td><td> 729.00                                   </td><td>512 SSD                                   </td><td>NA                                        </td></tr>\n",
       "\t<tr><th scope=row>1277</th><td>1294                                      </td><td>Dell                                      </td><td>Inspiron 3567                             </td><td>Notebook                                  </td><td>15.6                                      </td><td>1366x768                                  </td><td>Intel Core i3 7100U 2.4GHz                </td><td> 6                                        </td><td>1000 HDD                                  </td><td>Intel HD Graphics 620                     </td><td>Windows 10                                </td><td>2.30                                      </td><td> 459.00                                   </td><td>1000 HDD                                  </td><td>NA                                        </td></tr>\n",
       "\t<tr><th scope=row>1278</th><td>1295                                      </td><td>Acer                                      </td><td>Aspire ES1-531                            </td><td>Notebook                                  </td><td>15.6                                      </td><td>1366x768                                  </td><td>Intel Celeron Dual Core N3060 1.6GHz      </td><td> 4                                        </td><td>0 HDD                                     </td><td>Intel HD Graphics 400                     </td><td>Linux                                     </td><td>2.40                                      </td><td> 289.00                                   </td><td>0 HDD                                     </td><td>NA                                        </td></tr>\n",
       "\t<tr><th scope=row>1279</th><td>1296                                      </td><td>Dell                                      </td><td>Inspiron 3552                             </td><td>Notebook                                  </td><td>15.6                                      </td><td>1366x768                                  </td><td>Intel Celeron Dual Core N3050 1.6GHz      </td><td> 2                                        </td><td>0 HDD                                     </td><td>Intel HD Graphics                         </td><td>Windows 10                                </td><td>2.20                                      </td><td> 379.00                                   </td><td>0 HDD                                     </td><td>NA                                        </td></tr>\n",
       "\t<tr><th scope=row>1280</th><td>1297                                      </td><td>Lenovo                                    </td><td>IdeaPad Y700-15ISK                        </td><td>Notebook                                  </td><td>15.6                                      </td><td>IPS Panel Full HD 1920x1080               </td><td>Intel Core i7 6700HQ 2.6GHz               </td><td> 8                                        </td><td>1000 HDD                                  </td><td>Nvidia GeForce GTX 960M                   </td><td>Windows 10                                </td><td>2.60                                      </td><td> 899.00                                   </td><td>1000 HDD                                  </td><td>NA                                        </td></tr>\n",
       "\t<tr><th scope=row>1281</th><td>1298                                      </td><td>HP                                        </td><td>Pavilion 15-AW003nv                       </td><td>Notebook                                  </td><td>15.6                                      </td><td>Full HD 1920x1080                         </td><td>AMD A9-Series 9410 2.9GHz                 </td><td> 6                                        </td><td>1000 Hybrid                               </td><td>AMD Radeon R7 M440                        </td><td>Windows 10                                </td><td>2.04                                      </td><td> 549.99                                   </td><td>1000 Hybrid                               </td><td>NA                                        </td></tr>\n",
       "\t<tr><th scope=row>1282</th><td>1299                                      </td><td>Dell                                      </td><td>Inspiron 3567                             </td><td>Notebook                                  </td><td>15.6                                      </td><td>1366x768                                  </td><td>Intel Core i7 7500U 2.7GHz                </td><td> 8                                        </td><td>1000 HDD                                  </td><td>AMD Radeon R5 M430                        </td><td>Linux                                     </td><td>2.30                                      </td><td> 805.99                                   </td><td>1000 HDD                                  </td><td>NA                                        </td></tr>\n",
       "\t<tr><th scope=row>1283</th><td>1300                                      </td><td>HP                                        </td><td>Stream 11-Y000na                          </td><td>Netbook                                   </td><td>11.6                                      </td><td>1366x768                                  </td><td>Intel Celeron Dual Core N3060 1.6GHz      </td><td> 2                                        </td><td>32 Flash Storage                          </td><td>Intel HD Graphics 400                     </td><td>Windows 10                                </td><td>1.17                                      </td><td> 209.00                                   </td><td>32 Flash Storage                          </td><td>NA                                        </td></tr>\n",
       "\t<tr><th scope=row>1284</th><td>1301                                      </td><td>Asus                                      </td><td>X556UJ-XO044T (i7-6500U/4GB/500GB/GeForce </td><td>Notebook                                  </td><td>15.6                                      </td><td>1366x768                                  </td><td>Intel Core i7 6500U 2.5GHz                </td><td> 4                                        </td><td>0 HDD                                     </td><td>Nvidia GeForce 920M                       </td><td>Windows 10                                </td><td>2.20                                      </td><td> 720.32                                   </td><td>0 HDD                                     </td><td>NA                                        </td></tr>\n",
       "\t<tr><th scope=row>1285</th><td>1302                                      </td><td>Lenovo                                    </td><td>Yoga 500-14ISK                            </td><td>2 in 1 Convertible                        </td><td>14.0                                      </td><td>IPS Panel Full HD / Touchscreen 1920x1080 </td><td>Intel Core i7 6500U 2.5GHz                </td><td> 4                                        </td><td>128 SSD                                   </td><td>Intel HD Graphics 520                     </td><td>Windows 10                                </td><td>1.80                                      </td><td> 638.00                                   </td><td>128 SSD                                   </td><td>NA                                        </td></tr>\n",
       "\t<tr><th scope=row>1286</th><td>1303                                      </td><td>Lenovo                                    </td><td>Yoga 900-13ISK                            </td><td>2 in 1 Convertible                        </td><td>13.3                                      </td><td>IPS Panel Quad HD+ / Touchscreen 3200x1800</td><td>Intel Core i7 6500U 2.5GHz                </td><td>16                                        </td><td>512 SSD                                   </td><td>Intel HD Graphics 520                     </td><td>Windows 10                                </td><td>1.30                                      </td><td>1499.00                                   </td><td>512 SSD                                   </td><td>NA                                        </td></tr>\n",
       "\t<tr><th scope=row>1287</th><td>1304                                      </td><td>Lenovo                                    </td><td>IdeaPad 100S-14IBR                        </td><td>Notebook                                  </td><td>14.0                                      </td><td>1366x768                                  </td><td>Intel Celeron Dual Core N3050 1.6GHz      </td><td> 2                                        </td><td>64 Flash Storage                          </td><td>Intel HD Graphics                         </td><td>Windows 10                                </td><td>1.50                                      </td><td> 229.00                                   </td><td>64 Flash Storage                          </td><td>NA                                        </td></tr>\n",
       "\t<tr><th scope=row>1288</th><td>1305                                      </td><td>HP                                        </td><td>15-AC110nv (i7-6500U/6GB/1TB/Radeon       </td><td>Notebook                                  </td><td>15.6                                      </td><td>1366x768                                  </td><td>Intel Core i7 6500U 2.5GHz                </td><td> 6                                        </td><td>1000 HDD                                  </td><td>AMD Radeon R5 M330                        </td><td>Windows 10                                </td><td>2.19                                      </td><td> 764.00                                   </td><td>1000 HDD                                  </td><td>NA                                        </td></tr>\n",
       "\t<tr><th scope=row>1289</th><td>1306                                      </td><td>Asus                                      </td><td>X553SA-XX031T (N3050/4GB/500GB/W10)       </td><td>Notebook                                  </td><td>15.6                                      </td><td>1366x768                                  </td><td>Intel Celeron Dual Core N3050 1.6GHz      </td><td> 4                                        </td><td>0 HDD                                     </td><td>Intel HD Graphics                         </td><td>Windows 10                                </td><td>2.20                                      </td><td> 369.00                                   </td><td>0 HDD                                     </td><td>NA                                        </td></tr>\n",
       "\t<tr><th scope=row>1290</th><td>1307                                      </td><td>Asus                                      </td><td>ZenBook UX305CA-UBM1                      </td><td>Ultrabook                                 </td><td>13.3                                      </td><td>IPS Panel Full HD 1920x1080               </td><td>Intel Core M 6Y30 0.9GHz                  </td><td> 8                                        </td><td>512 SSD                                   </td><td>Intel HD Graphics 515                     </td><td>Windows 10                                </td><td>1.20                                      </td><td> 729.00                                   </td><td>512 SSD                                   </td><td>NA                                        </td></tr>\n",
       "\t<tr><th scope=row>1291</th><td>1308                                      </td><td>Dell                                      </td><td>Inspiron 3567                             </td><td>Notebook                                  </td><td>15.6                                      </td><td>1366x768                                  </td><td>Intel Core i3 7100U 2.4GHz                </td><td> 6                                        </td><td>1000 HDD                                  </td><td>Intel HD Graphics 620                     </td><td>Windows 10                                </td><td>2.30                                      </td><td> 459.00                                   </td><td>1000 HDD                                  </td><td>NA                                        </td></tr>\n",
       "\t<tr><th scope=row>1292</th><td>1309                                      </td><td>Acer                                      </td><td>Aspire ES1-531                            </td><td>Notebook                                  </td><td>15.6                                      </td><td>1366x768                                  </td><td>Intel Celeron Dual Core N3060 1.6GHz      </td><td> 4                                        </td><td>0 HDD                                     </td><td>Intel HD Graphics 400                     </td><td>Linux                                     </td><td>2.40                                      </td><td> 289.00                                   </td><td>0 HDD                                     </td><td>NA                                        </td></tr>\n",
       "\t<tr><th scope=row>1293</th><td>1310                                      </td><td>Dell                                      </td><td>Inspiron 3552                             </td><td>Notebook                                  </td><td>15.6                                      </td><td>1366x768                                  </td><td>Intel Celeron Dual Core N3050 1.6GHz      </td><td> 2                                        </td><td>0 HDD                                     </td><td>Intel HD Graphics                         </td><td>Windows 10                                </td><td>2.20                                      </td><td> 379.00                                   </td><td>0 HDD                                     </td><td>NA                                        </td></tr>\n",
       "\t<tr><th scope=row>1294</th><td>1311                                      </td><td>Lenovo                                    </td><td>IdeaPad Y700-15ISK                        </td><td>Notebook                                  </td><td>15.6                                      </td><td>IPS Panel Full HD 1920x1080               </td><td>Intel Core i7 6700HQ 2.6GHz               </td><td> 8                                        </td><td>1000 HDD                                  </td><td>Nvidia GeForce GTX 960M                   </td><td>Windows 10                                </td><td>2.60                                      </td><td> 899.00                                   </td><td>1000 HDD                                  </td><td>NA                                        </td></tr>\n",
       "\t<tr><th scope=row>1295</th><td>1312                                      </td><td>HP                                        </td><td>Pavilion 15-AW003nv                       </td><td>Notebook                                  </td><td>15.6                                      </td><td>Full HD 1920x1080                         </td><td>AMD A9-Series 9410 2.9GHz                 </td><td> 6                                        </td><td>1000 Hybrid                               </td><td>AMD Radeon R7 M440                        </td><td>Windows 10                                </td><td>2.04                                      </td><td> 549.99                                   </td><td>1000 Hybrid                               </td><td>NA                                        </td></tr>\n",
       "\t<tr><th scope=row>1296</th><td>1313                                      </td><td>Dell                                      </td><td>Inspiron 3567                             </td><td>Notebook                                  </td><td>15.6                                      </td><td>1366x768                                  </td><td>Intel Core i7 7500U 2.7GHz                </td><td> 8                                        </td><td>1000 HDD                                  </td><td>AMD Radeon R5 M430                        </td><td>Linux                                     </td><td>2.30                                      </td><td> 805.99                                   </td><td>1000 HDD                                  </td><td>NA                                        </td></tr>\n",
       "\t<tr><th scope=row>1297</th><td>1314                                      </td><td>HP                                        </td><td>Stream 11-Y000na                          </td><td>Netbook                                   </td><td>11.6                                      </td><td>1366x768                                  </td><td>Intel Celeron Dual Core N3060 1.6GHz      </td><td> 2                                        </td><td>32 Flash Storage                          </td><td>Intel HD Graphics 400                     </td><td>Windows 10                                </td><td>1.17                                      </td><td> 209.00                                   </td><td>32 Flash Storage                          </td><td>NA                                        </td></tr>\n",
       "\t<tr><th scope=row>1298</th><td>1315                                      </td><td>Asus                                      </td><td>X556UJ-XO044T (i7-6500U/4GB/500GB/GeForce </td><td>Notebook                                  </td><td>15.6                                      </td><td>1366x768                                  </td><td>Intel Core i7 6500U 2.5GHz                </td><td> 4                                        </td><td>0 HDD                                     </td><td>Nvidia GeForce 920M                       </td><td>Windows 10                                </td><td>2.20                                      </td><td> 720.32                                   </td><td>0 HDD                                     </td><td>NA                                        </td></tr>\n",
       "\t<tr><th scope=row>1299</th><td>1316                                      </td><td>Lenovo                                    </td><td>Yoga 500-14ISK                            </td><td>2 in 1 Convertible                        </td><td>14.0                                      </td><td>IPS Panel Full HD / Touchscreen 1920x1080 </td><td>Intel Core i7 6500U 2.5GHz                </td><td> 4                                        </td><td>128 SSD                                   </td><td>Intel HD Graphics 520                     </td><td>Windows 10                                </td><td>1.80                                      </td><td> 638.00                                   </td><td>128 SSD                                   </td><td>NA                                        </td></tr>\n",
       "\t<tr><th scope=row>1300</th><td>1317                                      </td><td>Lenovo                                    </td><td>Yoga 900-13ISK                            </td><td>2 in 1 Convertible                        </td><td>13.3                                      </td><td>IPS Panel Quad HD+ / Touchscreen 3200x1800</td><td>Intel Core i7 6500U 2.5GHz                </td><td>16                                        </td><td>512 SSD                                   </td><td>Intel HD Graphics 520                     </td><td>Windows 10                                </td><td>1.30                                      </td><td>1499.00                                   </td><td>512 SSD                                   </td><td>NA                                        </td></tr>\n",
       "\t<tr><th scope=row>1301</th><td>1318                                      </td><td>Lenovo                                    </td><td>IdeaPad 100S-14IBR                        </td><td>Notebook                                  </td><td>14.0                                      </td><td>1366x768                                  </td><td>Intel Celeron Dual Core N3050 1.6GHz      </td><td> 2                                        </td><td>64 Flash Storage                          </td><td>Intel HD Graphics                         </td><td>Windows 10                                </td><td>1.50                                      </td><td> 229.00                                   </td><td>64 Flash Storage                          </td><td>NA                                        </td></tr>\n",
       "\t<tr><th scope=row>1302</th><td>1319                                      </td><td>HP                                        </td><td>15-AC110nv (i7-6500U/6GB/1TB/Radeon       </td><td>Notebook                                  </td><td>15.6                                      </td><td>1366x768                                  </td><td>Intel Core i7 6500U 2.5GHz                </td><td> 6                                        </td><td>1000 HDD                                  </td><td>AMD Radeon R5 M330                        </td><td>Windows 10                                </td><td>2.19                                      </td><td> 764.00                                   </td><td>1000 HDD                                  </td><td>NA                                        </td></tr>\n",
       "\t<tr><th scope=row>1303</th><td>1320                                      </td><td>Asus                                      </td><td>X553SA-XX031T (N3050/4GB/500GB/W10)       </td><td>Notebook                                  </td><td>15.6                                      </td><td>1366x768                                  </td><td>Intel Celeron Dual Core N3050 1.6GHz      </td><td> 4                                        </td><td>0 HDD                                     </td><td>Intel HD Graphics                         </td><td>Windows 10                                </td><td>2.20                                      </td><td> 369.00                                   </td><td>0 HDD                                     </td><td>NA                                        </td></tr>\n",
       "</tbody>\n",
       "</table>\n"
      ],
      "text/latex": [
       "\\begin{tabular}{r|lllllllllllllll}\n",
       "  & laptop\\_ID & Company & Product & TypeName & Inches & ScreenResolution & Cpu & Ram & Memory & Gpu & OpSys & Weight & Price\\_euros & first & second\\\\\n",
       "\\hline\n",
       "\t1254 & 1271                                       & Lenovo                                     & ThinkPad L460                              & Notebook                                   & 14.0                                       & IPS Panel Full HD 1920x1080                & Intel Core i5 6200U 2.3GHz                 &  8                                         & 256 SSD                                    & Intel HD Graphics 520                      & Windows 10                                 & 1.90                                       & 1072.00                                    & 256 SSD                                    & NA                                        \\\\\n",
       "\t1255 & 1272                                       & Dell                                       & Inspiron 3552                              & Notebook                                   & 15.6                                       & 1366x768                                   & Intel Pentium Quad Core N3700 1.6GHz       &  4                                         & 0 HDD                                      & Intel HD Graphics                          & Windows 10                                 & 2.20                                       &  443.99                                    & 0 HDD                                      & NA                                        \\\\\n",
       "\t1256 & 1273                                       & Asus                                       & X541NA-GO020T (N3350/4GB/1TB/W10)          & Notebook                                   & 15.6                                       & 1366x768                                   & Intel Celeron Dual Core N3350 1.1GHz       &  4                                         & 1000 HDD                                   & Intel HD Graphics 500                      & Windows 10                                 & 2.00                                       &  339.00                                    & 1000 HDD                                   & NA                                        \\\\\n",
       "\t1257 & 1274                                       & Asus                                       & Rog G752VT-GC073T                          & Gaming                                     & 17.3                                       & IPS Panel Full HD 1920x1080                & Intel Core i7 6700HQ 2.6GHz                & 16                                         & 128 SSD +  1000 HDD                        & Nvidia GeForce GTX 970M                    & Windows 10                                 & 4.00                                       & 1900.00                                    & 128 SSD                                    &   1000 HDD                                \\\\\n",
       "\t1258 & 1275                                       & Dell                                       & Vostro 3568                                & Notebook                                   & 15.6                                       & 1366x768                                   & Intel Core i3 6006U 2GHz                   &  4                                         & 0 HDD                                      & Intel HD Graphics 520                      & Windows 10                                 & 2.29                                       &  490.00                                    & 0 HDD                                      & NA                                        \\\\\n",
       "\t1259 & 1276                                       & Lenovo                                     & B51-80 (i7-6500U/8GB/1008GB/Radeon         & Notebook                                   & 15.6                                       & Full HD 1920x1080                          & Intel Core i7 6500U 2.5GHz                 &  8                                         & 1000 Hybrid                                & AMD Radeon R5 M330                         & Windows 7                                  & 2.32                                       &  895.00                                    & 1000 Hybrid                                & NA                                        \\\\\n",
       "\t1260 & 1277                                       & MSI                                        & GE62 Apache                                & Gaming                                     & 15.6                                       & Full HD 1920x1080                          & Intel Core i7 6700HQ 2.6GHz                &  8                                         & 128 SSD +  1000 HDD                        & Nvidia GeForce GTX 960M                    & Windows 10                                 & 2.40                                       & 1229.00                                    & 128 SSD                                    &   1000 HDD                                \\\\\n",
       "\t1261 & 1278                                       & Lenovo                                     & Yoga 500-14IBD                             & 2 in 1 Convertible                         & 14.0                                       & Full HD / Touchscreen 1920x1080            & Intel Core i5 6200U 2.3GHz                 &  4                                         & 128 SSD                                    & Intel HD Graphics 520                      & Windows 10                                 & 1.80                                       &  833.01                                    & 128 SSD                                    & NA                                        \\\\\n",
       "\t1262 & 1279                                       & Asus                                       & ZenBook UX305CA-UBM1                       & Ultrabook                                  & 13.3                                       & IPS Panel Full HD 1920x1080                & Intel Core M 6Y30 0.9GHz                   &  8                                         & 512 SSD                                    & Intel HD Graphics 515                      & Windows 10                                 & 1.20                                       &  729.00                                    & 512 SSD                                    & NA                                        \\\\\n",
       "\t1263 & 1280                                       & Dell                                       & Inspiron 3567                              & Notebook                                   & 15.6                                       & 1366x768                                   & Intel Core i3 7100U 2.4GHz                 &  6                                         & 1000 HDD                                   & Intel HD Graphics 620                      & Windows 10                                 & 2.30                                       &  459.00                                    & 1000 HDD                                   & NA                                        \\\\\n",
       "\t1264 & 1281                                       & Acer                                       & Aspire ES1-531                             & Notebook                                   & 15.6                                       & 1366x768                                   & Intel Celeron Dual Core N3060 1.6GHz       &  4                                         & 0 HDD                                      & Intel HD Graphics 400                      & Linux                                      & 2.40                                       &  289.00                                    & 0 HDD                                      & NA                                        \\\\\n",
       "\t1265 & 1282                                       & Dell                                       & Inspiron 3552                              & Notebook                                   & 15.6                                       & 1366x768                                   & Intel Celeron Dual Core N3050 1.6GHz       &  2                                         & 0 HDD                                      & Intel HD Graphics                          & Windows 10                                 & 2.20                                       &  379.00                                    & 0 HDD                                      & NA                                        \\\\\n",
       "\t1266 & 1283                                       & Lenovo                                     & IdeaPad Y700-15ISK                         & Notebook                                   & 15.6                                       & IPS Panel Full HD 1920x1080                & Intel Core i7 6700HQ 2.6GHz                &  8                                         & 1000 HDD                                   & Nvidia GeForce GTX 960M                    & Windows 10                                 & 2.60                                       &  899.00                                    & 1000 HDD                                   & NA                                        \\\\\n",
       "\t1267 & 1284                                       & HP                                         & Pavilion 15-AW003nv                        & Notebook                                   & 15.6                                       & Full HD 1920x1080                          & AMD A9-Series 9410 2.9GHz                  &  6                                         & 1000 Hybrid                                & AMD Radeon R7 M440                         & Windows 10                                 & 2.04                                       &  549.99                                    & 1000 Hybrid                                & NA                                        \\\\\n",
       "\t1268 & 1285                                       & Dell                                       & Inspiron 3567                              & Notebook                                   & 15.6                                       & 1366x768                                   & Intel Core i7 7500U 2.7GHz                 &  8                                         & 1000 HDD                                   & AMD Radeon R5 M430                         & Linux                                      & 2.30                                       &  805.99                                    & 1000 HDD                                   & NA                                        \\\\\n",
       "\t1269 & 1286                                       & HP                                         & Stream 11-Y000na                           & Netbook                                    & 11.6                                       & 1366x768                                   & Intel Celeron Dual Core N3060 1.6GHz       &  2                                         & 32 Flash Storage                           & Intel HD Graphics 400                      & Windows 10                                 & 1.17                                       &  209.00                                    & 32 Flash Storage                           & NA                                        \\\\\n",
       "\t1270 & 1287                                       & Asus                                       & X556UJ-XO044T (i7-6500U/4GB/500GB/GeForce  & Notebook                                   & 15.6                                       & 1366x768                                   & Intel Core i7 6500U 2.5GHz                 &  4                                         & 0 HDD                                      & Nvidia GeForce 920M                        & Windows 10                                 & 2.20                                       &  720.32                                    & 0 HDD                                      & NA                                        \\\\\n",
       "\t1271 & 1288                                       & Lenovo                                     & Yoga 500-14ISK                             & 2 in 1 Convertible                         & 14.0                                       & IPS Panel Full HD / Touchscreen 1920x1080  & Intel Core i7 6500U 2.5GHz                 &  4                                         & 128 SSD                                    & Intel HD Graphics 520                      & Windows 10                                 & 1.80                                       &  638.00                                    & 128 SSD                                    & NA                                        \\\\\n",
       "\t1272 & 1289                                       & Lenovo                                     & Yoga 900-13ISK                             & 2 in 1 Convertible                         & 13.3                                       & IPS Panel Quad HD+ / Touchscreen 3200x1800 & Intel Core i7 6500U 2.5GHz                 & 16                                         & 512 SSD                                    & Intel HD Graphics 520                      & Windows 10                                 & 1.30                                       & 1499.00                                    & 512 SSD                                    & NA                                        \\\\\n",
       "\t1273 & 1290                                       & Lenovo                                     & IdeaPad 100S-14IBR                         & Notebook                                   & 14.0                                       & 1366x768                                   & Intel Celeron Dual Core N3050 1.6GHz       &  2                                         & 64 Flash Storage                           & Intel HD Graphics                          & Windows 10                                 & 1.50                                       &  229.00                                    & 64 Flash Storage                           & NA                                        \\\\\n",
       "\t1274 & 1291                                       & HP                                         & 15-AC110nv (i7-6500U/6GB/1TB/Radeon        & Notebook                                   & 15.6                                       & 1366x768                                   & Intel Core i7 6500U 2.5GHz                 &  6                                         & 1000 HDD                                   & AMD Radeon R5 M330                         & Windows 10                                 & 2.19                                       &  764.00                                    & 1000 HDD                                   & NA                                        \\\\\n",
       "\t1275 & 1292                                       & Asus                                       & X553SA-XX031T (N3050/4GB/500GB/W10)        & Notebook                                   & 15.6                                       & 1366x768                                   & Intel Celeron Dual Core N3050 1.6GHz       &  4                                         & 0 HDD                                      & Intel HD Graphics                          & Windows 10                                 & 2.20                                       &  369.00                                    & 0 HDD                                      & NA                                        \\\\\n",
       "\t1276 & 1293                                       & Asus                                       & ZenBook UX305CA-UBM1                       & Ultrabook                                  & 13.3                                       & IPS Panel Full HD 1920x1080                & Intel Core M 6Y30 0.9GHz                   &  8                                         & 512 SSD                                    & Intel HD Graphics 515                      & Windows 10                                 & 1.20                                       &  729.00                                    & 512 SSD                                    & NA                                        \\\\\n",
       "\t1277 & 1294                                       & Dell                                       & Inspiron 3567                              & Notebook                                   & 15.6                                       & 1366x768                                   & Intel Core i3 7100U 2.4GHz                 &  6                                         & 1000 HDD                                   & Intel HD Graphics 620                      & Windows 10                                 & 2.30                                       &  459.00                                    & 1000 HDD                                   & NA                                        \\\\\n",
       "\t1278 & 1295                                       & Acer                                       & Aspire ES1-531                             & Notebook                                   & 15.6                                       & 1366x768                                   & Intel Celeron Dual Core N3060 1.6GHz       &  4                                         & 0 HDD                                      & Intel HD Graphics 400                      & Linux                                      & 2.40                                       &  289.00                                    & 0 HDD                                      & NA                                        \\\\\n",
       "\t1279 & 1296                                       & Dell                                       & Inspiron 3552                              & Notebook                                   & 15.6                                       & 1366x768                                   & Intel Celeron Dual Core N3050 1.6GHz       &  2                                         & 0 HDD                                      & Intel HD Graphics                          & Windows 10                                 & 2.20                                       &  379.00                                    & 0 HDD                                      & NA                                        \\\\\n",
       "\t1280 & 1297                                       & Lenovo                                     & IdeaPad Y700-15ISK                         & Notebook                                   & 15.6                                       & IPS Panel Full HD 1920x1080                & Intel Core i7 6700HQ 2.6GHz                &  8                                         & 1000 HDD                                   & Nvidia GeForce GTX 960M                    & Windows 10                                 & 2.60                                       &  899.00                                    & 1000 HDD                                   & NA                                        \\\\\n",
       "\t1281 & 1298                                       & HP                                         & Pavilion 15-AW003nv                        & Notebook                                   & 15.6                                       & Full HD 1920x1080                          & AMD A9-Series 9410 2.9GHz                  &  6                                         & 1000 Hybrid                                & AMD Radeon R7 M440                         & Windows 10                                 & 2.04                                       &  549.99                                    & 1000 Hybrid                                & NA                                        \\\\\n",
       "\t1282 & 1299                                       & Dell                                       & Inspiron 3567                              & Notebook                                   & 15.6                                       & 1366x768                                   & Intel Core i7 7500U 2.7GHz                 &  8                                         & 1000 HDD                                   & AMD Radeon R5 M430                         & Linux                                      & 2.30                                       &  805.99                                    & 1000 HDD                                   & NA                                        \\\\\n",
       "\t1283 & 1300                                       & HP                                         & Stream 11-Y000na                           & Netbook                                    & 11.6                                       & 1366x768                                   & Intel Celeron Dual Core N3060 1.6GHz       &  2                                         & 32 Flash Storage                           & Intel HD Graphics 400                      & Windows 10                                 & 1.17                                       &  209.00                                    & 32 Flash Storage                           & NA                                        \\\\\n",
       "\t1284 & 1301                                       & Asus                                       & X556UJ-XO044T (i7-6500U/4GB/500GB/GeForce  & Notebook                                   & 15.6                                       & 1366x768                                   & Intel Core i7 6500U 2.5GHz                 &  4                                         & 0 HDD                                      & Nvidia GeForce 920M                        & Windows 10                                 & 2.20                                       &  720.32                                    & 0 HDD                                      & NA                                        \\\\\n",
       "\t1285 & 1302                                       & Lenovo                                     & Yoga 500-14ISK                             & 2 in 1 Convertible                         & 14.0                                       & IPS Panel Full HD / Touchscreen 1920x1080  & Intel Core i7 6500U 2.5GHz                 &  4                                         & 128 SSD                                    & Intel HD Graphics 520                      & Windows 10                                 & 1.80                                       &  638.00                                    & 128 SSD                                    & NA                                        \\\\\n",
       "\t1286 & 1303                                       & Lenovo                                     & Yoga 900-13ISK                             & 2 in 1 Convertible                         & 13.3                                       & IPS Panel Quad HD+ / Touchscreen 3200x1800 & Intel Core i7 6500U 2.5GHz                 & 16                                         & 512 SSD                                    & Intel HD Graphics 520                      & Windows 10                                 & 1.30                                       & 1499.00                                    & 512 SSD                                    & NA                                        \\\\\n",
       "\t1287 & 1304                                       & Lenovo                                     & IdeaPad 100S-14IBR                         & Notebook                                   & 14.0                                       & 1366x768                                   & Intel Celeron Dual Core N3050 1.6GHz       &  2                                         & 64 Flash Storage                           & Intel HD Graphics                          & Windows 10                                 & 1.50                                       &  229.00                                    & 64 Flash Storage                           & NA                                        \\\\\n",
       "\t1288 & 1305                                       & HP                                         & 15-AC110nv (i7-6500U/6GB/1TB/Radeon        & Notebook                                   & 15.6                                       & 1366x768                                   & Intel Core i7 6500U 2.5GHz                 &  6                                         & 1000 HDD                                   & AMD Radeon R5 M330                         & Windows 10                                 & 2.19                                       &  764.00                                    & 1000 HDD                                   & NA                                        \\\\\n",
       "\t1289 & 1306                                       & Asus                                       & X553SA-XX031T (N3050/4GB/500GB/W10)        & Notebook                                   & 15.6                                       & 1366x768                                   & Intel Celeron Dual Core N3050 1.6GHz       &  4                                         & 0 HDD                                      & Intel HD Graphics                          & Windows 10                                 & 2.20                                       &  369.00                                    & 0 HDD                                      & NA                                        \\\\\n",
       "\t1290 & 1307                                       & Asus                                       & ZenBook UX305CA-UBM1                       & Ultrabook                                  & 13.3                                       & IPS Panel Full HD 1920x1080                & Intel Core M 6Y30 0.9GHz                   &  8                                         & 512 SSD                                    & Intel HD Graphics 515                      & Windows 10                                 & 1.20                                       &  729.00                                    & 512 SSD                                    & NA                                        \\\\\n",
       "\t1291 & 1308                                       & Dell                                       & Inspiron 3567                              & Notebook                                   & 15.6                                       & 1366x768                                   & Intel Core i3 7100U 2.4GHz                 &  6                                         & 1000 HDD                                   & Intel HD Graphics 620                      & Windows 10                                 & 2.30                                       &  459.00                                    & 1000 HDD                                   & NA                                        \\\\\n",
       "\t1292 & 1309                                       & Acer                                       & Aspire ES1-531                             & Notebook                                   & 15.6                                       & 1366x768                                   & Intel Celeron Dual Core N3060 1.6GHz       &  4                                         & 0 HDD                                      & Intel HD Graphics 400                      & Linux                                      & 2.40                                       &  289.00                                    & 0 HDD                                      & NA                                        \\\\\n",
       "\t1293 & 1310                                       & Dell                                       & Inspiron 3552                              & Notebook                                   & 15.6                                       & 1366x768                                   & Intel Celeron Dual Core N3050 1.6GHz       &  2                                         & 0 HDD                                      & Intel HD Graphics                          & Windows 10                                 & 2.20                                       &  379.00                                    & 0 HDD                                      & NA                                        \\\\\n",
       "\t1294 & 1311                                       & Lenovo                                     & IdeaPad Y700-15ISK                         & Notebook                                   & 15.6                                       & IPS Panel Full HD 1920x1080                & Intel Core i7 6700HQ 2.6GHz                &  8                                         & 1000 HDD                                   & Nvidia GeForce GTX 960M                    & Windows 10                                 & 2.60                                       &  899.00                                    & 1000 HDD                                   & NA                                        \\\\\n",
       "\t1295 & 1312                                       & HP                                         & Pavilion 15-AW003nv                        & Notebook                                   & 15.6                                       & Full HD 1920x1080                          & AMD A9-Series 9410 2.9GHz                  &  6                                         & 1000 Hybrid                                & AMD Radeon R7 M440                         & Windows 10                                 & 2.04                                       &  549.99                                    & 1000 Hybrid                                & NA                                        \\\\\n",
       "\t1296 & 1313                                       & Dell                                       & Inspiron 3567                              & Notebook                                   & 15.6                                       & 1366x768                                   & Intel Core i7 7500U 2.7GHz                 &  8                                         & 1000 HDD                                   & AMD Radeon R5 M430                         & Linux                                      & 2.30                                       &  805.99                                    & 1000 HDD                                   & NA                                        \\\\\n",
       "\t1297 & 1314                                       & HP                                         & Stream 11-Y000na                           & Netbook                                    & 11.6                                       & 1366x768                                   & Intel Celeron Dual Core N3060 1.6GHz       &  2                                         & 32 Flash Storage                           & Intel HD Graphics 400                      & Windows 10                                 & 1.17                                       &  209.00                                    & 32 Flash Storage                           & NA                                        \\\\\n",
       "\t1298 & 1315                                       & Asus                                       & X556UJ-XO044T (i7-6500U/4GB/500GB/GeForce  & Notebook                                   & 15.6                                       & 1366x768                                   & Intel Core i7 6500U 2.5GHz                 &  4                                         & 0 HDD                                      & Nvidia GeForce 920M                        & Windows 10                                 & 2.20                                       &  720.32                                    & 0 HDD                                      & NA                                        \\\\\n",
       "\t1299 & 1316                                       & Lenovo                                     & Yoga 500-14ISK                             & 2 in 1 Convertible                         & 14.0                                       & IPS Panel Full HD / Touchscreen 1920x1080  & Intel Core i7 6500U 2.5GHz                 &  4                                         & 128 SSD                                    & Intel HD Graphics 520                      & Windows 10                                 & 1.80                                       &  638.00                                    & 128 SSD                                    & NA                                        \\\\\n",
       "\t1300 & 1317                                       & Lenovo                                     & Yoga 900-13ISK                             & 2 in 1 Convertible                         & 13.3                                       & IPS Panel Quad HD+ / Touchscreen 3200x1800 & Intel Core i7 6500U 2.5GHz                 & 16                                         & 512 SSD                                    & Intel HD Graphics 520                      & Windows 10                                 & 1.30                                       & 1499.00                                    & 512 SSD                                    & NA                                        \\\\\n",
       "\t1301 & 1318                                       & Lenovo                                     & IdeaPad 100S-14IBR                         & Notebook                                   & 14.0                                       & 1366x768                                   & Intel Celeron Dual Core N3050 1.6GHz       &  2                                         & 64 Flash Storage                           & Intel HD Graphics                          & Windows 10                                 & 1.50                                       &  229.00                                    & 64 Flash Storage                           & NA                                        \\\\\n",
       "\t1302 & 1319                                       & HP                                         & 15-AC110nv (i7-6500U/6GB/1TB/Radeon        & Notebook                                   & 15.6                                       & 1366x768                                   & Intel Core i7 6500U 2.5GHz                 &  6                                         & 1000 HDD                                   & AMD Radeon R5 M330                         & Windows 10                                 & 2.19                                       &  764.00                                    & 1000 HDD                                   & NA                                        \\\\\n",
       "\t1303 & 1320                                       & Asus                                       & X553SA-XX031T (N3050/4GB/500GB/W10)        & Notebook                                   & 15.6                                       & 1366x768                                   & Intel Celeron Dual Core N3050 1.6GHz       &  4                                         & 0 HDD                                      & Intel HD Graphics                          & Windows 10                                 & 2.20                                       &  369.00                                    & 0 HDD                                      & NA                                        \\\\\n",
       "\\end{tabular}\n"
      ],
      "text/markdown": [
       "\n",
       "| <!--/--> | laptop_ID | Company | Product | TypeName | Inches | ScreenResolution | Cpu | Ram | Memory | Gpu | OpSys | Weight | Price_euros | first | second |\n",
       "|---|---|---|---|---|---|---|---|---|---|---|---|---|---|---|---|\n",
       "| 1254 | 1271                                       | Lenovo                                     | ThinkPad L460                              | Notebook                                   | 14.0                                       | IPS Panel Full HD 1920x1080                | Intel Core i5 6200U 2.3GHz                 |  8                                         | 256 SSD                                    | Intel HD Graphics 520                      | Windows 10                                 | 1.90                                       | 1072.00                                    | 256 SSD                                    | NA                                         |\n",
       "| 1255 | 1272                                       | Dell                                       | Inspiron 3552                              | Notebook                                   | 15.6                                       | 1366x768                                   | Intel Pentium Quad Core N3700 1.6GHz       |  4                                         | 0 HDD                                      | Intel HD Graphics                          | Windows 10                                 | 2.20                                       |  443.99                                    | 0 HDD                                      | NA                                         |\n",
       "| 1256 | 1273                                       | Asus                                       | X541NA-GO020T (N3350/4GB/1TB/W10)          | Notebook                                   | 15.6                                       | 1366x768                                   | Intel Celeron Dual Core N3350 1.1GHz       |  4                                         | 1000 HDD                                   | Intel HD Graphics 500                      | Windows 10                                 | 2.00                                       |  339.00                                    | 1000 HDD                                   | NA                                         |\n",
       "| 1257 | 1274                                       | Asus                                       | Rog G752VT-GC073T                          | Gaming                                     | 17.3                                       | IPS Panel Full HD 1920x1080                | Intel Core i7 6700HQ 2.6GHz                | 16                                         | 128 SSD +  1000 HDD                        | Nvidia GeForce GTX 970M                    | Windows 10                                 | 4.00                                       | 1900.00                                    | 128 SSD                                    |   1000 HDD                                 |\n",
       "| 1258 | 1275                                       | Dell                                       | Vostro 3568                                | Notebook                                   | 15.6                                       | 1366x768                                   | Intel Core i3 6006U 2GHz                   |  4                                         | 0 HDD                                      | Intel HD Graphics 520                      | Windows 10                                 | 2.29                                       |  490.00                                    | 0 HDD                                      | NA                                         |\n",
       "| 1259 | 1276                                       | Lenovo                                     | B51-80 (i7-6500U/8GB/1008GB/Radeon         | Notebook                                   | 15.6                                       | Full HD 1920x1080                          | Intel Core i7 6500U 2.5GHz                 |  8                                         | 1000 Hybrid                                | AMD Radeon R5 M330                         | Windows 7                                  | 2.32                                       |  895.00                                    | 1000 Hybrid                                | NA                                         |\n",
       "| 1260 | 1277                                       | MSI                                        | GE62 Apache                                | Gaming                                     | 15.6                                       | Full HD 1920x1080                          | Intel Core i7 6700HQ 2.6GHz                |  8                                         | 128 SSD +  1000 HDD                        | Nvidia GeForce GTX 960M                    | Windows 10                                 | 2.40                                       | 1229.00                                    | 128 SSD                                    |   1000 HDD                                 |\n",
       "| 1261 | 1278                                       | Lenovo                                     | Yoga 500-14IBD                             | 2 in 1 Convertible                         | 14.0                                       | Full HD / Touchscreen 1920x1080            | Intel Core i5 6200U 2.3GHz                 |  4                                         | 128 SSD                                    | Intel HD Graphics 520                      | Windows 10                                 | 1.80                                       |  833.01                                    | 128 SSD                                    | NA                                         |\n",
       "| 1262 | 1279                                       | Asus                                       | ZenBook UX305CA-UBM1                       | Ultrabook                                  | 13.3                                       | IPS Panel Full HD 1920x1080                | Intel Core M 6Y30 0.9GHz                   |  8                                         | 512 SSD                                    | Intel HD Graphics 515                      | Windows 10                                 | 1.20                                       |  729.00                                    | 512 SSD                                    | NA                                         |\n",
       "| 1263 | 1280                                       | Dell                                       | Inspiron 3567                              | Notebook                                   | 15.6                                       | 1366x768                                   | Intel Core i3 7100U 2.4GHz                 |  6                                         | 1000 HDD                                   | Intel HD Graphics 620                      | Windows 10                                 | 2.30                                       |  459.00                                    | 1000 HDD                                   | NA                                         |\n",
       "| 1264 | 1281                                       | Acer                                       | Aspire ES1-531                             | Notebook                                   | 15.6                                       | 1366x768                                   | Intel Celeron Dual Core N3060 1.6GHz       |  4                                         | 0 HDD                                      | Intel HD Graphics 400                      | Linux                                      | 2.40                                       |  289.00                                    | 0 HDD                                      | NA                                         |\n",
       "| 1265 | 1282                                       | Dell                                       | Inspiron 3552                              | Notebook                                   | 15.6                                       | 1366x768                                   | Intel Celeron Dual Core N3050 1.6GHz       |  2                                         | 0 HDD                                      | Intel HD Graphics                          | Windows 10                                 | 2.20                                       |  379.00                                    | 0 HDD                                      | NA                                         |\n",
       "| 1266 | 1283                                       | Lenovo                                     | IdeaPad Y700-15ISK                         | Notebook                                   | 15.6                                       | IPS Panel Full HD 1920x1080                | Intel Core i7 6700HQ 2.6GHz                |  8                                         | 1000 HDD                                   | Nvidia GeForce GTX 960M                    | Windows 10                                 | 2.60                                       |  899.00                                    | 1000 HDD                                   | NA                                         |\n",
       "| 1267 | 1284                                       | HP                                         | Pavilion 15-AW003nv                        | Notebook                                   | 15.6                                       | Full HD 1920x1080                          | AMD A9-Series 9410 2.9GHz                  |  6                                         | 1000 Hybrid                                | AMD Radeon R7 M440                         | Windows 10                                 | 2.04                                       |  549.99                                    | 1000 Hybrid                                | NA                                         |\n",
       "| 1268 | 1285                                       | Dell                                       | Inspiron 3567                              | Notebook                                   | 15.6                                       | 1366x768                                   | Intel Core i7 7500U 2.7GHz                 |  8                                         | 1000 HDD                                   | AMD Radeon R5 M430                         | Linux                                      | 2.30                                       |  805.99                                    | 1000 HDD                                   | NA                                         |\n",
       "| 1269 | 1286                                       | HP                                         | Stream 11-Y000na                           | Netbook                                    | 11.6                                       | 1366x768                                   | Intel Celeron Dual Core N3060 1.6GHz       |  2                                         | 32 Flash Storage                           | Intel HD Graphics 400                      | Windows 10                                 | 1.17                                       |  209.00                                    | 32 Flash Storage                           | NA                                         |\n",
       "| 1270 | 1287                                       | Asus                                       | X556UJ-XO044T (i7-6500U/4GB/500GB/GeForce  | Notebook                                   | 15.6                                       | 1366x768                                   | Intel Core i7 6500U 2.5GHz                 |  4                                         | 0 HDD                                      | Nvidia GeForce 920M                        | Windows 10                                 | 2.20                                       |  720.32                                    | 0 HDD                                      | NA                                         |\n",
       "| 1271 | 1288                                       | Lenovo                                     | Yoga 500-14ISK                             | 2 in 1 Convertible                         | 14.0                                       | IPS Panel Full HD / Touchscreen 1920x1080  | Intel Core i7 6500U 2.5GHz                 |  4                                         | 128 SSD                                    | Intel HD Graphics 520                      | Windows 10                                 | 1.80                                       |  638.00                                    | 128 SSD                                    | NA                                         |\n",
       "| 1272 | 1289                                       | Lenovo                                     | Yoga 900-13ISK                             | 2 in 1 Convertible                         | 13.3                                       | IPS Panel Quad HD+ / Touchscreen 3200x1800 | Intel Core i7 6500U 2.5GHz                 | 16                                         | 512 SSD                                    | Intel HD Graphics 520                      | Windows 10                                 | 1.30                                       | 1499.00                                    | 512 SSD                                    | NA                                         |\n",
       "| 1273 | 1290                                       | Lenovo                                     | IdeaPad 100S-14IBR                         | Notebook                                   | 14.0                                       | 1366x768                                   | Intel Celeron Dual Core N3050 1.6GHz       |  2                                         | 64 Flash Storage                           | Intel HD Graphics                          | Windows 10                                 | 1.50                                       |  229.00                                    | 64 Flash Storage                           | NA                                         |\n",
       "| 1274 | 1291                                       | HP                                         | 15-AC110nv (i7-6500U/6GB/1TB/Radeon        | Notebook                                   | 15.6                                       | 1366x768                                   | Intel Core i7 6500U 2.5GHz                 |  6                                         | 1000 HDD                                   | AMD Radeon R5 M330                         | Windows 10                                 | 2.19                                       |  764.00                                    | 1000 HDD                                   | NA                                         |\n",
       "| 1275 | 1292                                       | Asus                                       | X553SA-XX031T (N3050/4GB/500GB/W10)        | Notebook                                   | 15.6                                       | 1366x768                                   | Intel Celeron Dual Core N3050 1.6GHz       |  4                                         | 0 HDD                                      | Intel HD Graphics                          | Windows 10                                 | 2.20                                       |  369.00                                    | 0 HDD                                      | NA                                         |\n",
       "| 1276 | 1293                                       | Asus                                       | ZenBook UX305CA-UBM1                       | Ultrabook                                  | 13.3                                       | IPS Panel Full HD 1920x1080                | Intel Core M 6Y30 0.9GHz                   |  8                                         | 512 SSD                                    | Intel HD Graphics 515                      | Windows 10                                 | 1.20                                       |  729.00                                    | 512 SSD                                    | NA                                         |\n",
       "| 1277 | 1294                                       | Dell                                       | Inspiron 3567                              | Notebook                                   | 15.6                                       | 1366x768                                   | Intel Core i3 7100U 2.4GHz                 |  6                                         | 1000 HDD                                   | Intel HD Graphics 620                      | Windows 10                                 | 2.30                                       |  459.00                                    | 1000 HDD                                   | NA                                         |\n",
       "| 1278 | 1295                                       | Acer                                       | Aspire ES1-531                             | Notebook                                   | 15.6                                       | 1366x768                                   | Intel Celeron Dual Core N3060 1.6GHz       |  4                                         | 0 HDD                                      | Intel HD Graphics 400                      | Linux                                      | 2.40                                       |  289.00                                    | 0 HDD                                      | NA                                         |\n",
       "| 1279 | 1296                                       | Dell                                       | Inspiron 3552                              | Notebook                                   | 15.6                                       | 1366x768                                   | Intel Celeron Dual Core N3050 1.6GHz       |  2                                         | 0 HDD                                      | Intel HD Graphics                          | Windows 10                                 | 2.20                                       |  379.00                                    | 0 HDD                                      | NA                                         |\n",
       "| 1280 | 1297                                       | Lenovo                                     | IdeaPad Y700-15ISK                         | Notebook                                   | 15.6                                       | IPS Panel Full HD 1920x1080                | Intel Core i7 6700HQ 2.6GHz                |  8                                         | 1000 HDD                                   | Nvidia GeForce GTX 960M                    | Windows 10                                 | 2.60                                       |  899.00                                    | 1000 HDD                                   | NA                                         |\n",
       "| 1281 | 1298                                       | HP                                         | Pavilion 15-AW003nv                        | Notebook                                   | 15.6                                       | Full HD 1920x1080                          | AMD A9-Series 9410 2.9GHz                  |  6                                         | 1000 Hybrid                                | AMD Radeon R7 M440                         | Windows 10                                 | 2.04                                       |  549.99                                    | 1000 Hybrid                                | NA                                         |\n",
       "| 1282 | 1299                                       | Dell                                       | Inspiron 3567                              | Notebook                                   | 15.6                                       | 1366x768                                   | Intel Core i7 7500U 2.7GHz                 |  8                                         | 1000 HDD                                   | AMD Radeon R5 M430                         | Linux                                      | 2.30                                       |  805.99                                    | 1000 HDD                                   | NA                                         |\n",
       "| 1283 | 1300                                       | HP                                         | Stream 11-Y000na                           | Netbook                                    | 11.6                                       | 1366x768                                   | Intel Celeron Dual Core N3060 1.6GHz       |  2                                         | 32 Flash Storage                           | Intel HD Graphics 400                      | Windows 10                                 | 1.17                                       |  209.00                                    | 32 Flash Storage                           | NA                                         |\n",
       "| 1284 | 1301                                       | Asus                                       | X556UJ-XO044T (i7-6500U/4GB/500GB/GeForce  | Notebook                                   | 15.6                                       | 1366x768                                   | Intel Core i7 6500U 2.5GHz                 |  4                                         | 0 HDD                                      | Nvidia GeForce 920M                        | Windows 10                                 | 2.20                                       |  720.32                                    | 0 HDD                                      | NA                                         |\n",
       "| 1285 | 1302                                       | Lenovo                                     | Yoga 500-14ISK                             | 2 in 1 Convertible                         | 14.0                                       | IPS Panel Full HD / Touchscreen 1920x1080  | Intel Core i7 6500U 2.5GHz                 |  4                                         | 128 SSD                                    | Intel HD Graphics 520                      | Windows 10                                 | 1.80                                       |  638.00                                    | 128 SSD                                    | NA                                         |\n",
       "| 1286 | 1303                                       | Lenovo                                     | Yoga 900-13ISK                             | 2 in 1 Convertible                         | 13.3                                       | IPS Panel Quad HD+ / Touchscreen 3200x1800 | Intel Core i7 6500U 2.5GHz                 | 16                                         | 512 SSD                                    | Intel HD Graphics 520                      | Windows 10                                 | 1.30                                       | 1499.00                                    | 512 SSD                                    | NA                                         |\n",
       "| 1287 | 1304                                       | Lenovo                                     | IdeaPad 100S-14IBR                         | Notebook                                   | 14.0                                       | 1366x768                                   | Intel Celeron Dual Core N3050 1.6GHz       |  2                                         | 64 Flash Storage                           | Intel HD Graphics                          | Windows 10                                 | 1.50                                       |  229.00                                    | 64 Flash Storage                           | NA                                         |\n",
       "| 1288 | 1305                                       | HP                                         | 15-AC110nv (i7-6500U/6GB/1TB/Radeon        | Notebook                                   | 15.6                                       | 1366x768                                   | Intel Core i7 6500U 2.5GHz                 |  6                                         | 1000 HDD                                   | AMD Radeon R5 M330                         | Windows 10                                 | 2.19                                       |  764.00                                    | 1000 HDD                                   | NA                                         |\n",
       "| 1289 | 1306                                       | Asus                                       | X553SA-XX031T (N3050/4GB/500GB/W10)        | Notebook                                   | 15.6                                       | 1366x768                                   | Intel Celeron Dual Core N3050 1.6GHz       |  4                                         | 0 HDD                                      | Intel HD Graphics                          | Windows 10                                 | 2.20                                       |  369.00                                    | 0 HDD                                      | NA                                         |\n",
       "| 1290 | 1307                                       | Asus                                       | ZenBook UX305CA-UBM1                       | Ultrabook                                  | 13.3                                       | IPS Panel Full HD 1920x1080                | Intel Core M 6Y30 0.9GHz                   |  8                                         | 512 SSD                                    | Intel HD Graphics 515                      | Windows 10                                 | 1.20                                       |  729.00                                    | 512 SSD                                    | NA                                         |\n",
       "| 1291 | 1308                                       | Dell                                       | Inspiron 3567                              | Notebook                                   | 15.6                                       | 1366x768                                   | Intel Core i3 7100U 2.4GHz                 |  6                                         | 1000 HDD                                   | Intel HD Graphics 620                      | Windows 10                                 | 2.30                                       |  459.00                                    | 1000 HDD                                   | NA                                         |\n",
       "| 1292 | 1309                                       | Acer                                       | Aspire ES1-531                             | Notebook                                   | 15.6                                       | 1366x768                                   | Intel Celeron Dual Core N3060 1.6GHz       |  4                                         | 0 HDD                                      | Intel HD Graphics 400                      | Linux                                      | 2.40                                       |  289.00                                    | 0 HDD                                      | NA                                         |\n",
       "| 1293 | 1310                                       | Dell                                       | Inspiron 3552                              | Notebook                                   | 15.6                                       | 1366x768                                   | Intel Celeron Dual Core N3050 1.6GHz       |  2                                         | 0 HDD                                      | Intel HD Graphics                          | Windows 10                                 | 2.20                                       |  379.00                                    | 0 HDD                                      | NA                                         |\n",
       "| 1294 | 1311                                       | Lenovo                                     | IdeaPad Y700-15ISK                         | Notebook                                   | 15.6                                       | IPS Panel Full HD 1920x1080                | Intel Core i7 6700HQ 2.6GHz                |  8                                         | 1000 HDD                                   | Nvidia GeForce GTX 960M                    | Windows 10                                 | 2.60                                       |  899.00                                    | 1000 HDD                                   | NA                                         |\n",
       "| 1295 | 1312                                       | HP                                         | Pavilion 15-AW003nv                        | Notebook                                   | 15.6                                       | Full HD 1920x1080                          | AMD A9-Series 9410 2.9GHz                  |  6                                         | 1000 Hybrid                                | AMD Radeon R7 M440                         | Windows 10                                 | 2.04                                       |  549.99                                    | 1000 Hybrid                                | NA                                         |\n",
       "| 1296 | 1313                                       | Dell                                       | Inspiron 3567                              | Notebook                                   | 15.6                                       | 1366x768                                   | Intel Core i7 7500U 2.7GHz                 |  8                                         | 1000 HDD                                   | AMD Radeon R5 M430                         | Linux                                      | 2.30                                       |  805.99                                    | 1000 HDD                                   | NA                                         |\n",
       "| 1297 | 1314                                       | HP                                         | Stream 11-Y000na                           | Netbook                                    | 11.6                                       | 1366x768                                   | Intel Celeron Dual Core N3060 1.6GHz       |  2                                         | 32 Flash Storage                           | Intel HD Graphics 400                      | Windows 10                                 | 1.17                                       |  209.00                                    | 32 Flash Storage                           | NA                                         |\n",
       "| 1298 | 1315                                       | Asus                                       | X556UJ-XO044T (i7-6500U/4GB/500GB/GeForce  | Notebook                                   | 15.6                                       | 1366x768                                   | Intel Core i7 6500U 2.5GHz                 |  4                                         | 0 HDD                                      | Nvidia GeForce 920M                        | Windows 10                                 | 2.20                                       |  720.32                                    | 0 HDD                                      | NA                                         |\n",
       "| 1299 | 1316                                       | Lenovo                                     | Yoga 500-14ISK                             | 2 in 1 Convertible                         | 14.0                                       | IPS Panel Full HD / Touchscreen 1920x1080  | Intel Core i7 6500U 2.5GHz                 |  4                                         | 128 SSD                                    | Intel HD Graphics 520                      | Windows 10                                 | 1.80                                       |  638.00                                    | 128 SSD                                    | NA                                         |\n",
       "| 1300 | 1317                                       | Lenovo                                     | Yoga 900-13ISK                             | 2 in 1 Convertible                         | 13.3                                       | IPS Panel Quad HD+ / Touchscreen 3200x1800 | Intel Core i7 6500U 2.5GHz                 | 16                                         | 512 SSD                                    | Intel HD Graphics 520                      | Windows 10                                 | 1.30                                       | 1499.00                                    | 512 SSD                                    | NA                                         |\n",
       "| 1301 | 1318                                       | Lenovo                                     | IdeaPad 100S-14IBR                         | Notebook                                   | 14.0                                       | 1366x768                                   | Intel Celeron Dual Core N3050 1.6GHz       |  2                                         | 64 Flash Storage                           | Intel HD Graphics                          | Windows 10                                 | 1.50                                       |  229.00                                    | 64 Flash Storage                           | NA                                         |\n",
       "| 1302 | 1319                                       | HP                                         | 15-AC110nv (i7-6500U/6GB/1TB/Radeon        | Notebook                                   | 15.6                                       | 1366x768                                   | Intel Core i7 6500U 2.5GHz                 |  6                                         | 1000 HDD                                   | AMD Radeon R5 M330                         | Windows 10                                 | 2.19                                       |  764.00                                    | 1000 HDD                                   | NA                                         |\n",
       "| 1303 | 1320                                       | Asus                                       | X553SA-XX031T (N3050/4GB/500GB/W10)        | Notebook                                   | 15.6                                       | 1366x768                                   | Intel Celeron Dual Core N3050 1.6GHz       |  4                                         | 0 HDD                                      | Intel HD Graphics                          | Windows 10                                 | 2.20                                       |  369.00                                    | 0 HDD                                      | NA                                         |\n",
       "\n"
      ],
      "text/plain": [
       "     laptop_ID Company Product                                  \n",
       "1254 1271      Lenovo  ThinkPad L460                            \n",
       "1255 1272      Dell    Inspiron 3552                            \n",
       "1256 1273      Asus    X541NA-GO020T (N3350/4GB/1TB/W10)        \n",
       "1257 1274      Asus    Rog G752VT-GC073T                        \n",
       "1258 1275      Dell    Vostro 3568                              \n",
       "1259 1276      Lenovo  B51-80 (i7-6500U/8GB/1008GB/Radeon       \n",
       "1260 1277      MSI     GE62 Apache                              \n",
       "1261 1278      Lenovo  Yoga 500-14IBD                           \n",
       "1262 1279      Asus    ZenBook UX305CA-UBM1                     \n",
       "1263 1280      Dell    Inspiron 3567                            \n",
       "1264 1281      Acer    Aspire ES1-531                           \n",
       "1265 1282      Dell    Inspiron 3552                            \n",
       "1266 1283      Lenovo  IdeaPad Y700-15ISK                       \n",
       "1267 1284      HP      Pavilion 15-AW003nv                      \n",
       "1268 1285      Dell    Inspiron 3567                            \n",
       "1269 1286      HP      Stream 11-Y000na                         \n",
       "1270 1287      Asus    X556UJ-XO044T (i7-6500U/4GB/500GB/GeForce\n",
       "1271 1288      Lenovo  Yoga 500-14ISK                           \n",
       "1272 1289      Lenovo  Yoga 900-13ISK                           \n",
       "1273 1290      Lenovo  IdeaPad 100S-14IBR                       \n",
       "1274 1291      HP      15-AC110nv (i7-6500U/6GB/1TB/Radeon      \n",
       "1275 1292      Asus    X553SA-XX031T (N3050/4GB/500GB/W10)      \n",
       "1276 1293      Asus    ZenBook UX305CA-UBM1                     \n",
       "1277 1294      Dell    Inspiron 3567                            \n",
       "1278 1295      Acer    Aspire ES1-531                           \n",
       "1279 1296      Dell    Inspiron 3552                            \n",
       "1280 1297      Lenovo  IdeaPad Y700-15ISK                       \n",
       "1281 1298      HP      Pavilion 15-AW003nv                      \n",
       "1282 1299      Dell    Inspiron 3567                            \n",
       "1283 1300      HP      Stream 11-Y000na                         \n",
       "1284 1301      Asus    X556UJ-XO044T (i7-6500U/4GB/500GB/GeForce\n",
       "1285 1302      Lenovo  Yoga 500-14ISK                           \n",
       "1286 1303      Lenovo  Yoga 900-13ISK                           \n",
       "1287 1304      Lenovo  IdeaPad 100S-14IBR                       \n",
       "1288 1305      HP      15-AC110nv (i7-6500U/6GB/1TB/Radeon      \n",
       "1289 1306      Asus    X553SA-XX031T (N3050/4GB/500GB/W10)      \n",
       "1290 1307      Asus    ZenBook UX305CA-UBM1                     \n",
       "1291 1308      Dell    Inspiron 3567                            \n",
       "1292 1309      Acer    Aspire ES1-531                           \n",
       "1293 1310      Dell    Inspiron 3552                            \n",
       "1294 1311      Lenovo  IdeaPad Y700-15ISK                       \n",
       "1295 1312      HP      Pavilion 15-AW003nv                      \n",
       "1296 1313      Dell    Inspiron 3567                            \n",
       "1297 1314      HP      Stream 11-Y000na                         \n",
       "1298 1315      Asus    X556UJ-XO044T (i7-6500U/4GB/500GB/GeForce\n",
       "1299 1316      Lenovo  Yoga 500-14ISK                           \n",
       "1300 1317      Lenovo  Yoga 900-13ISK                           \n",
       "1301 1318      Lenovo  IdeaPad 100S-14IBR                       \n",
       "1302 1319      HP      15-AC110nv (i7-6500U/6GB/1TB/Radeon      \n",
       "1303 1320      Asus    X553SA-XX031T (N3050/4GB/500GB/W10)      \n",
       "     TypeName           Inches ScreenResolution                          \n",
       "1254 Notebook           14.0   IPS Panel Full HD 1920x1080               \n",
       "1255 Notebook           15.6   1366x768                                  \n",
       "1256 Notebook           15.6   1366x768                                  \n",
       "1257 Gaming             17.3   IPS Panel Full HD 1920x1080               \n",
       "1258 Notebook           15.6   1366x768                                  \n",
       "1259 Notebook           15.6   Full HD 1920x1080                         \n",
       "1260 Gaming             15.6   Full HD 1920x1080                         \n",
       "1261 2 in 1 Convertible 14.0   Full HD / Touchscreen 1920x1080           \n",
       "1262 Ultrabook          13.3   IPS Panel Full HD 1920x1080               \n",
       "1263 Notebook           15.6   1366x768                                  \n",
       "1264 Notebook           15.6   1366x768                                  \n",
       "1265 Notebook           15.6   1366x768                                  \n",
       "1266 Notebook           15.6   IPS Panel Full HD 1920x1080               \n",
       "1267 Notebook           15.6   Full HD 1920x1080                         \n",
       "1268 Notebook           15.6   1366x768                                  \n",
       "1269 Netbook            11.6   1366x768                                  \n",
       "1270 Notebook           15.6   1366x768                                  \n",
       "1271 2 in 1 Convertible 14.0   IPS Panel Full HD / Touchscreen 1920x1080 \n",
       "1272 2 in 1 Convertible 13.3   IPS Panel Quad HD+ / Touchscreen 3200x1800\n",
       "1273 Notebook           14.0   1366x768                                  \n",
       "1274 Notebook           15.6   1366x768                                  \n",
       "1275 Notebook           15.6   1366x768                                  \n",
       "1276 Ultrabook          13.3   IPS Panel Full HD 1920x1080               \n",
       "1277 Notebook           15.6   1366x768                                  \n",
       "1278 Notebook           15.6   1366x768                                  \n",
       "1279 Notebook           15.6   1366x768                                  \n",
       "1280 Notebook           15.6   IPS Panel Full HD 1920x1080               \n",
       "1281 Notebook           15.6   Full HD 1920x1080                         \n",
       "1282 Notebook           15.6   1366x768                                  \n",
       "1283 Netbook            11.6   1366x768                                  \n",
       "1284 Notebook           15.6   1366x768                                  \n",
       "1285 2 in 1 Convertible 14.0   IPS Panel Full HD / Touchscreen 1920x1080 \n",
       "1286 2 in 1 Convertible 13.3   IPS Panel Quad HD+ / Touchscreen 3200x1800\n",
       "1287 Notebook           14.0   1366x768                                  \n",
       "1288 Notebook           15.6   1366x768                                  \n",
       "1289 Notebook           15.6   1366x768                                  \n",
       "1290 Ultrabook          13.3   IPS Panel Full HD 1920x1080               \n",
       "1291 Notebook           15.6   1366x768                                  \n",
       "1292 Notebook           15.6   1366x768                                  \n",
       "1293 Notebook           15.6   1366x768                                  \n",
       "1294 Notebook           15.6   IPS Panel Full HD 1920x1080               \n",
       "1295 Notebook           15.6   Full HD 1920x1080                         \n",
       "1296 Notebook           15.6   1366x768                                  \n",
       "1297 Netbook            11.6   1366x768                                  \n",
       "1298 Notebook           15.6   1366x768                                  \n",
       "1299 2 in 1 Convertible 14.0   IPS Panel Full HD / Touchscreen 1920x1080 \n",
       "1300 2 in 1 Convertible 13.3   IPS Panel Quad HD+ / Touchscreen 3200x1800\n",
       "1301 Notebook           14.0   1366x768                                  \n",
       "1302 Notebook           15.6   1366x768                                  \n",
       "1303 Notebook           15.6   1366x768                                  \n",
       "     Cpu                                  Ram Memory             \n",
       "1254 Intel Core i5 6200U 2.3GHz            8  256 SSD            \n",
       "1255 Intel Pentium Quad Core N3700 1.6GHz  4  0 HDD              \n",
       "1256 Intel Celeron Dual Core N3350 1.1GHz  4  1000 HDD           \n",
       "1257 Intel Core i7 6700HQ 2.6GHz          16  128 SSD +  1000 HDD\n",
       "1258 Intel Core i3 6006U 2GHz              4  0 HDD              \n",
       "1259 Intel Core i7 6500U 2.5GHz            8  1000 Hybrid        \n",
       "1260 Intel Core i7 6700HQ 2.6GHz           8  128 SSD +  1000 HDD\n",
       "1261 Intel Core i5 6200U 2.3GHz            4  128 SSD            \n",
       "1262 Intel Core M 6Y30 0.9GHz              8  512 SSD            \n",
       "1263 Intel Core i3 7100U 2.4GHz            6  1000 HDD           \n",
       "1264 Intel Celeron Dual Core N3060 1.6GHz  4  0 HDD              \n",
       "1265 Intel Celeron Dual Core N3050 1.6GHz  2  0 HDD              \n",
       "1266 Intel Core i7 6700HQ 2.6GHz           8  1000 HDD           \n",
       "1267 AMD A9-Series 9410 2.9GHz             6  1000 Hybrid        \n",
       "1268 Intel Core i7 7500U 2.7GHz            8  1000 HDD           \n",
       "1269 Intel Celeron Dual Core N3060 1.6GHz  2  32 Flash Storage   \n",
       "1270 Intel Core i7 6500U 2.5GHz            4  0 HDD              \n",
       "1271 Intel Core i7 6500U 2.5GHz            4  128 SSD            \n",
       "1272 Intel Core i7 6500U 2.5GHz           16  512 SSD            \n",
       "1273 Intel Celeron Dual Core N3050 1.6GHz  2  64 Flash Storage   \n",
       "1274 Intel Core i7 6500U 2.5GHz            6  1000 HDD           \n",
       "1275 Intel Celeron Dual Core N3050 1.6GHz  4  0 HDD              \n",
       "1276 Intel Core M 6Y30 0.9GHz              8  512 SSD            \n",
       "1277 Intel Core i3 7100U 2.4GHz            6  1000 HDD           \n",
       "1278 Intel Celeron Dual Core N3060 1.6GHz  4  0 HDD              \n",
       "1279 Intel Celeron Dual Core N3050 1.6GHz  2  0 HDD              \n",
       "1280 Intel Core i7 6700HQ 2.6GHz           8  1000 HDD           \n",
       "1281 AMD A9-Series 9410 2.9GHz             6  1000 Hybrid        \n",
       "1282 Intel Core i7 7500U 2.7GHz            8  1000 HDD           \n",
       "1283 Intel Celeron Dual Core N3060 1.6GHz  2  32 Flash Storage   \n",
       "1284 Intel Core i7 6500U 2.5GHz            4  0 HDD              \n",
       "1285 Intel Core i7 6500U 2.5GHz            4  128 SSD            \n",
       "1286 Intel Core i7 6500U 2.5GHz           16  512 SSD            \n",
       "1287 Intel Celeron Dual Core N3050 1.6GHz  2  64 Flash Storage   \n",
       "1288 Intel Core i7 6500U 2.5GHz            6  1000 HDD           \n",
       "1289 Intel Celeron Dual Core N3050 1.6GHz  4  0 HDD              \n",
       "1290 Intel Core M 6Y30 0.9GHz              8  512 SSD            \n",
       "1291 Intel Core i3 7100U 2.4GHz            6  1000 HDD           \n",
       "1292 Intel Celeron Dual Core N3060 1.6GHz  4  0 HDD              \n",
       "1293 Intel Celeron Dual Core N3050 1.6GHz  2  0 HDD              \n",
       "1294 Intel Core i7 6700HQ 2.6GHz           8  1000 HDD           \n",
       "1295 AMD A9-Series 9410 2.9GHz             6  1000 Hybrid        \n",
       "1296 Intel Core i7 7500U 2.7GHz            8  1000 HDD           \n",
       "1297 Intel Celeron Dual Core N3060 1.6GHz  2  32 Flash Storage   \n",
       "1298 Intel Core i7 6500U 2.5GHz            4  0 HDD              \n",
       "1299 Intel Core i7 6500U 2.5GHz            4  128 SSD            \n",
       "1300 Intel Core i7 6500U 2.5GHz           16  512 SSD            \n",
       "1301 Intel Celeron Dual Core N3050 1.6GHz  2  64 Flash Storage   \n",
       "1302 Intel Core i7 6500U 2.5GHz            6  1000 HDD           \n",
       "1303 Intel Celeron Dual Core N3050 1.6GHz  4  0 HDD              \n",
       "     Gpu                     OpSys      Weight Price_euros first           \n",
       "1254 Intel HD Graphics 520   Windows 10 1.90   1072.00     256 SSD         \n",
       "1255 Intel HD Graphics       Windows 10 2.20    443.99     0 HDD           \n",
       "1256 Intel HD Graphics 500   Windows 10 2.00    339.00     1000 HDD        \n",
       "1257 Nvidia GeForce GTX 970M Windows 10 4.00   1900.00     128 SSD         \n",
       "1258 Intel HD Graphics 520   Windows 10 2.29    490.00     0 HDD           \n",
       "1259 AMD Radeon R5 M330      Windows 7  2.32    895.00     1000 Hybrid     \n",
       "1260 Nvidia GeForce GTX 960M Windows 10 2.40   1229.00     128 SSD         \n",
       "1261 Intel HD Graphics 520   Windows 10 1.80    833.01     128 SSD         \n",
       "1262 Intel HD Graphics 515   Windows 10 1.20    729.00     512 SSD         \n",
       "1263 Intel HD Graphics 620   Windows 10 2.30    459.00     1000 HDD        \n",
       "1264 Intel HD Graphics 400   Linux      2.40    289.00     0 HDD           \n",
       "1265 Intel HD Graphics       Windows 10 2.20    379.00     0 HDD           \n",
       "1266 Nvidia GeForce GTX 960M Windows 10 2.60    899.00     1000 HDD        \n",
       "1267 AMD Radeon R7 M440      Windows 10 2.04    549.99     1000 Hybrid     \n",
       "1268 AMD Radeon R5 M430      Linux      2.30    805.99     1000 HDD        \n",
       "1269 Intel HD Graphics 400   Windows 10 1.17    209.00     32 Flash Storage\n",
       "1270 Nvidia GeForce 920M     Windows 10 2.20    720.32     0 HDD           \n",
       "1271 Intel HD Graphics 520   Windows 10 1.80    638.00     128 SSD         \n",
       "1272 Intel HD Graphics 520   Windows 10 1.30   1499.00     512 SSD         \n",
       "1273 Intel HD Graphics       Windows 10 1.50    229.00     64 Flash Storage\n",
       "1274 AMD Radeon R5 M330      Windows 10 2.19    764.00     1000 HDD        \n",
       "1275 Intel HD Graphics       Windows 10 2.20    369.00     0 HDD           \n",
       "1276 Intel HD Graphics 515   Windows 10 1.20    729.00     512 SSD         \n",
       "1277 Intel HD Graphics 620   Windows 10 2.30    459.00     1000 HDD        \n",
       "1278 Intel HD Graphics 400   Linux      2.40    289.00     0 HDD           \n",
       "1279 Intel HD Graphics       Windows 10 2.20    379.00     0 HDD           \n",
       "1280 Nvidia GeForce GTX 960M Windows 10 2.60    899.00     1000 HDD        \n",
       "1281 AMD Radeon R7 M440      Windows 10 2.04    549.99     1000 Hybrid     \n",
       "1282 AMD Radeon R5 M430      Linux      2.30    805.99     1000 HDD        \n",
       "1283 Intel HD Graphics 400   Windows 10 1.17    209.00     32 Flash Storage\n",
       "1284 Nvidia GeForce 920M     Windows 10 2.20    720.32     0 HDD           \n",
       "1285 Intel HD Graphics 520   Windows 10 1.80    638.00     128 SSD         \n",
       "1286 Intel HD Graphics 520   Windows 10 1.30   1499.00     512 SSD         \n",
       "1287 Intel HD Graphics       Windows 10 1.50    229.00     64 Flash Storage\n",
       "1288 AMD Radeon R5 M330      Windows 10 2.19    764.00     1000 HDD        \n",
       "1289 Intel HD Graphics       Windows 10 2.20    369.00     0 HDD           \n",
       "1290 Intel HD Graphics 515   Windows 10 1.20    729.00     512 SSD         \n",
       "1291 Intel HD Graphics 620   Windows 10 2.30    459.00     1000 HDD        \n",
       "1292 Intel HD Graphics 400   Linux      2.40    289.00     0 HDD           \n",
       "1293 Intel HD Graphics       Windows 10 2.20    379.00     0 HDD           \n",
       "1294 Nvidia GeForce GTX 960M Windows 10 2.60    899.00     1000 HDD        \n",
       "1295 AMD Radeon R7 M440      Windows 10 2.04    549.99     1000 Hybrid     \n",
       "1296 AMD Radeon R5 M430      Linux      2.30    805.99     1000 HDD        \n",
       "1297 Intel HD Graphics 400   Windows 10 1.17    209.00     32 Flash Storage\n",
       "1298 Nvidia GeForce 920M     Windows 10 2.20    720.32     0 HDD           \n",
       "1299 Intel HD Graphics 520   Windows 10 1.80    638.00     128 SSD         \n",
       "1300 Intel HD Graphics 520   Windows 10 1.30   1499.00     512 SSD         \n",
       "1301 Intel HD Graphics       Windows 10 1.50    229.00     64 Flash Storage\n",
       "1302 AMD Radeon R5 M330      Windows 10 2.19    764.00     1000 HDD        \n",
       "1303 Intel HD Graphics       Windows 10 2.20    369.00     0 HDD           \n",
       "     second    \n",
       "1254 NA        \n",
       "1255 NA        \n",
       "1256 NA        \n",
       "1257   1000 HDD\n",
       "1258 NA        \n",
       "1259 NA        \n",
       "1260   1000 HDD\n",
       "1261 NA        \n",
       "1262 NA        \n",
       "1263 NA        \n",
       "1264 NA        \n",
       "1265 NA        \n",
       "1266 NA        \n",
       "1267 NA        \n",
       "1268 NA        \n",
       "1269 NA        \n",
       "1270 NA        \n",
       "1271 NA        \n",
       "1272 NA        \n",
       "1273 NA        \n",
       "1274 NA        \n",
       "1275 NA        \n",
       "1276 NA        \n",
       "1277 NA        \n",
       "1278 NA        \n",
       "1279 NA        \n",
       "1280 NA        \n",
       "1281 NA        \n",
       "1282 NA        \n",
       "1283 NA        \n",
       "1284 NA        \n",
       "1285 NA        \n",
       "1286 NA        \n",
       "1287 NA        \n",
       "1288 NA        \n",
       "1289 NA        \n",
       "1290 NA        \n",
       "1291 NA        \n",
       "1292 NA        \n",
       "1293 NA        \n",
       "1294 NA        \n",
       "1295 NA        \n",
       "1296 NA        \n",
       "1297 NA        \n",
       "1298 NA        \n",
       "1299 NA        \n",
       "1300 NA        \n",
       "1301 NA        \n",
       "1302 NA        \n",
       "1303 NA        "
      ]
     },
     "metadata": {},
     "output_type": "display_data"
    }
   ],
   "source": [
    "tail(data,50)"
   ]
  },
  {
   "cell_type": "code",
   "execution_count": 13,
   "id": "e1e39c6f",
   "metadata": {},
   "outputs": [],
   "source": [
    "data$Layer1HDD <- ifelse(grepl(\"HDD\", data$first), 1,0)\n",
    "data$Layer1SSD <- ifelse(grepl(\"SSD\", data$first), 1,0)\n",
    "data$Layer1Hybrid <- ifelse(grepl(\"Hybrid\", data$first), 1,0)\n",
    "data$Layer1Flash_Storage <- ifelse(grepl(\"Flash Storage\", data$first), 1,0)\n",
    "data$first <- as.integer(gsub(\"[^0-9]\", \"\", data$first))"
   ]
  },
  {
   "cell_type": "code",
   "execution_count": 14,
   "id": "77d59abc",
   "metadata": {},
   "outputs": [],
   "source": [
    "data$second <- ifelse(is.na(data$second), 0, data$second)\n",
    "data$Layer2HDD <- ifelse(grepl(\"HDD\", data$second), 1,0)\n",
    "data$Layer2SSD <- ifelse(grepl(\"SSD\", data$second), 1,0)\n",
    "data$Layer2Hybrid <- ifelse(grepl(\"Hybrid\", data$second), 1,0)\n",
    "data$Layer2Flash_Storage <- ifelse(grepl(\"Flash Storage\", data$second), 1,0)\n",
    "data$second <- as.integer(gsub(\"[^0-9]\", \"\", data$second))"
   ]
  },
  {
   "cell_type": "code",
   "execution_count": 15,
   "id": "63b22860",
   "metadata": {},
   "outputs": [],
   "source": [
    "data$HDD <- data$first*data$Layer1HDD+data$second*data$Layer2HDD\n",
    "data$SSD <- data$first*data$Layer1SSD+data$second*data$Layer2SSD\n",
    "data$Hybrid <- data$first*data$Layer1Hybrid+data$second*data$Layer2Hybrid\n",
    "data$Flash_Storage <- data$first*data$Layer1Flash_Storage+data$second*data$Layer2Flash_Storage"
   ]
  },
  {
   "cell_type": "code",
   "execution_count": 16,
   "id": "96092a80",
   "metadata": {},
   "outputs": [
    {
     "data": {
      "text/html": [
       "<table>\n",
       "<thead><tr><th scope=col>laptop_ID</th><th scope=col>Company</th><th scope=col>Product</th><th scope=col>TypeName</th><th scope=col>Inches</th><th scope=col>ScreenResolution</th><th scope=col>Cpu</th><th scope=col>Ram</th><th scope=col>Memory</th><th scope=col>Gpu</th><th scope=col>...</th><th scope=col>Layer1Hybrid</th><th scope=col>Layer1Flash_Storage</th><th scope=col>Layer2HDD</th><th scope=col>Layer2SSD</th><th scope=col>Layer2Hybrid</th><th scope=col>Layer2Flash_Storage</th><th scope=col>HDD</th><th scope=col>SSD</th><th scope=col>Hybrid</th><th scope=col>Flash_Storage</th></tr></thead>\n",
       "<tbody>\n",
       "\t<tr><td>1                                 </td><td>Apple                             </td><td>MacBook Pro                       </td><td>Ultrabook                         </td><td>13.3                              </td><td>IPS Panel Retina Display 2560x1600</td><td>Intel Core i5 2.3GHz              </td><td> 8                                </td><td>128 SSD                           </td><td>Intel Iris Plus Graphics 640      </td><td>...                               </td><td>0                                 </td><td>0                                 </td><td>0                                 </td><td>0                                 </td><td>0                                 </td><td>0                                 </td><td>0                                 </td><td>128                               </td><td>0                                 </td><td>  0                               </td></tr>\n",
       "\t<tr><td>2                                 </td><td>Apple                             </td><td>Macbook Air                       </td><td>Ultrabook                         </td><td>13.3                              </td><td>1440x900                          </td><td>Intel Core i5 1.8GHz              </td><td> 8                                </td><td>128 Flash Storage                 </td><td>Intel HD Graphics 6000            </td><td>...                               </td><td>0                                 </td><td>1                                 </td><td>0                                 </td><td>0                                 </td><td>0                                 </td><td>0                                 </td><td>0                                 </td><td>  0                               </td><td>0                                 </td><td>128                               </td></tr>\n",
       "\t<tr><td>3                                 </td><td>HP                                </td><td>250 G6                            </td><td>Notebook                          </td><td>15.6                              </td><td>Full HD 1920x1080                 </td><td>Intel Core i5 7200U 2.5GHz        </td><td> 8                                </td><td>256 SSD                           </td><td>Intel HD Graphics 620             </td><td>...                               </td><td>0                                 </td><td>0                                 </td><td>0                                 </td><td>0                                 </td><td>0                                 </td><td>0                                 </td><td>0                                 </td><td>256                               </td><td>0                                 </td><td>  0                               </td></tr>\n",
       "\t<tr><td>4                                 </td><td>Apple                             </td><td>MacBook Pro                       </td><td>Ultrabook                         </td><td>15.4                              </td><td>IPS Panel Retina Display 2880x1800</td><td>Intel Core i7 2.7GHz              </td><td>16                                </td><td>512 SSD                           </td><td>AMD Radeon Pro 455                </td><td>...                               </td><td>0                                 </td><td>0                                 </td><td>0                                 </td><td>0                                 </td><td>0                                 </td><td>0                                 </td><td>0                                 </td><td>512                               </td><td>0                                 </td><td>  0                               </td></tr>\n",
       "\t<tr><td>5                                 </td><td>Apple                             </td><td>MacBook Pro                       </td><td>Ultrabook                         </td><td>13.3                              </td><td>IPS Panel Retina Display 2560x1600</td><td>Intel Core i5 3.1GHz              </td><td> 8                                </td><td>256 SSD                           </td><td>Intel Iris Plus Graphics 650      </td><td>...                               </td><td>0                                 </td><td>0                                 </td><td>0                                 </td><td>0                                 </td><td>0                                 </td><td>0                                 </td><td>0                                 </td><td>256                               </td><td>0                                 </td><td>  0                               </td></tr>\n",
       "\t<tr><td>6                                 </td><td>Acer                              </td><td>Aspire 3                          </td><td>Notebook                          </td><td>15.6                              </td><td>1366x768                          </td><td>AMD A9-Series 9420 3GHz           </td><td> 4                                </td><td>0 HDD                             </td><td>AMD Radeon R5                     </td><td>...                               </td><td>0                                 </td><td>0                                 </td><td>0                                 </td><td>0                                 </td><td>0                                 </td><td>0                                 </td><td>0                                 </td><td>  0                               </td><td>0                                 </td><td>  0                               </td></tr>\n",
       "</tbody>\n",
       "</table>\n"
      ],
      "text/latex": [
       "\\begin{tabular}{r|lllllllllllllllllllllllllll}\n",
       " laptop\\_ID & Company & Product & TypeName & Inches & ScreenResolution & Cpu & Ram & Memory & Gpu & ... & Layer1Hybrid & Layer1Flash\\_Storage & Layer2HDD & Layer2SSD & Layer2Hybrid & Layer2Flash\\_Storage & HDD & SSD & Hybrid & Flash\\_Storage\\\\\n",
       "\\hline\n",
       "\t 1                                  & Apple                              & MacBook Pro                        & Ultrabook                          & 13.3                               & IPS Panel Retina Display 2560x1600 & Intel Core i5 2.3GHz               &  8                                 & 128 SSD                            & Intel Iris Plus Graphics 640       & ...                                & 0                                  & 0                                  & 0                                  & 0                                  & 0                                  & 0                                  & 0                                  & 128                                & 0                                  &   0                               \\\\\n",
       "\t 2                                  & Apple                              & Macbook Air                        & Ultrabook                          & 13.3                               & 1440x900                           & Intel Core i5 1.8GHz               &  8                                 & 128 Flash Storage                  & Intel HD Graphics 6000             & ...                                & 0                                  & 1                                  & 0                                  & 0                                  & 0                                  & 0                                  & 0                                  &   0                                & 0                                  & 128                               \\\\\n",
       "\t 3                                  & HP                                 & 250 G6                             & Notebook                           & 15.6                               & Full HD 1920x1080                  & Intel Core i5 7200U 2.5GHz         &  8                                 & 256 SSD                            & Intel HD Graphics 620              & ...                                & 0                                  & 0                                  & 0                                  & 0                                  & 0                                  & 0                                  & 0                                  & 256                                & 0                                  &   0                               \\\\\n",
       "\t 4                                  & Apple                              & MacBook Pro                        & Ultrabook                          & 15.4                               & IPS Panel Retina Display 2880x1800 & Intel Core i7 2.7GHz               & 16                                 & 512 SSD                            & AMD Radeon Pro 455                 & ...                                & 0                                  & 0                                  & 0                                  & 0                                  & 0                                  & 0                                  & 0                                  & 512                                & 0                                  &   0                               \\\\\n",
       "\t 5                                  & Apple                              & MacBook Pro                        & Ultrabook                          & 13.3                               & IPS Panel Retina Display 2560x1600 & Intel Core i5 3.1GHz               &  8                                 & 256 SSD                            & Intel Iris Plus Graphics 650       & ...                                & 0                                  & 0                                  & 0                                  & 0                                  & 0                                  & 0                                  & 0                                  & 256                                & 0                                  &   0                               \\\\\n",
       "\t 6                                  & Acer                               & Aspire 3                           & Notebook                           & 15.6                               & 1366x768                           & AMD A9-Series 9420 3GHz            &  4                                 & 0 HDD                              & AMD Radeon R5                      & ...                                & 0                                  & 0                                  & 0                                  & 0                                  & 0                                  & 0                                  & 0                                  &   0                                & 0                                  &   0                               \\\\\n",
       "\\end{tabular}\n"
      ],
      "text/markdown": [
       "\n",
       "| laptop_ID | Company | Product | TypeName | Inches | ScreenResolution | Cpu | Ram | Memory | Gpu | ... | Layer1Hybrid | Layer1Flash_Storage | Layer2HDD | Layer2SSD | Layer2Hybrid | Layer2Flash_Storage | HDD | SSD | Hybrid | Flash_Storage |\n",
       "|---|---|---|---|---|---|---|---|---|---|---|---|---|---|---|---|---|---|---|---|---|\n",
       "| 1                                  | Apple                              | MacBook Pro                        | Ultrabook                          | 13.3                               | IPS Panel Retina Display 2560x1600 | Intel Core i5 2.3GHz               |  8                                 | 128 SSD                            | Intel Iris Plus Graphics 640       | ...                                | 0                                  | 0                                  | 0                                  | 0                                  | 0                                  | 0                                  | 0                                  | 128                                | 0                                  |   0                                |\n",
       "| 2                                  | Apple                              | Macbook Air                        | Ultrabook                          | 13.3                               | 1440x900                           | Intel Core i5 1.8GHz               |  8                                 | 128 Flash Storage                  | Intel HD Graphics 6000             | ...                                | 0                                  | 1                                  | 0                                  | 0                                  | 0                                  | 0                                  | 0                                  |   0                                | 0                                  | 128                                |\n",
       "| 3                                  | HP                                 | 250 G6                             | Notebook                           | 15.6                               | Full HD 1920x1080                  | Intel Core i5 7200U 2.5GHz         |  8                                 | 256 SSD                            | Intel HD Graphics 620              | ...                                | 0                                  | 0                                  | 0                                  | 0                                  | 0                                  | 0                                  | 0                                  | 256                                | 0                                  |   0                                |\n",
       "| 4                                  | Apple                              | MacBook Pro                        | Ultrabook                          | 15.4                               | IPS Panel Retina Display 2880x1800 | Intel Core i7 2.7GHz               | 16                                 | 512 SSD                            | AMD Radeon Pro 455                 | ...                                | 0                                  | 0                                  | 0                                  | 0                                  | 0                                  | 0                                  | 0                                  | 512                                | 0                                  |   0                                |\n",
       "| 5                                  | Apple                              | MacBook Pro                        | Ultrabook                          | 13.3                               | IPS Panel Retina Display 2560x1600 | Intel Core i5 3.1GHz               |  8                                 | 256 SSD                            | Intel Iris Plus Graphics 650       | ...                                | 0                                  | 0                                  | 0                                  | 0                                  | 0                                  | 0                                  | 0                                  | 256                                | 0                                  |   0                                |\n",
       "| 6                                  | Acer                               | Aspire 3                           | Notebook                           | 15.6                               | 1366x768                           | AMD A9-Series 9420 3GHz            |  4                                 | 0 HDD                              | AMD Radeon R5                      | ...                                | 0                                  | 0                                  | 0                                  | 0                                  | 0                                  | 0                                  | 0                                  |   0                                | 0                                  |   0                                |\n",
       "\n"
      ],
      "text/plain": [
       "  laptop_ID Company Product     TypeName  Inches\n",
       "1 1         Apple   MacBook Pro Ultrabook 13.3  \n",
       "2 2         Apple   Macbook Air Ultrabook 13.3  \n",
       "3 3         HP      250 G6      Notebook  15.6  \n",
       "4 4         Apple   MacBook Pro Ultrabook 15.4  \n",
       "5 5         Apple   MacBook Pro Ultrabook 13.3  \n",
       "6 6         Acer    Aspire 3    Notebook  15.6  \n",
       "  ScreenResolution                   Cpu                        Ram\n",
       "1 IPS Panel Retina Display 2560x1600 Intel Core i5 2.3GHz        8 \n",
       "2 1440x900                           Intel Core i5 1.8GHz        8 \n",
       "3 Full HD 1920x1080                  Intel Core i5 7200U 2.5GHz  8 \n",
       "4 IPS Panel Retina Display 2880x1800 Intel Core i7 2.7GHz       16 \n",
       "5 IPS Panel Retina Display 2560x1600 Intel Core i5 3.1GHz        8 \n",
       "6 1366x768                           AMD A9-Series 9420 3GHz     4 \n",
       "  Memory            Gpu                          ... Layer1Hybrid\n",
       "1 128 SSD           Intel Iris Plus Graphics 640 ... 0           \n",
       "2 128 Flash Storage Intel HD Graphics 6000       ... 0           \n",
       "3 256 SSD           Intel HD Graphics 620        ... 0           \n",
       "4 512 SSD           AMD Radeon Pro 455           ... 0           \n",
       "5 256 SSD           Intel Iris Plus Graphics 650 ... 0           \n",
       "6 0 HDD             AMD Radeon R5                ... 0           \n",
       "  Layer1Flash_Storage Layer2HDD Layer2SSD Layer2Hybrid Layer2Flash_Storage HDD\n",
       "1 0                   0         0         0            0                   0  \n",
       "2 1                   0         0         0            0                   0  \n",
       "3 0                   0         0         0            0                   0  \n",
       "4 0                   0         0         0            0                   0  \n",
       "5 0                   0         0         0            0                   0  \n",
       "6 0                   0         0         0            0                   0  \n",
       "  SSD Hybrid Flash_Storage\n",
       "1 128 0        0          \n",
       "2   0 0      128          \n",
       "3 256 0        0          \n",
       "4 512 0        0          \n",
       "5 256 0        0          \n",
       "6   0 0        0          "
      ]
     },
     "metadata": {},
     "output_type": "display_data"
    }
   ],
   "source": [
    "head(data)"
   ]
  },
  {
   "cell_type": "code",
   "execution_count": 17,
   "id": "973950cc",
   "metadata": {},
   "outputs": [
    {
     "data": {
      "text/html": [
       "<table>\n",
       "<thead><tr><th scope=col>laptop_ID</th><th scope=col>Company</th><th scope=col>Product</th><th scope=col>TypeName</th><th scope=col>Inches</th><th scope=col>ScreenResolution</th><th scope=col>Cpu</th><th scope=col>Ram</th><th scope=col>Memory</th><th scope=col>Gpu</th><th scope=col>OpSys</th><th scope=col>Weight</th><th scope=col>Price_euros</th><th scope=col>HDD</th><th scope=col>SSD</th><th scope=col>Hybrid</th><th scope=col>Flash_Storage</th></tr></thead>\n",
       "<tbody>\n",
       "\t<tr><td>1                                 </td><td>Apple                             </td><td>MacBook Pro                       </td><td>Ultrabook                         </td><td>13.3                              </td><td>IPS Panel Retina Display 2560x1600</td><td>Intel Core i5 2.3GHz              </td><td> 8                                </td><td>128 SSD                           </td><td>Intel Iris Plus Graphics 640      </td><td>macOS                             </td><td>1.37                              </td><td>1339.69                           </td><td>0                                 </td><td>128                               </td><td>0                                 </td><td>  0                               </td></tr>\n",
       "\t<tr><td>2                                 </td><td>Apple                             </td><td>Macbook Air                       </td><td>Ultrabook                         </td><td>13.3                              </td><td>1440x900                          </td><td>Intel Core i5 1.8GHz              </td><td> 8                                </td><td>128 Flash Storage                 </td><td>Intel HD Graphics 6000            </td><td>macOS                             </td><td>1.34                              </td><td> 898.94                           </td><td>0                                 </td><td>  0                               </td><td>0                                 </td><td>128                               </td></tr>\n",
       "\t<tr><td>3                                 </td><td>HP                                </td><td>250 G6                            </td><td>Notebook                          </td><td>15.6                              </td><td>Full HD 1920x1080                 </td><td>Intel Core i5 7200U 2.5GHz        </td><td> 8                                </td><td>256 SSD                           </td><td>Intel HD Graphics 620             </td><td>No OS                             </td><td>1.86                              </td><td> 575.00                           </td><td>0                                 </td><td>256                               </td><td>0                                 </td><td>  0                               </td></tr>\n",
       "\t<tr><td>4                                 </td><td>Apple                             </td><td>MacBook Pro                       </td><td>Ultrabook                         </td><td>15.4                              </td><td>IPS Panel Retina Display 2880x1800</td><td>Intel Core i7 2.7GHz              </td><td>16                                </td><td>512 SSD                           </td><td>AMD Radeon Pro 455                </td><td>macOS                             </td><td>1.83                              </td><td>2537.45                           </td><td>0                                 </td><td>512                               </td><td>0                                 </td><td>  0                               </td></tr>\n",
       "\t<tr><td>5                                 </td><td>Apple                             </td><td>MacBook Pro                       </td><td>Ultrabook                         </td><td>13.3                              </td><td>IPS Panel Retina Display 2560x1600</td><td>Intel Core i5 3.1GHz              </td><td> 8                                </td><td>256 SSD                           </td><td>Intel Iris Plus Graphics 650      </td><td>macOS                             </td><td>1.37                              </td><td>1803.60                           </td><td>0                                 </td><td>256                               </td><td>0                                 </td><td>  0                               </td></tr>\n",
       "\t<tr><td>6                                 </td><td>Acer                              </td><td>Aspire 3                          </td><td>Notebook                          </td><td>15.6                              </td><td>1366x768                          </td><td>AMD A9-Series 9420 3GHz           </td><td> 4                                </td><td>0 HDD                             </td><td>AMD Radeon R5                     </td><td>Windows 10                        </td><td>2.10                              </td><td> 400.00                           </td><td>0                                 </td><td>  0                               </td><td>0                                 </td><td>  0                               </td></tr>\n",
       "</tbody>\n",
       "</table>\n"
      ],
      "text/latex": [
       "\\begin{tabular}{r|lllllllllllllllll}\n",
       " laptop\\_ID & Company & Product & TypeName & Inches & ScreenResolution & Cpu & Ram & Memory & Gpu & OpSys & Weight & Price\\_euros & HDD & SSD & Hybrid & Flash\\_Storage\\\\\n",
       "\\hline\n",
       "\t 1                                  & Apple                              & MacBook Pro                        & Ultrabook                          & 13.3                               & IPS Panel Retina Display 2560x1600 & Intel Core i5 2.3GHz               &  8                                 & 128 SSD                            & Intel Iris Plus Graphics 640       & macOS                              & 1.37                               & 1339.69                            & 0                                  & 128                                & 0                                  &   0                               \\\\\n",
       "\t 2                                  & Apple                              & Macbook Air                        & Ultrabook                          & 13.3                               & 1440x900                           & Intel Core i5 1.8GHz               &  8                                 & 128 Flash Storage                  & Intel HD Graphics 6000             & macOS                              & 1.34                               &  898.94                            & 0                                  &   0                                & 0                                  & 128                               \\\\\n",
       "\t 3                                  & HP                                 & 250 G6                             & Notebook                           & 15.6                               & Full HD 1920x1080                  & Intel Core i5 7200U 2.5GHz         &  8                                 & 256 SSD                            & Intel HD Graphics 620              & No OS                              & 1.86                               &  575.00                            & 0                                  & 256                                & 0                                  &   0                               \\\\\n",
       "\t 4                                  & Apple                              & MacBook Pro                        & Ultrabook                          & 15.4                               & IPS Panel Retina Display 2880x1800 & Intel Core i7 2.7GHz               & 16                                 & 512 SSD                            & AMD Radeon Pro 455                 & macOS                              & 1.83                               & 2537.45                            & 0                                  & 512                                & 0                                  &   0                               \\\\\n",
       "\t 5                                  & Apple                              & MacBook Pro                        & Ultrabook                          & 13.3                               & IPS Panel Retina Display 2560x1600 & Intel Core i5 3.1GHz               &  8                                 & 256 SSD                            & Intel Iris Plus Graphics 650       & macOS                              & 1.37                               & 1803.60                            & 0                                  & 256                                & 0                                  &   0                               \\\\\n",
       "\t 6                                  & Acer                               & Aspire 3                           & Notebook                           & 15.6                               & 1366x768                           & AMD A9-Series 9420 3GHz            &  4                                 & 0 HDD                              & AMD Radeon R5                      & Windows 10                         & 2.10                               &  400.00                            & 0                                  &   0                                & 0                                  &   0                               \\\\\n",
       "\\end{tabular}\n"
      ],
      "text/markdown": [
       "\n",
       "| laptop_ID | Company | Product | TypeName | Inches | ScreenResolution | Cpu | Ram | Memory | Gpu | OpSys | Weight | Price_euros | HDD | SSD | Hybrid | Flash_Storage |\n",
       "|---|---|---|---|---|---|---|---|---|---|---|---|---|---|---|---|---|\n",
       "| 1                                  | Apple                              | MacBook Pro                        | Ultrabook                          | 13.3                               | IPS Panel Retina Display 2560x1600 | Intel Core i5 2.3GHz               |  8                                 | 128 SSD                            | Intel Iris Plus Graphics 640       | macOS                              | 1.37                               | 1339.69                            | 0                                  | 128                                | 0                                  |   0                                |\n",
       "| 2                                  | Apple                              | Macbook Air                        | Ultrabook                          | 13.3                               | 1440x900                           | Intel Core i5 1.8GHz               |  8                                 | 128 Flash Storage                  | Intel HD Graphics 6000             | macOS                              | 1.34                               |  898.94                            | 0                                  |   0                                | 0                                  | 128                                |\n",
       "| 3                                  | HP                                 | 250 G6                             | Notebook                           | 15.6                               | Full HD 1920x1080                  | Intel Core i5 7200U 2.5GHz         |  8                                 | 256 SSD                            | Intel HD Graphics 620              | No OS                              | 1.86                               |  575.00                            | 0                                  | 256                                | 0                                  |   0                                |\n",
       "| 4                                  | Apple                              | MacBook Pro                        | Ultrabook                          | 15.4                               | IPS Panel Retina Display 2880x1800 | Intel Core i7 2.7GHz               | 16                                 | 512 SSD                            | AMD Radeon Pro 455                 | macOS                              | 1.83                               | 2537.45                            | 0                                  | 512                                | 0                                  |   0                                |\n",
       "| 5                                  | Apple                              | MacBook Pro                        | Ultrabook                          | 13.3                               | IPS Panel Retina Display 2560x1600 | Intel Core i5 3.1GHz               |  8                                 | 256 SSD                            | Intel Iris Plus Graphics 650       | macOS                              | 1.37                               | 1803.60                            | 0                                  | 256                                | 0                                  |   0                                |\n",
       "| 6                                  | Acer                               | Aspire 3                           | Notebook                           | 15.6                               | 1366x768                           | AMD A9-Series 9420 3GHz            |  4                                 | 0 HDD                              | AMD Radeon R5                      | Windows 10                         | 2.10                               |  400.00                            | 0                                  |   0                                | 0                                  |   0                                |\n",
       "\n"
      ],
      "text/plain": [
       "  laptop_ID Company Product     TypeName  Inches\n",
       "1 1         Apple   MacBook Pro Ultrabook 13.3  \n",
       "2 2         Apple   Macbook Air Ultrabook 13.3  \n",
       "3 3         HP      250 G6      Notebook  15.6  \n",
       "4 4         Apple   MacBook Pro Ultrabook 15.4  \n",
       "5 5         Apple   MacBook Pro Ultrabook 13.3  \n",
       "6 6         Acer    Aspire 3    Notebook  15.6  \n",
       "  ScreenResolution                   Cpu                        Ram\n",
       "1 IPS Panel Retina Display 2560x1600 Intel Core i5 2.3GHz        8 \n",
       "2 1440x900                           Intel Core i5 1.8GHz        8 \n",
       "3 Full HD 1920x1080                  Intel Core i5 7200U 2.5GHz  8 \n",
       "4 IPS Panel Retina Display 2880x1800 Intel Core i7 2.7GHz       16 \n",
       "5 IPS Panel Retina Display 2560x1600 Intel Core i5 3.1GHz        8 \n",
       "6 1366x768                           AMD A9-Series 9420 3GHz     4 \n",
       "  Memory            Gpu                          OpSys      Weight Price_euros\n",
       "1 128 SSD           Intel Iris Plus Graphics 640 macOS      1.37   1339.69    \n",
       "2 128 Flash Storage Intel HD Graphics 6000       macOS      1.34    898.94    \n",
       "3 256 SSD           Intel HD Graphics 620        No OS      1.86    575.00    \n",
       "4 512 SSD           AMD Radeon Pro 455           macOS      1.83   2537.45    \n",
       "5 256 SSD           Intel Iris Plus Graphics 650 macOS      1.37   1803.60    \n",
       "6 0 HDD             AMD Radeon R5                Windows 10 2.10    400.00    \n",
       "  HDD SSD Hybrid Flash_Storage\n",
       "1 0   128 0        0          \n",
       "2 0     0 0      128          \n",
       "3 0   256 0        0          \n",
       "4 0   512 0        0          \n",
       "5 0   256 0        0          \n",
       "6 0     0 0        0          "
      ]
     },
     "metadata": {},
     "output_type": "display_data"
    }
   ],
   "source": [
    "data <- data[,-c(14,15,16,17,18,19,20,21,22,23)]\n",
    "head(data)"
   ]
  },
  {
   "cell_type": "code",
   "execution_count": 18,
   "id": "29d627d7",
   "metadata": {},
   "outputs": [
    {
     "data": {
      "text/html": [
       "<table>\n",
       "<thead><tr><th scope=col>laptop_ID</th><th scope=col>Company</th><th scope=col>Product</th><th scope=col>TypeName</th><th scope=col>Inches</th><th scope=col>ScreenResolution</th><th scope=col>Cpu</th><th scope=col>Ram</th><th scope=col>Gpu</th><th scope=col>OpSys</th><th scope=col>Weight</th><th scope=col>Price_euros</th><th scope=col>HDD</th><th scope=col>SSD</th></tr></thead>\n",
       "<tbody>\n",
       "\t<tr><td>1                                 </td><td>Apple                             </td><td>MacBook Pro                       </td><td>Ultrabook                         </td><td>13.3                              </td><td>IPS Panel Retina Display 2560x1600</td><td>Intel Core i5 2.3GHz              </td><td> 8                                </td><td>Intel Iris Plus Graphics 640      </td><td>macOS                             </td><td>1.37                              </td><td>1339.69                           </td><td>0                                 </td><td>128                               </td></tr>\n",
       "\t<tr><td>2                                 </td><td>Apple                             </td><td>Macbook Air                       </td><td>Ultrabook                         </td><td>13.3                              </td><td>1440x900                          </td><td>Intel Core i5 1.8GHz              </td><td> 8                                </td><td>Intel HD Graphics 6000            </td><td>macOS                             </td><td>1.34                              </td><td> 898.94                           </td><td>0                                 </td><td>  0                               </td></tr>\n",
       "\t<tr><td>3                                 </td><td>HP                                </td><td>250 G6                            </td><td>Notebook                          </td><td>15.6                              </td><td>Full HD 1920x1080                 </td><td>Intel Core i5 7200U 2.5GHz        </td><td> 8                                </td><td>Intel HD Graphics 620             </td><td>No OS                             </td><td>1.86                              </td><td> 575.00                           </td><td>0                                 </td><td>256                               </td></tr>\n",
       "\t<tr><td>4                                 </td><td>Apple                             </td><td>MacBook Pro                       </td><td>Ultrabook                         </td><td>15.4                              </td><td>IPS Panel Retina Display 2880x1800</td><td>Intel Core i7 2.7GHz              </td><td>16                                </td><td>AMD Radeon Pro 455                </td><td>macOS                             </td><td>1.83                              </td><td>2537.45                           </td><td>0                                 </td><td>512                               </td></tr>\n",
       "\t<tr><td>5                                 </td><td>Apple                             </td><td>MacBook Pro                       </td><td>Ultrabook                         </td><td>13.3                              </td><td>IPS Panel Retina Display 2560x1600</td><td>Intel Core i5 3.1GHz              </td><td> 8                                </td><td>Intel Iris Plus Graphics 650      </td><td>macOS                             </td><td>1.37                              </td><td>1803.60                           </td><td>0                                 </td><td>256                               </td></tr>\n",
       "\t<tr><td>6                                 </td><td>Acer                              </td><td>Aspire 3                          </td><td>Notebook                          </td><td>15.6                              </td><td>1366x768                          </td><td>AMD A9-Series 9420 3GHz           </td><td> 4                                </td><td>AMD Radeon R5                     </td><td>Windows 10                        </td><td>2.10                              </td><td> 400.00                           </td><td>0                                 </td><td>  0                               </td></tr>\n",
       "</tbody>\n",
       "</table>\n"
      ],
      "text/latex": [
       "\\begin{tabular}{r|llllllllllllll}\n",
       " laptop\\_ID & Company & Product & TypeName & Inches & ScreenResolution & Cpu & Ram & Gpu & OpSys & Weight & Price\\_euros & HDD & SSD\\\\\n",
       "\\hline\n",
       "\t 1                                  & Apple                              & MacBook Pro                        & Ultrabook                          & 13.3                               & IPS Panel Retina Display 2560x1600 & Intel Core i5 2.3GHz               &  8                                 & Intel Iris Plus Graphics 640       & macOS                              & 1.37                               & 1339.69                            & 0                                  & 128                               \\\\\n",
       "\t 2                                  & Apple                              & Macbook Air                        & Ultrabook                          & 13.3                               & 1440x900                           & Intel Core i5 1.8GHz               &  8                                 & Intel HD Graphics 6000             & macOS                              & 1.34                               &  898.94                            & 0                                  &   0                               \\\\\n",
       "\t 3                                  & HP                                 & 250 G6                             & Notebook                           & 15.6                               & Full HD 1920x1080                  & Intel Core i5 7200U 2.5GHz         &  8                                 & Intel HD Graphics 620              & No OS                              & 1.86                               &  575.00                            & 0                                  & 256                               \\\\\n",
       "\t 4                                  & Apple                              & MacBook Pro                        & Ultrabook                          & 15.4                               & IPS Panel Retina Display 2880x1800 & Intel Core i7 2.7GHz               & 16                                 & AMD Radeon Pro 455                 & macOS                              & 1.83                               & 2537.45                            & 0                                  & 512                               \\\\\n",
       "\t 5                                  & Apple                              & MacBook Pro                        & Ultrabook                          & 13.3                               & IPS Panel Retina Display 2560x1600 & Intel Core i5 3.1GHz               &  8                                 & Intel Iris Plus Graphics 650       & macOS                              & 1.37                               & 1803.60                            & 0                                  & 256                               \\\\\n",
       "\t 6                                  & Acer                               & Aspire 3                           & Notebook                           & 15.6                               & 1366x768                           & AMD A9-Series 9420 3GHz            &  4                                 & AMD Radeon R5                      & Windows 10                         & 2.10                               &  400.00                            & 0                                  &   0                               \\\\\n",
       "\\end{tabular}\n"
      ],
      "text/markdown": [
       "\n",
       "| laptop_ID | Company | Product | TypeName | Inches | ScreenResolution | Cpu | Ram | Gpu | OpSys | Weight | Price_euros | HDD | SSD |\n",
       "|---|---|---|---|---|---|---|---|---|---|---|---|---|---|\n",
       "| 1                                  | Apple                              | MacBook Pro                        | Ultrabook                          | 13.3                               | IPS Panel Retina Display 2560x1600 | Intel Core i5 2.3GHz               |  8                                 | Intel Iris Plus Graphics 640       | macOS                              | 1.37                               | 1339.69                            | 0                                  | 128                                |\n",
       "| 2                                  | Apple                              | Macbook Air                        | Ultrabook                          | 13.3                               | 1440x900                           | Intel Core i5 1.8GHz               |  8                                 | Intel HD Graphics 6000             | macOS                              | 1.34                               |  898.94                            | 0                                  |   0                                |\n",
       "| 3                                  | HP                                 | 250 G6                             | Notebook                           | 15.6                               | Full HD 1920x1080                  | Intel Core i5 7200U 2.5GHz         |  8                                 | Intel HD Graphics 620              | No OS                              | 1.86                               |  575.00                            | 0                                  | 256                                |\n",
       "| 4                                  | Apple                              | MacBook Pro                        | Ultrabook                          | 15.4                               | IPS Panel Retina Display 2880x1800 | Intel Core i7 2.7GHz               | 16                                 | AMD Radeon Pro 455                 | macOS                              | 1.83                               | 2537.45                            | 0                                  | 512                                |\n",
       "| 5                                  | Apple                              | MacBook Pro                        | Ultrabook                          | 13.3                               | IPS Panel Retina Display 2560x1600 | Intel Core i5 3.1GHz               |  8                                 | Intel Iris Plus Graphics 650       | macOS                              | 1.37                               | 1803.60                            | 0                                  | 256                                |\n",
       "| 6                                  | Acer                               | Aspire 3                           | Notebook                           | 15.6                               | 1366x768                           | AMD A9-Series 9420 3GHz            |  4                                 | AMD Radeon R5                      | Windows 10                         | 2.10                               |  400.00                            | 0                                  |   0                                |\n",
       "\n"
      ],
      "text/plain": [
       "  laptop_ID Company Product     TypeName  Inches\n",
       "1 1         Apple   MacBook Pro Ultrabook 13.3  \n",
       "2 2         Apple   Macbook Air Ultrabook 13.3  \n",
       "3 3         HP      250 G6      Notebook  15.6  \n",
       "4 4         Apple   MacBook Pro Ultrabook 15.4  \n",
       "5 5         Apple   MacBook Pro Ultrabook 13.3  \n",
       "6 6         Acer    Aspire 3    Notebook  15.6  \n",
       "  ScreenResolution                   Cpu                        Ram\n",
       "1 IPS Panel Retina Display 2560x1600 Intel Core i5 2.3GHz        8 \n",
       "2 1440x900                           Intel Core i5 1.8GHz        8 \n",
       "3 Full HD 1920x1080                  Intel Core i5 7200U 2.5GHz  8 \n",
       "4 IPS Panel Retina Display 2880x1800 Intel Core i7 2.7GHz       16 \n",
       "5 IPS Panel Retina Display 2560x1600 Intel Core i5 3.1GHz        8 \n",
       "6 1366x768                           AMD A9-Series 9420 3GHz     4 \n",
       "  Gpu                          OpSys      Weight Price_euros HDD SSD\n",
       "1 Intel Iris Plus Graphics 640 macOS      1.37   1339.69     0   128\n",
       "2 Intel HD Graphics 6000       macOS      1.34    898.94     0     0\n",
       "3 Intel HD Graphics 620        No OS      1.86    575.00     0   256\n",
       "4 AMD Radeon Pro 455           macOS      1.83   2537.45     0   512\n",
       "5 Intel Iris Plus Graphics 650 macOS      1.37   1803.60     0   256\n",
       "6 AMD Radeon R5                Windows 10 2.10    400.00     0     0"
      ]
     },
     "metadata": {},
     "output_type": "display_data"
    }
   ],
   "source": [
    "data <- data[,-c(9,16,17)]\n",
    "head(data)"
   ]
  },
  {
   "cell_type": "code",
   "execution_count": 19,
   "id": "06cd6245",
   "metadata": {},
   "outputs": [
    {
     "data": {
      "text/html": [
       "<table>\n",
       "<thead><tr><th scope=col>laptop_ID</th><th scope=col>Company</th><th scope=col>Product</th><th scope=col>TypeName</th><th scope=col>Inches</th><th scope=col>ScreenResolution</th><th scope=col>Cpu</th><th scope=col>Ram</th><th scope=col>Gpu</th><th scope=col>OpSys</th><th scope=col>Weight</th><th scope=col>Price_euros</th><th scope=col>HDD</th><th scope=col>SSD</th><th scope=col>Gpu_brand</th></tr></thead>\n",
       "<tbody>\n",
       "\t<tr><td>1                                 </td><td>Apple                             </td><td>MacBook Pro                       </td><td>Ultrabook                         </td><td>13.3                              </td><td>IPS Panel Retina Display 2560x1600</td><td>Intel Core i5 2.3GHz              </td><td> 8                                </td><td>Intel Iris Plus Graphics 640      </td><td>macOS                             </td><td>1.37                              </td><td>1339.69                           </td><td>0                                 </td><td>128                               </td><td>Intel                             </td></tr>\n",
       "\t<tr><td>2                                 </td><td>Apple                             </td><td>Macbook Air                       </td><td>Ultrabook                         </td><td>13.3                              </td><td>1440x900                          </td><td>Intel Core i5 1.8GHz              </td><td> 8                                </td><td>Intel HD Graphics 6000            </td><td>macOS                             </td><td>1.34                              </td><td> 898.94                           </td><td>0                                 </td><td>  0                               </td><td>Intel                             </td></tr>\n",
       "\t<tr><td>3                                 </td><td>HP                                </td><td>250 G6                            </td><td>Notebook                          </td><td>15.6                              </td><td>Full HD 1920x1080                 </td><td>Intel Core i5 7200U 2.5GHz        </td><td> 8                                </td><td>Intel HD Graphics 620             </td><td>No OS                             </td><td>1.86                              </td><td> 575.00                           </td><td>0                                 </td><td>256                               </td><td>Intel                             </td></tr>\n",
       "\t<tr><td>4                                 </td><td>Apple                             </td><td>MacBook Pro                       </td><td>Ultrabook                         </td><td>15.4                              </td><td>IPS Panel Retina Display 2880x1800</td><td>Intel Core i7 2.7GHz              </td><td>16                                </td><td>AMD Radeon Pro 455                </td><td>macOS                             </td><td>1.83                              </td><td>2537.45                           </td><td>0                                 </td><td>512                               </td><td>AMD                               </td></tr>\n",
       "\t<tr><td>5                                 </td><td>Apple                             </td><td>MacBook Pro                       </td><td>Ultrabook                         </td><td>13.3                              </td><td>IPS Panel Retina Display 2560x1600</td><td>Intel Core i5 3.1GHz              </td><td> 8                                </td><td>Intel Iris Plus Graphics 650      </td><td>macOS                             </td><td>1.37                              </td><td>1803.60                           </td><td>0                                 </td><td>256                               </td><td>Intel                             </td></tr>\n",
       "\t<tr><td>6                                 </td><td>Acer                              </td><td>Aspire 3                          </td><td>Notebook                          </td><td>15.6                              </td><td>1366x768                          </td><td>AMD A9-Series 9420 3GHz           </td><td> 4                                </td><td>AMD Radeon R5                     </td><td>Windows 10                        </td><td>2.10                              </td><td> 400.00                           </td><td>0                                 </td><td>  0                               </td><td>AMD                               </td></tr>\n",
       "</tbody>\n",
       "</table>\n"
      ],
      "text/latex": [
       "\\begin{tabular}{r|lllllllllllllll}\n",
       " laptop\\_ID & Company & Product & TypeName & Inches & ScreenResolution & Cpu & Ram & Gpu & OpSys & Weight & Price\\_euros & HDD & SSD & Gpu\\_brand\\\\\n",
       "\\hline\n",
       "\t 1                                  & Apple                              & MacBook Pro                        & Ultrabook                          & 13.3                               & IPS Panel Retina Display 2560x1600 & Intel Core i5 2.3GHz               &  8                                 & Intel Iris Plus Graphics 640       & macOS                              & 1.37                               & 1339.69                            & 0                                  & 128                                & Intel                             \\\\\n",
       "\t 2                                  & Apple                              & Macbook Air                        & Ultrabook                          & 13.3                               & 1440x900                           & Intel Core i5 1.8GHz               &  8                                 & Intel HD Graphics 6000             & macOS                              & 1.34                               &  898.94                            & 0                                  &   0                                & Intel                             \\\\\n",
       "\t 3                                  & HP                                 & 250 G6                             & Notebook                           & 15.6                               & Full HD 1920x1080                  & Intel Core i5 7200U 2.5GHz         &  8                                 & Intel HD Graphics 620              & No OS                              & 1.86                               &  575.00                            & 0                                  & 256                                & Intel                             \\\\\n",
       "\t 4                                  & Apple                              & MacBook Pro                        & Ultrabook                          & 15.4                               & IPS Panel Retina Display 2880x1800 & Intel Core i7 2.7GHz               & 16                                 & AMD Radeon Pro 455                 & macOS                              & 1.83                               & 2537.45                            & 0                                  & 512                                & AMD                               \\\\\n",
       "\t 5                                  & Apple                              & MacBook Pro                        & Ultrabook                          & 13.3                               & IPS Panel Retina Display 2560x1600 & Intel Core i5 3.1GHz               &  8                                 & Intel Iris Plus Graphics 650       & macOS                              & 1.37                               & 1803.60                            & 0                                  & 256                                & Intel                             \\\\\n",
       "\t 6                                  & Acer                               & Aspire 3                           & Notebook                           & 15.6                               & 1366x768                           & AMD A9-Series 9420 3GHz            &  4                                 & AMD Radeon R5                      & Windows 10                         & 2.10                               &  400.00                            & 0                                  &   0                                & AMD                               \\\\\n",
       "\\end{tabular}\n"
      ],
      "text/markdown": [
       "\n",
       "| laptop_ID | Company | Product | TypeName | Inches | ScreenResolution | Cpu | Ram | Gpu | OpSys | Weight | Price_euros | HDD | SSD | Gpu_brand |\n",
       "|---|---|---|---|---|---|---|---|---|---|---|---|---|---|---|\n",
       "| 1                                  | Apple                              | MacBook Pro                        | Ultrabook                          | 13.3                               | IPS Panel Retina Display 2560x1600 | Intel Core i5 2.3GHz               |  8                                 | Intel Iris Plus Graphics 640       | macOS                              | 1.37                               | 1339.69                            | 0                                  | 128                                | Intel                              |\n",
       "| 2                                  | Apple                              | Macbook Air                        | Ultrabook                          | 13.3                               | 1440x900                           | Intel Core i5 1.8GHz               |  8                                 | Intel HD Graphics 6000             | macOS                              | 1.34                               |  898.94                            | 0                                  |   0                                | Intel                              |\n",
       "| 3                                  | HP                                 | 250 G6                             | Notebook                           | 15.6                               | Full HD 1920x1080                  | Intel Core i5 7200U 2.5GHz         |  8                                 | Intel HD Graphics 620              | No OS                              | 1.86                               |  575.00                            | 0                                  | 256                                | Intel                              |\n",
       "| 4                                  | Apple                              | MacBook Pro                        | Ultrabook                          | 15.4                               | IPS Panel Retina Display 2880x1800 | Intel Core i7 2.7GHz               | 16                                 | AMD Radeon Pro 455                 | macOS                              | 1.83                               | 2537.45                            | 0                                  | 512                                | AMD                                |\n",
       "| 5                                  | Apple                              | MacBook Pro                        | Ultrabook                          | 13.3                               | IPS Panel Retina Display 2560x1600 | Intel Core i5 3.1GHz               |  8                                 | Intel Iris Plus Graphics 650       | macOS                              | 1.37                               | 1803.60                            | 0                                  | 256                                | Intel                              |\n",
       "| 6                                  | Acer                               | Aspire 3                           | Notebook                           | 15.6                               | 1366x768                           | AMD A9-Series 9420 3GHz            |  4                                 | AMD Radeon R5                      | Windows 10                         | 2.10                               |  400.00                            | 0                                  |   0                                | AMD                                |\n",
       "\n"
      ],
      "text/plain": [
       "  laptop_ID Company Product     TypeName  Inches\n",
       "1 1         Apple   MacBook Pro Ultrabook 13.3  \n",
       "2 2         Apple   Macbook Air Ultrabook 13.3  \n",
       "3 3         HP      250 G6      Notebook  15.6  \n",
       "4 4         Apple   MacBook Pro Ultrabook 15.4  \n",
       "5 5         Apple   MacBook Pro Ultrabook 13.3  \n",
       "6 6         Acer    Aspire 3    Notebook  15.6  \n",
       "  ScreenResolution                   Cpu                        Ram\n",
       "1 IPS Panel Retina Display 2560x1600 Intel Core i5 2.3GHz        8 \n",
       "2 1440x900                           Intel Core i5 1.8GHz        8 \n",
       "3 Full HD 1920x1080                  Intel Core i5 7200U 2.5GHz  8 \n",
       "4 IPS Panel Retina Display 2880x1800 Intel Core i7 2.7GHz       16 \n",
       "5 IPS Panel Retina Display 2560x1600 Intel Core i5 3.1GHz        8 \n",
       "6 1366x768                           AMD A9-Series 9420 3GHz     4 \n",
       "  Gpu                          OpSys      Weight Price_euros HDD SSD Gpu_brand\n",
       "1 Intel Iris Plus Graphics 640 macOS      1.37   1339.69     0   128 Intel    \n",
       "2 Intel HD Graphics 6000       macOS      1.34    898.94     0     0 Intel    \n",
       "3 Intel HD Graphics 620        No OS      1.86    575.00     0   256 Intel    \n",
       "4 AMD Radeon Pro 455           macOS      1.83   2537.45     0   512 AMD      \n",
       "5 Intel Iris Plus Graphics 650 macOS      1.37   1803.60     0   256 Intel    \n",
       "6 AMD Radeon R5                Windows 10 2.10    400.00     0     0 AMD      "
      ]
     },
     "metadata": {},
     "output_type": "display_data"
    }
   ],
   "source": [
    "data$Gpu <- as.character(data$Gpu)\n",
    "data$Gpu_brand <- sapply(strsplit(data$Gpu, \" \"), `[`, 1)\n",
    "data = data[data$Gpu_brand != 'ARM',]\n",
    "head(data)"
   ]
  },
  {
   "cell_type": "code",
   "execution_count": 20,
   "id": "671e3e55",
   "metadata": {},
   "outputs": [
    {
     "data": {
      "text/html": [
       "<table>\n",
       "<thead><tr><th scope=col>laptop_ID</th><th scope=col>Company</th><th scope=col>Product</th><th scope=col>TypeName</th><th scope=col>Inches</th><th scope=col>ScreenResolution</th><th scope=col>Cpu</th><th scope=col>Ram</th><th scope=col>OpSys</th><th scope=col>Weight</th><th scope=col>Price_euros</th><th scope=col>HDD</th><th scope=col>SSD</th><th scope=col>Gpu_brand</th></tr></thead>\n",
       "<tbody>\n",
       "\t<tr><td>1                                 </td><td>Apple                             </td><td>MacBook Pro                       </td><td>Ultrabook                         </td><td>13.3                              </td><td>IPS Panel Retina Display 2560x1600</td><td>Intel Core i5 2.3GHz              </td><td> 8                                </td><td>macOS                             </td><td>1.37                              </td><td>1339.69                           </td><td>0                                 </td><td>128                               </td><td>Intel                             </td></tr>\n",
       "\t<tr><td>2                                 </td><td>Apple                             </td><td>Macbook Air                       </td><td>Ultrabook                         </td><td>13.3                              </td><td>1440x900                          </td><td>Intel Core i5 1.8GHz              </td><td> 8                                </td><td>macOS                             </td><td>1.34                              </td><td> 898.94                           </td><td>0                                 </td><td>  0                               </td><td>Intel                             </td></tr>\n",
       "\t<tr><td>3                                 </td><td>HP                                </td><td>250 G6                            </td><td>Notebook                          </td><td>15.6                              </td><td>Full HD 1920x1080                 </td><td>Intel Core i5 7200U 2.5GHz        </td><td> 8                                </td><td>No OS                             </td><td>1.86                              </td><td> 575.00                           </td><td>0                                 </td><td>256                               </td><td>Intel                             </td></tr>\n",
       "\t<tr><td>4                                 </td><td>Apple                             </td><td>MacBook Pro                       </td><td>Ultrabook                         </td><td>15.4                              </td><td>IPS Panel Retina Display 2880x1800</td><td>Intel Core i7 2.7GHz              </td><td>16                                </td><td>macOS                             </td><td>1.83                              </td><td>2537.45                           </td><td>0                                 </td><td>512                               </td><td>AMD                               </td></tr>\n",
       "\t<tr><td>5                                 </td><td>Apple                             </td><td>MacBook Pro                       </td><td>Ultrabook                         </td><td>13.3                              </td><td>IPS Panel Retina Display 2560x1600</td><td>Intel Core i5 3.1GHz              </td><td> 8                                </td><td>macOS                             </td><td>1.37                              </td><td>1803.60                           </td><td>0                                 </td><td>256                               </td><td>Intel                             </td></tr>\n",
       "\t<tr><td>6                                 </td><td>Acer                              </td><td>Aspire 3                          </td><td>Notebook                          </td><td>15.6                              </td><td>1366x768                          </td><td>AMD A9-Series 9420 3GHz           </td><td> 4                                </td><td>Windows 10                        </td><td>2.10                              </td><td> 400.00                           </td><td>0                                 </td><td>  0                               </td><td>AMD                               </td></tr>\n",
       "</tbody>\n",
       "</table>\n"
      ],
      "text/latex": [
       "\\begin{tabular}{r|llllllllllllll}\n",
       " laptop\\_ID & Company & Product & TypeName & Inches & ScreenResolution & Cpu & Ram & OpSys & Weight & Price\\_euros & HDD & SSD & Gpu\\_brand\\\\\n",
       "\\hline\n",
       "\t 1                                  & Apple                              & MacBook Pro                        & Ultrabook                          & 13.3                               & IPS Panel Retina Display 2560x1600 & Intel Core i5 2.3GHz               &  8                                 & macOS                              & 1.37                               & 1339.69                            & 0                                  & 128                                & Intel                             \\\\\n",
       "\t 2                                  & Apple                              & Macbook Air                        & Ultrabook                          & 13.3                               & 1440x900                           & Intel Core i5 1.8GHz               &  8                                 & macOS                              & 1.34                               &  898.94                            & 0                                  &   0                                & Intel                             \\\\\n",
       "\t 3                                  & HP                                 & 250 G6                             & Notebook                           & 15.6                               & Full HD 1920x1080                  & Intel Core i5 7200U 2.5GHz         &  8                                 & No OS                              & 1.86                               &  575.00                            & 0                                  & 256                                & Intel                             \\\\\n",
       "\t 4                                  & Apple                              & MacBook Pro                        & Ultrabook                          & 15.4                               & IPS Panel Retina Display 2880x1800 & Intel Core i7 2.7GHz               & 16                                 & macOS                              & 1.83                               & 2537.45                            & 0                                  & 512                                & AMD                               \\\\\n",
       "\t 5                                  & Apple                              & MacBook Pro                        & Ultrabook                          & 13.3                               & IPS Panel Retina Display 2560x1600 & Intel Core i5 3.1GHz               &  8                                 & macOS                              & 1.37                               & 1803.60                            & 0                                  & 256                                & Intel                             \\\\\n",
       "\t 6                                  & Acer                               & Aspire 3                           & Notebook                           & 15.6                               & 1366x768                           & AMD A9-Series 9420 3GHz            &  4                                 & Windows 10                         & 2.10                               &  400.00                            & 0                                  &   0                                & AMD                               \\\\\n",
       "\\end{tabular}\n"
      ],
      "text/markdown": [
       "\n",
       "| laptop_ID | Company | Product | TypeName | Inches | ScreenResolution | Cpu | Ram | OpSys | Weight | Price_euros | HDD | SSD | Gpu_brand |\n",
       "|---|---|---|---|---|---|---|---|---|---|---|---|---|---|\n",
       "| 1                                  | Apple                              | MacBook Pro                        | Ultrabook                          | 13.3                               | IPS Panel Retina Display 2560x1600 | Intel Core i5 2.3GHz               |  8                                 | macOS                              | 1.37                               | 1339.69                            | 0                                  | 128                                | Intel                              |\n",
       "| 2                                  | Apple                              | Macbook Air                        | Ultrabook                          | 13.3                               | 1440x900                           | Intel Core i5 1.8GHz               |  8                                 | macOS                              | 1.34                               |  898.94                            | 0                                  |   0                                | Intel                              |\n",
       "| 3                                  | HP                                 | 250 G6                             | Notebook                           | 15.6                               | Full HD 1920x1080                  | Intel Core i5 7200U 2.5GHz         |  8                                 | No OS                              | 1.86                               |  575.00                            | 0                                  | 256                                | Intel                              |\n",
       "| 4                                  | Apple                              | MacBook Pro                        | Ultrabook                          | 15.4                               | IPS Panel Retina Display 2880x1800 | Intel Core i7 2.7GHz               | 16                                 | macOS                              | 1.83                               | 2537.45                            | 0                                  | 512                                | AMD                                |\n",
       "| 5                                  | Apple                              | MacBook Pro                        | Ultrabook                          | 13.3                               | IPS Panel Retina Display 2560x1600 | Intel Core i5 3.1GHz               |  8                                 | macOS                              | 1.37                               | 1803.60                            | 0                                  | 256                                | Intel                              |\n",
       "| 6                                  | Acer                               | Aspire 3                           | Notebook                           | 15.6                               | 1366x768                           | AMD A9-Series 9420 3GHz            |  4                                 | Windows 10                         | 2.10                               |  400.00                            | 0                                  |   0                                | AMD                                |\n",
       "\n"
      ],
      "text/plain": [
       "  laptop_ID Company Product     TypeName  Inches\n",
       "1 1         Apple   MacBook Pro Ultrabook 13.3  \n",
       "2 2         Apple   Macbook Air Ultrabook 13.3  \n",
       "3 3         HP      250 G6      Notebook  15.6  \n",
       "4 4         Apple   MacBook Pro Ultrabook 15.4  \n",
       "5 5         Apple   MacBook Pro Ultrabook 13.3  \n",
       "6 6         Acer    Aspire 3    Notebook  15.6  \n",
       "  ScreenResolution                   Cpu                        Ram OpSys     \n",
       "1 IPS Panel Retina Display 2560x1600 Intel Core i5 2.3GHz        8  macOS     \n",
       "2 1440x900                           Intel Core i5 1.8GHz        8  macOS     \n",
       "3 Full HD 1920x1080                  Intel Core i5 7200U 2.5GHz  8  No OS     \n",
       "4 IPS Panel Retina Display 2880x1800 Intel Core i7 2.7GHz       16  macOS     \n",
       "5 IPS Panel Retina Display 2560x1600 Intel Core i5 3.1GHz        8  macOS     \n",
       "6 1366x768                           AMD A9-Series 9420 3GHz     4  Windows 10\n",
       "  Weight Price_euros HDD SSD Gpu_brand\n",
       "1 1.37   1339.69     0   128 Intel    \n",
       "2 1.34    898.94     0     0 Intel    \n",
       "3 1.86    575.00     0   256 Intel    \n",
       "4 1.83   2537.45     0   512 AMD      \n",
       "5 1.37   1803.60     0   256 Intel    \n",
       "6 2.10    400.00     0     0 AMD      "
      ]
     },
     "metadata": {},
     "output_type": "display_data"
    }
   ],
   "source": [
    "data <- data[,-c(9)]\n",
    "head(data)"
   ]
  },
  {
   "cell_type": "code",
   "execution_count": 21,
   "id": "52b43624",
   "metadata": {},
   "outputs": [
    {
     "data": {
      "text/html": [
       "<table>\n",
       "<thead><tr><th scope=col>laptop_ID</th><th scope=col>Company</th><th scope=col>Product</th><th scope=col>TypeName</th><th scope=col>Inches</th><th scope=col>ScreenResolution</th><th scope=col>Cpu</th><th scope=col>Ram</th><th scope=col>OpSys</th><th scope=col>Weight</th><th scope=col>Price_euros</th><th scope=col>HDD</th><th scope=col>SSD</th><th scope=col>Gpu_brand</th><th scope=col>os</th></tr></thead>\n",
       "<tbody>\n",
       "\t<tr><td>1                                 </td><td>Apple                             </td><td>MacBook Pro                       </td><td>Ultrabook                         </td><td>13.3                              </td><td>IPS Panel Retina Display 2560x1600</td><td>Intel Core i5 2.3GHz              </td><td> 8                                </td><td>macOS                             </td><td>1.37                              </td><td>1339.69                           </td><td>0                                 </td><td>128                               </td><td>Intel                             </td><td>Mac                               </td></tr>\n",
       "\t<tr><td>2                                 </td><td>Apple                             </td><td>Macbook Air                       </td><td>Ultrabook                         </td><td>13.3                              </td><td>1440x900                          </td><td>Intel Core i5 1.8GHz              </td><td> 8                                </td><td>macOS                             </td><td>1.34                              </td><td> 898.94                           </td><td>0                                 </td><td>  0                               </td><td>Intel                             </td><td>Mac                               </td></tr>\n",
       "\t<tr><td>3                                 </td><td>HP                                </td><td>250 G6                            </td><td>Notebook                          </td><td>15.6                              </td><td>Full HD 1920x1080                 </td><td>Intel Core i5 7200U 2.5GHz        </td><td> 8                                </td><td>No OS                             </td><td>1.86                              </td><td> 575.00                           </td><td>0                                 </td><td>256                               </td><td>Intel                             </td><td>Others/No OS/Linux                </td></tr>\n",
       "\t<tr><td>4                                 </td><td>Apple                             </td><td>MacBook Pro                       </td><td>Ultrabook                         </td><td>15.4                              </td><td>IPS Panel Retina Display 2880x1800</td><td>Intel Core i7 2.7GHz              </td><td>16                                </td><td>macOS                             </td><td>1.83                              </td><td>2537.45                           </td><td>0                                 </td><td>512                               </td><td>AMD                               </td><td>Mac                               </td></tr>\n",
       "\t<tr><td>5                                 </td><td>Apple                             </td><td>MacBook Pro                       </td><td>Ultrabook                         </td><td>13.3                              </td><td>IPS Panel Retina Display 2560x1600</td><td>Intel Core i5 3.1GHz              </td><td> 8                                </td><td>macOS                             </td><td>1.37                              </td><td>1803.60                           </td><td>0                                 </td><td>256                               </td><td>Intel                             </td><td>Mac                               </td></tr>\n",
       "\t<tr><td>6                                 </td><td>Acer                              </td><td>Aspire 3                          </td><td>Notebook                          </td><td>15.6                              </td><td>1366x768                          </td><td>AMD A9-Series 9420 3GHz           </td><td> 4                                </td><td>Windows 10                        </td><td>2.10                              </td><td> 400.00                           </td><td>0                                 </td><td>  0                               </td><td>AMD                               </td><td>Windows                           </td></tr>\n",
       "</tbody>\n",
       "</table>\n"
      ],
      "text/latex": [
       "\\begin{tabular}{r|lllllllllllllll}\n",
       " laptop\\_ID & Company & Product & TypeName & Inches & ScreenResolution & Cpu & Ram & OpSys & Weight & Price\\_euros & HDD & SSD & Gpu\\_brand & os\\\\\n",
       "\\hline\n",
       "\t 1                                  & Apple                              & MacBook Pro                        & Ultrabook                          & 13.3                               & IPS Panel Retina Display 2560x1600 & Intel Core i5 2.3GHz               &  8                                 & macOS                              & 1.37                               & 1339.69                            & 0                                  & 128                                & Intel                              & Mac                               \\\\\n",
       "\t 2                                  & Apple                              & Macbook Air                        & Ultrabook                          & 13.3                               & 1440x900                           & Intel Core i5 1.8GHz               &  8                                 & macOS                              & 1.34                               &  898.94                            & 0                                  &   0                                & Intel                              & Mac                               \\\\\n",
       "\t 3                                  & HP                                 & 250 G6                             & Notebook                           & 15.6                               & Full HD 1920x1080                  & Intel Core i5 7200U 2.5GHz         &  8                                 & No OS                              & 1.86                               &  575.00                            & 0                                  & 256                                & Intel                              & Others/No OS/Linux                \\\\\n",
       "\t 4                                  & Apple                              & MacBook Pro                        & Ultrabook                          & 15.4                               & IPS Panel Retina Display 2880x1800 & Intel Core i7 2.7GHz               & 16                                 & macOS                              & 1.83                               & 2537.45                            & 0                                  & 512                                & AMD                                & Mac                               \\\\\n",
       "\t 5                                  & Apple                              & MacBook Pro                        & Ultrabook                          & 13.3                               & IPS Panel Retina Display 2560x1600 & Intel Core i5 3.1GHz               &  8                                 & macOS                              & 1.37                               & 1803.60                            & 0                                  & 256                                & Intel                              & Mac                               \\\\\n",
       "\t 6                                  & Acer                               & Aspire 3                           & Notebook                           & 15.6                               & 1366x768                           & AMD A9-Series 9420 3GHz            &  4                                 & Windows 10                         & 2.10                               &  400.00                            & 0                                  &   0                                & AMD                                & Windows                           \\\\\n",
       "\\end{tabular}\n"
      ],
      "text/markdown": [
       "\n",
       "| laptop_ID | Company | Product | TypeName | Inches | ScreenResolution | Cpu | Ram | OpSys | Weight | Price_euros | HDD | SSD | Gpu_brand | os |\n",
       "|---|---|---|---|---|---|---|---|---|---|---|---|---|---|---|\n",
       "| 1                                  | Apple                              | MacBook Pro                        | Ultrabook                          | 13.3                               | IPS Panel Retina Display 2560x1600 | Intel Core i5 2.3GHz               |  8                                 | macOS                              | 1.37                               | 1339.69                            | 0                                  | 128                                | Intel                              | Mac                                |\n",
       "| 2                                  | Apple                              | Macbook Air                        | Ultrabook                          | 13.3                               | 1440x900                           | Intel Core i5 1.8GHz               |  8                                 | macOS                              | 1.34                               |  898.94                            | 0                                  |   0                                | Intel                              | Mac                                |\n",
       "| 3                                  | HP                                 | 250 G6                             | Notebook                           | 15.6                               | Full HD 1920x1080                  | Intel Core i5 7200U 2.5GHz         |  8                                 | No OS                              | 1.86                               |  575.00                            | 0                                  | 256                                | Intel                              | Others/No OS/Linux                 |\n",
       "| 4                                  | Apple                              | MacBook Pro                        | Ultrabook                          | 15.4                               | IPS Panel Retina Display 2880x1800 | Intel Core i7 2.7GHz               | 16                                 | macOS                              | 1.83                               | 2537.45                            | 0                                  | 512                                | AMD                                | Mac                                |\n",
       "| 5                                  | Apple                              | MacBook Pro                        | Ultrabook                          | 13.3                               | IPS Panel Retina Display 2560x1600 | Intel Core i5 3.1GHz               |  8                                 | macOS                              | 1.37                               | 1803.60                            | 0                                  | 256                                | Intel                              | Mac                                |\n",
       "| 6                                  | Acer                               | Aspire 3                           | Notebook                           | 15.6                               | 1366x768                           | AMD A9-Series 9420 3GHz            |  4                                 | Windows 10                         | 2.10                               |  400.00                            | 0                                  |   0                                | AMD                                | Windows                            |\n",
       "\n"
      ],
      "text/plain": [
       "  laptop_ID Company Product     TypeName  Inches\n",
       "1 1         Apple   MacBook Pro Ultrabook 13.3  \n",
       "2 2         Apple   Macbook Air Ultrabook 13.3  \n",
       "3 3         HP      250 G6      Notebook  15.6  \n",
       "4 4         Apple   MacBook Pro Ultrabook 15.4  \n",
       "5 5         Apple   MacBook Pro Ultrabook 13.3  \n",
       "6 6         Acer    Aspire 3    Notebook  15.6  \n",
       "  ScreenResolution                   Cpu                        Ram OpSys     \n",
       "1 IPS Panel Retina Display 2560x1600 Intel Core i5 2.3GHz        8  macOS     \n",
       "2 1440x900                           Intel Core i5 1.8GHz        8  macOS     \n",
       "3 Full HD 1920x1080                  Intel Core i5 7200U 2.5GHz  8  No OS     \n",
       "4 IPS Panel Retina Display 2880x1800 Intel Core i7 2.7GHz       16  macOS     \n",
       "5 IPS Panel Retina Display 2560x1600 Intel Core i5 3.1GHz        8  macOS     \n",
       "6 1366x768                           AMD A9-Series 9420 3GHz     4  Windows 10\n",
       "  Weight Price_euros HDD SSD Gpu_brand os                \n",
       "1 1.37   1339.69     0   128 Intel     Mac               \n",
       "2 1.34    898.94     0     0 Intel     Mac               \n",
       "3 1.86    575.00     0   256 Intel     Others/No OS/Linux\n",
       "4 1.83   2537.45     0   512 AMD       Mac               \n",
       "5 1.37   1803.60     0   256 Intel     Mac               \n",
       "6 2.10    400.00     0     0 AMD       Windows           "
      ]
     },
     "metadata": {},
     "output_type": "display_data"
    }
   ],
   "source": [
    "data$os <- ifelse(grepl(\"Windows\", data$OpSys), \"Windows\",\n",
    "                          ifelse(grepl(\"Mac\", data$OpSys)|grepl(\"mac\", data$OpSys),\"Mac\",\n",
    "                                'Others/No OS/Linux'))\n",
    "head(data)"
   ]
  },
  {
   "cell_type": "code",
   "execution_count": 22,
   "id": "c08faaef",
   "metadata": {},
   "outputs": [
    {
     "data": {
      "text/html": [
       "<table>\n",
       "<thead><tr><th scope=col>laptop_ID</th><th scope=col>Company</th><th scope=col>Product</th><th scope=col>TypeName</th><th scope=col>Inches</th><th scope=col>ScreenResolution</th><th scope=col>Cpu</th><th scope=col>Ram</th><th scope=col>Weight</th><th scope=col>Price_euros</th><th scope=col>HDD</th><th scope=col>SSD</th><th scope=col>Gpu_brand</th><th scope=col>os</th></tr></thead>\n",
       "<tbody>\n",
       "\t<tr><td>1                                 </td><td>Apple                             </td><td>MacBook Pro                       </td><td>Ultrabook                         </td><td>13.3                              </td><td>IPS Panel Retina Display 2560x1600</td><td>Intel Core i5 2.3GHz              </td><td> 8                                </td><td>1.37                              </td><td>1339.69                           </td><td>0                                 </td><td>128                               </td><td>Intel                             </td><td>Mac                               </td></tr>\n",
       "\t<tr><td>2                                 </td><td>Apple                             </td><td>Macbook Air                       </td><td>Ultrabook                         </td><td>13.3                              </td><td>1440x900                          </td><td>Intel Core i5 1.8GHz              </td><td> 8                                </td><td>1.34                              </td><td> 898.94                           </td><td>0                                 </td><td>  0                               </td><td>Intel                             </td><td>Mac                               </td></tr>\n",
       "\t<tr><td>3                                 </td><td>HP                                </td><td>250 G6                            </td><td>Notebook                          </td><td>15.6                              </td><td>Full HD 1920x1080                 </td><td>Intel Core i5 7200U 2.5GHz        </td><td> 8                                </td><td>1.86                              </td><td> 575.00                           </td><td>0                                 </td><td>256                               </td><td>Intel                             </td><td>Others/No OS/Linux                </td></tr>\n",
       "\t<tr><td>4                                 </td><td>Apple                             </td><td>MacBook Pro                       </td><td>Ultrabook                         </td><td>15.4                              </td><td>IPS Panel Retina Display 2880x1800</td><td>Intel Core i7 2.7GHz              </td><td>16                                </td><td>1.83                              </td><td>2537.45                           </td><td>0                                 </td><td>512                               </td><td>AMD                               </td><td>Mac                               </td></tr>\n",
       "\t<tr><td>5                                 </td><td>Apple                             </td><td>MacBook Pro                       </td><td>Ultrabook                         </td><td>13.3                              </td><td>IPS Panel Retina Display 2560x1600</td><td>Intel Core i5 3.1GHz              </td><td> 8                                </td><td>1.37                              </td><td>1803.60                           </td><td>0                                 </td><td>256                               </td><td>Intel                             </td><td>Mac                               </td></tr>\n",
       "\t<tr><td>6                                 </td><td>Acer                              </td><td>Aspire 3                          </td><td>Notebook                          </td><td>15.6                              </td><td>1366x768                          </td><td>AMD A9-Series 9420 3GHz           </td><td> 4                                </td><td>2.10                              </td><td> 400.00                           </td><td>0                                 </td><td>  0                               </td><td>AMD                               </td><td>Windows                           </td></tr>\n",
       "</tbody>\n",
       "</table>\n"
      ],
      "text/latex": [
       "\\begin{tabular}{r|llllllllllllll}\n",
       " laptop\\_ID & Company & Product & TypeName & Inches & ScreenResolution & Cpu & Ram & Weight & Price\\_euros & HDD & SSD & Gpu\\_brand & os\\\\\n",
       "\\hline\n",
       "\t 1                                  & Apple                              & MacBook Pro                        & Ultrabook                          & 13.3                               & IPS Panel Retina Display 2560x1600 & Intel Core i5 2.3GHz               &  8                                 & 1.37                               & 1339.69                            & 0                                  & 128                                & Intel                              & Mac                               \\\\\n",
       "\t 2                                  & Apple                              & Macbook Air                        & Ultrabook                          & 13.3                               & 1440x900                           & Intel Core i5 1.8GHz               &  8                                 & 1.34                               &  898.94                            & 0                                  &   0                                & Intel                              & Mac                               \\\\\n",
       "\t 3                                  & HP                                 & 250 G6                             & Notebook                           & 15.6                               & Full HD 1920x1080                  & Intel Core i5 7200U 2.5GHz         &  8                                 & 1.86                               &  575.00                            & 0                                  & 256                                & Intel                              & Others/No OS/Linux                \\\\\n",
       "\t 4                                  & Apple                              & MacBook Pro                        & Ultrabook                          & 15.4                               & IPS Panel Retina Display 2880x1800 & Intel Core i7 2.7GHz               & 16                                 & 1.83                               & 2537.45                            & 0                                  & 512                                & AMD                                & Mac                               \\\\\n",
       "\t 5                                  & Apple                              & MacBook Pro                        & Ultrabook                          & 13.3                               & IPS Panel Retina Display 2560x1600 & Intel Core i5 3.1GHz               &  8                                 & 1.37                               & 1803.60                            & 0                                  & 256                                & Intel                              & Mac                               \\\\\n",
       "\t 6                                  & Acer                               & Aspire 3                           & Notebook                           & 15.6                               & 1366x768                           & AMD A9-Series 9420 3GHz            &  4                                 & 2.10                               &  400.00                            & 0                                  &   0                                & AMD                                & Windows                           \\\\\n",
       "\\end{tabular}\n"
      ],
      "text/markdown": [
       "\n",
       "| laptop_ID | Company | Product | TypeName | Inches | ScreenResolution | Cpu | Ram | Weight | Price_euros | HDD | SSD | Gpu_brand | os |\n",
       "|---|---|---|---|---|---|---|---|---|---|---|---|---|---|\n",
       "| 1                                  | Apple                              | MacBook Pro                        | Ultrabook                          | 13.3                               | IPS Panel Retina Display 2560x1600 | Intel Core i5 2.3GHz               |  8                                 | 1.37                               | 1339.69                            | 0                                  | 128                                | Intel                              | Mac                                |\n",
       "| 2                                  | Apple                              | Macbook Air                        | Ultrabook                          | 13.3                               | 1440x900                           | Intel Core i5 1.8GHz               |  8                                 | 1.34                               |  898.94                            | 0                                  |   0                                | Intel                              | Mac                                |\n",
       "| 3                                  | HP                                 | 250 G6                             | Notebook                           | 15.6                               | Full HD 1920x1080                  | Intel Core i5 7200U 2.5GHz         |  8                                 | 1.86                               |  575.00                            | 0                                  | 256                                | Intel                              | Others/No OS/Linux                 |\n",
       "| 4                                  | Apple                              | MacBook Pro                        | Ultrabook                          | 15.4                               | IPS Panel Retina Display 2880x1800 | Intel Core i7 2.7GHz               | 16                                 | 1.83                               | 2537.45                            | 0                                  | 512                                | AMD                                | Mac                                |\n",
       "| 5                                  | Apple                              | MacBook Pro                        | Ultrabook                          | 13.3                               | IPS Panel Retina Display 2560x1600 | Intel Core i5 3.1GHz               |  8                                 | 1.37                               | 1803.60                            | 0                                  | 256                                | Intel                              | Mac                                |\n",
       "| 6                                  | Acer                               | Aspire 3                           | Notebook                           | 15.6                               | 1366x768                           | AMD A9-Series 9420 3GHz            |  4                                 | 2.10                               |  400.00                            | 0                                  |   0                                | AMD                                | Windows                            |\n",
       "\n"
      ],
      "text/plain": [
       "  laptop_ID Company Product     TypeName  Inches\n",
       "1 1         Apple   MacBook Pro Ultrabook 13.3  \n",
       "2 2         Apple   Macbook Air Ultrabook 13.3  \n",
       "3 3         HP      250 G6      Notebook  15.6  \n",
       "4 4         Apple   MacBook Pro Ultrabook 15.4  \n",
       "5 5         Apple   MacBook Pro Ultrabook 13.3  \n",
       "6 6         Acer    Aspire 3    Notebook  15.6  \n",
       "  ScreenResolution                   Cpu                        Ram Weight\n",
       "1 IPS Panel Retina Display 2560x1600 Intel Core i5 2.3GHz        8  1.37  \n",
       "2 1440x900                           Intel Core i5 1.8GHz        8  1.34  \n",
       "3 Full HD 1920x1080                  Intel Core i5 7200U 2.5GHz  8  1.86  \n",
       "4 IPS Panel Retina Display 2880x1800 Intel Core i7 2.7GHz       16  1.83  \n",
       "5 IPS Panel Retina Display 2560x1600 Intel Core i5 3.1GHz        8  1.37  \n",
       "6 1366x768                           AMD A9-Series 9420 3GHz     4  2.10  \n",
       "  Price_euros HDD SSD Gpu_brand os                \n",
       "1 1339.69     0   128 Intel     Mac               \n",
       "2  898.94     0     0 Intel     Mac               \n",
       "3  575.00     0   256 Intel     Others/No OS/Linux\n",
       "4 2537.45     0   512 AMD       Mac               \n",
       "5 1803.60     0   256 Intel     Mac               \n",
       "6  400.00     0     0 AMD       Windows           "
      ]
     },
     "metadata": {},
     "output_type": "display_data"
    }
   ],
   "source": [
    "data <- data[,-c(9)]\n",
    "head(data)"
   ]
  },
  {
   "cell_type": "code",
   "execution_count": 23,
   "id": "f0e1ce76",
   "metadata": {},
   "outputs": [
    {
     "data": {
      "image/png": "[encoded data removed]",
      "text/plain": [
       "plot without title"
      ]
     },
     "metadata": {
      "image/png": {
       "height": 420,
       "width": 420
      }
     },
     "output_type": "display_data"
    }
   ],
   "source": [
    "ggplot(data) +\n",
    "  geom_bar(aes(y = os), fill = \"orange\") +\n",
    "  xlab(\"Count\") + ylab(\"os\")"
   ]
  },
  {
   "cell_type": "code",
   "execution_count": 24,
   "id": "1511e057",
   "metadata": {},
   "outputs": [
    {
     "data": {
      "text/html": [
       "<table>\n",
       "<thead><tr><th scope=col>laptop_ID</th><th scope=col>Company</th><th scope=col>Product</th><th scope=col>TypeName</th><th scope=col>Inches</th><th scope=col>ScreenResolution</th><th scope=col>Cpu</th><th scope=col>Ram</th><th scope=col>Weight</th><th scope=col>Price_euros</th><th scope=col>HDD</th><th scope=col>SSD</th><th scope=col>Gpu_brand</th><th scope=col>os</th><th scope=col>Touchscreen</th></tr></thead>\n",
       "<tbody>\n",
       "\t<tr><td>1                                 </td><td>Apple                             </td><td>MacBook Pro                       </td><td>Ultrabook                         </td><td>13.3                              </td><td>IPS Panel Retina Display 2560x1600</td><td>Intel Core i5 2.3GHz              </td><td> 8                                </td><td>1.37                              </td><td>1339.69                           </td><td>0                                 </td><td>128                               </td><td>Intel                             </td><td>Mac                               </td><td>0                                 </td></tr>\n",
       "\t<tr><td>2                                 </td><td>Apple                             </td><td>Macbook Air                       </td><td>Ultrabook                         </td><td>13.3                              </td><td>1440x900                          </td><td>Intel Core i5 1.8GHz              </td><td> 8                                </td><td>1.34                              </td><td> 898.94                           </td><td>0                                 </td><td>  0                               </td><td>Intel                             </td><td>Mac                               </td><td>0                                 </td></tr>\n",
       "\t<tr><td>3                                 </td><td>HP                                </td><td>250 G6                            </td><td>Notebook                          </td><td>15.6                              </td><td>Full HD 1920x1080                 </td><td>Intel Core i5 7200U 2.5GHz        </td><td> 8                                </td><td>1.86                              </td><td> 575.00                           </td><td>0                                 </td><td>256                               </td><td>Intel                             </td><td>Others/No OS/Linux                </td><td>0                                 </td></tr>\n",
       "\t<tr><td>4                                 </td><td>Apple                             </td><td>MacBook Pro                       </td><td>Ultrabook                         </td><td>15.4                              </td><td>IPS Panel Retina Display 2880x1800</td><td>Intel Core i7 2.7GHz              </td><td>16                                </td><td>1.83                              </td><td>2537.45                           </td><td>0                                 </td><td>512                               </td><td>AMD                               </td><td>Mac                               </td><td>0                                 </td></tr>\n",
       "\t<tr><td>5                                 </td><td>Apple                             </td><td>MacBook Pro                       </td><td>Ultrabook                         </td><td>13.3                              </td><td>IPS Panel Retina Display 2560x1600</td><td>Intel Core i5 3.1GHz              </td><td> 8                                </td><td>1.37                              </td><td>1803.60                           </td><td>0                                 </td><td>256                               </td><td>Intel                             </td><td>Mac                               </td><td>0                                 </td></tr>\n",
       "\t<tr><td>6                                 </td><td>Acer                              </td><td>Aspire 3                          </td><td>Notebook                          </td><td>15.6                              </td><td>1366x768                          </td><td>AMD A9-Series 9420 3GHz           </td><td> 4                                </td><td>2.10                              </td><td> 400.00                           </td><td>0                                 </td><td>  0                               </td><td>AMD                               </td><td>Windows                           </td><td>0                                 </td></tr>\n",
       "</tbody>\n",
       "</table>\n"
      ],
      "text/latex": [
       "\\begin{tabular}{r|lllllllllllllll}\n",
       " laptop\\_ID & Company & Product & TypeName & Inches & ScreenResolution & Cpu & Ram & Weight & Price\\_euros & HDD & SSD & Gpu\\_brand & os & Touchscreen\\\\\n",
       "\\hline\n",
       "\t 1                                  & Apple                              & MacBook Pro                        & Ultrabook                          & 13.3                               & IPS Panel Retina Display 2560x1600 & Intel Core i5 2.3GHz               &  8                                 & 1.37                               & 1339.69                            & 0                                  & 128                                & Intel                              & Mac                                & 0                                 \\\\\n",
       "\t 2                                  & Apple                              & Macbook Air                        & Ultrabook                          & 13.3                               & 1440x900                           & Intel Core i5 1.8GHz               &  8                                 & 1.34                               &  898.94                            & 0                                  &   0                                & Intel                              & Mac                                & 0                                 \\\\\n",
       "\t 3                                  & HP                                 & 250 G6                             & Notebook                           & 15.6                               & Full HD 1920x1080                  & Intel Core i5 7200U 2.5GHz         &  8                                 & 1.86                               &  575.00                            & 0                                  & 256                                & Intel                              & Others/No OS/Linux                 & 0                                 \\\\\n",
       "\t 4                                  & Apple                              & MacBook Pro                        & Ultrabook                          & 15.4                               & IPS Panel Retina Display 2880x1800 & Intel Core i7 2.7GHz               & 16                                 & 1.83                               & 2537.45                            & 0                                  & 512                                & AMD                                & Mac                                & 0                                 \\\\\n",
       "\t 5                                  & Apple                              & MacBook Pro                        & Ultrabook                          & 13.3                               & IPS Panel Retina Display 2560x1600 & Intel Core i5 3.1GHz               &  8                                 & 1.37                               & 1803.60                            & 0                                  & 256                                & Intel                              & Mac                                & 0                                 \\\\\n",
       "\t 6                                  & Acer                               & Aspire 3                           & Notebook                           & 15.6                               & 1366x768                           & AMD A9-Series 9420 3GHz            &  4                                 & 2.10                               &  400.00                            & 0                                  &   0                                & AMD                                & Windows                            & 0                                 \\\\\n",
       "\\end{tabular}\n"
      ],
      "text/markdown": [
       "\n",
       "| laptop_ID | Company | Product | TypeName | Inches | ScreenResolution | Cpu | Ram | Weight | Price_euros | HDD | SSD | Gpu_brand | os | Touchscreen |\n",
       "|---|---|---|---|---|---|---|---|---|---|---|---|---|---|---|\n",
       "| 1                                  | Apple                              | MacBook Pro                        | Ultrabook                          | 13.3                               | IPS Panel Retina Display 2560x1600 | Intel Core i5 2.3GHz               |  8                                 | 1.37                               | 1339.69                            | 0                                  | 128                                | Intel                              | Mac                                | 0                                  |\n",
       "| 2                                  | Apple                              | Macbook Air                        | Ultrabook                          | 13.3                               | 1440x900                           | Intel Core i5 1.8GHz               |  8                                 | 1.34                               |  898.94                            | 0                                  |   0                                | Intel                              | Mac                                | 0                                  |\n",
       "| 3                                  | HP                                 | 250 G6                             | Notebook                           | 15.6                               | Full HD 1920x1080                  | Intel Core i5 7200U 2.5GHz         |  8                                 | 1.86                               |  575.00                            | 0                                  | 256                                | Intel                              | Others/No OS/Linux                 | 0                                  |\n",
       "| 4                                  | Apple                              | MacBook Pro                        | Ultrabook                          | 15.4                               | IPS Panel Retina Display 2880x1800 | Intel Core i7 2.7GHz               | 16                                 | 1.83                               | 2537.45                            | 0                                  | 512                                | AMD                                | Mac                                | 0                                  |\n",
       "| 5                                  | Apple                              | MacBook Pro                        | Ultrabook                          | 13.3                               | IPS Panel Retina Display 2560x1600 | Intel Core i5 3.1GHz               |  8                                 | 1.37                               | 1803.60                            | 0                                  | 256                                | Intel                              | Mac                                | 0                                  |\n",
       "| 6                                  | Acer                               | Aspire 3                           | Notebook                           | 15.6                               | 1366x768                           | AMD A9-Series 9420 3GHz            |  4                                 | 2.10                               |  400.00                            | 0                                  |   0                                | AMD                                | Windows                            | 0                                  |\n",
       "\n"
      ],
      "text/plain": [
       "  laptop_ID Company Product     TypeName  Inches\n",
       "1 1         Apple   MacBook Pro Ultrabook 13.3  \n",
       "2 2         Apple   Macbook Air Ultrabook 13.3  \n",
       "3 3         HP      250 G6      Notebook  15.6  \n",
       "4 4         Apple   MacBook Pro Ultrabook 15.4  \n",
       "5 5         Apple   MacBook Pro Ultrabook 13.3  \n",
       "6 6         Acer    Aspire 3    Notebook  15.6  \n",
       "  ScreenResolution                   Cpu                        Ram Weight\n",
       "1 IPS Panel Retina Display 2560x1600 Intel Core i5 2.3GHz        8  1.37  \n",
       "2 1440x900                           Intel Core i5 1.8GHz        8  1.34  \n",
       "3 Full HD 1920x1080                  Intel Core i5 7200U 2.5GHz  8  1.86  \n",
       "4 IPS Panel Retina Display 2880x1800 Intel Core i7 2.7GHz       16  1.83  \n",
       "5 IPS Panel Retina Display 2560x1600 Intel Core i5 3.1GHz        8  1.37  \n",
       "6 1366x768                           AMD A9-Series 9420 3GHz     4  2.10  \n",
       "  Price_euros HDD SSD Gpu_brand os                 Touchscreen\n",
       "1 1339.69     0   128 Intel     Mac                0          \n",
       "2  898.94     0     0 Intel     Mac                0          \n",
       "3  575.00     0   256 Intel     Others/No OS/Linux 0          \n",
       "4 2537.45     0   512 AMD       Mac                0          \n",
       "5 1803.60     0   256 Intel     Mac                0          \n",
       "6  400.00     0     0 AMD       Windows            0          "
      ]
     },
     "metadata": {},
     "output_type": "display_data"
    }
   ],
   "source": [
    "data$Touchscreen <- ifelse(grepl(\"Touchscreen\", data$ScreenResolution), 1, 0)\n",
    "head(data)"
   ]
  },
  {
   "cell_type": "code",
   "execution_count": 25,
   "id": "ac1611ea",
   "metadata": {},
   "outputs": [
    {
     "data": {
      "image/png": "[encoded data removed]",
      "text/plain": [
       "plot without title"
      ]
     },
     "metadata": {
      "image/png": {
       "height": 420,
       "width": 420
      }
     },
     "output_type": "display_data"
    }
   ],
   "source": [
    "ggplot(data) +\n",
    "  geom_bar(aes(y = Touchscreen), fill = \"green\") +\n",
    "  xlab(\"Count\") + ylab(\"Touchscreen\")"
   ]
  },
  {
   "cell_type": "code",
   "execution_count": 26,
   "id": "e2dbca9d",
   "metadata": {},
   "outputs": [
    {
     "data": {
      "text/html": [
       "<table>\n",
       "<thead><tr><th scope=col>laptop_ID</th><th scope=col>Company</th><th scope=col>Product</th><th scope=col>TypeName</th><th scope=col>Inches</th><th scope=col>ScreenResolution</th><th scope=col>Cpu</th><th scope=col>Ram</th><th scope=col>Weight</th><th scope=col>Price_euros</th><th scope=col>HDD</th><th scope=col>SSD</th><th scope=col>Gpu_brand</th><th scope=col>os</th><th scope=col>Touchscreen</th><th scope=col>Ips</th></tr></thead>\n",
       "<tbody>\n",
       "\t<tr><td>1                                 </td><td>Apple                             </td><td>MacBook Pro                       </td><td>Ultrabook                         </td><td>13.3                              </td><td>IPS Panel Retina Display 2560x1600</td><td>Intel Core i5 2.3GHz              </td><td> 8                                </td><td>1.37                              </td><td>1339.69                           </td><td>0                                 </td><td>128                               </td><td>Intel                             </td><td>Mac                               </td><td>0                                 </td><td>1                                 </td></tr>\n",
       "\t<tr><td>2                                 </td><td>Apple                             </td><td>Macbook Air                       </td><td>Ultrabook                         </td><td>13.3                              </td><td>1440x900                          </td><td>Intel Core i5 1.8GHz              </td><td> 8                                </td><td>1.34                              </td><td> 898.94                           </td><td>0                                 </td><td>  0                               </td><td>Intel                             </td><td>Mac                               </td><td>0                                 </td><td>0                                 </td></tr>\n",
       "\t<tr><td>3                                 </td><td>HP                                </td><td>250 G6                            </td><td>Notebook                          </td><td>15.6                              </td><td>Full HD 1920x1080                 </td><td>Intel Core i5 7200U 2.5GHz        </td><td> 8                                </td><td>1.86                              </td><td> 575.00                           </td><td>0                                 </td><td>256                               </td><td>Intel                             </td><td>Others/No OS/Linux                </td><td>0                                 </td><td>0                                 </td></tr>\n",
       "\t<tr><td>4                                 </td><td>Apple                             </td><td>MacBook Pro                       </td><td>Ultrabook                         </td><td>15.4                              </td><td>IPS Panel Retina Display 2880x1800</td><td>Intel Core i7 2.7GHz              </td><td>16                                </td><td>1.83                              </td><td>2537.45                           </td><td>0                                 </td><td>512                               </td><td>AMD                               </td><td>Mac                               </td><td>0                                 </td><td>1                                 </td></tr>\n",
       "\t<tr><td>5                                 </td><td>Apple                             </td><td>MacBook Pro                       </td><td>Ultrabook                         </td><td>13.3                              </td><td>IPS Panel Retina Display 2560x1600</td><td>Intel Core i5 3.1GHz              </td><td> 8                                </td><td>1.37                              </td><td>1803.60                           </td><td>0                                 </td><td>256                               </td><td>Intel                             </td><td>Mac                               </td><td>0                                 </td><td>1                                 </td></tr>\n",
       "\t<tr><td>6                                 </td><td>Acer                              </td><td>Aspire 3                          </td><td>Notebook                          </td><td>15.6                              </td><td>1366x768                          </td><td>AMD A9-Series 9420 3GHz           </td><td> 4                                </td><td>2.10                              </td><td> 400.00                           </td><td>0                                 </td><td>  0                               </td><td>AMD                               </td><td>Windows                           </td><td>0                                 </td><td>0                                 </td></tr>\n",
       "</tbody>\n",
       "</table>\n"
      ],
      "text/latex": [
       "\\begin{tabular}{r|llllllllllllllll}\n",
       " laptop\\_ID & Company & Product & TypeName & Inches & ScreenResolution & Cpu & Ram & Weight & Price\\_euros & HDD & SSD & Gpu\\_brand & os & Touchscreen & Ips\\\\\n",
       "\\hline\n",
       "\t 1                                  & Apple                              & MacBook Pro                        & Ultrabook                          & 13.3                               & IPS Panel Retina Display 2560x1600 & Intel Core i5 2.3GHz               &  8                                 & 1.37                               & 1339.69                            & 0                                  & 128                                & Intel                              & Mac                                & 0                                  & 1                                 \\\\\n",
       "\t 2                                  & Apple                              & Macbook Air                        & Ultrabook                          & 13.3                               & 1440x900                           & Intel Core i5 1.8GHz               &  8                                 & 1.34                               &  898.94                            & 0                                  &   0                                & Intel                              & Mac                                & 0                                  & 0                                 \\\\\n",
       "\t 3                                  & HP                                 & 250 G6                             & Notebook                           & 15.6                               & Full HD 1920x1080                  & Intel Core i5 7200U 2.5GHz         &  8                                 & 1.86                               &  575.00                            & 0                                  & 256                                & Intel                              & Others/No OS/Linux                 & 0                                  & 0                                 \\\\\n",
       "\t 4                                  & Apple                              & MacBook Pro                        & Ultrabook                          & 15.4                               & IPS Panel Retina Display 2880x1800 & Intel Core i7 2.7GHz               & 16                                 & 1.83                               & 2537.45                            & 0                                  & 512                                & AMD                                & Mac                                & 0                                  & 1                                 \\\\\n",
       "\t 5                                  & Apple                              & MacBook Pro                        & Ultrabook                          & 13.3                               & IPS Panel Retina Display 2560x1600 & Intel Core i5 3.1GHz               &  8                                 & 1.37                               & 1803.60                            & 0                                  & 256                                & Intel                              & Mac                                & 0                                  & 1                                 \\\\\n",
       "\t 6                                  & Acer                               & Aspire 3                           & Notebook                           & 15.6                               & 1366x768                           & AMD A9-Series 9420 3GHz            &  4                                 & 2.10                               &  400.00                            & 0                                  &   0                                & AMD                                & Windows                            & 0                                  & 0                                 \\\\\n",
       "\\end{tabular}\n"
      ],
      "text/markdown": [
       "\n",
       "| laptop_ID | Company | Product | TypeName | Inches | ScreenResolution | Cpu | Ram | Weight | Price_euros | HDD | SSD | Gpu_brand | os | Touchscreen | Ips |\n",
       "|---|---|---|---|---|---|---|---|---|---|---|---|---|---|---|---|\n",
       "| 1                                  | Apple                              | MacBook Pro                        | Ultrabook                          | 13.3                               | IPS Panel Retina Display 2560x1600 | Intel Core i5 2.3GHz               |  8                                 | 1.37                               | 1339.69                            | 0                                  | 128                                | Intel                              | Mac                                | 0                                  | 1                                  |\n",
       "| 2                                  | Apple                              | Macbook Air                        | Ultrabook                          | 13.3                               | 1440x900                           | Intel Core i5 1.8GHz               |  8                                 | 1.34                               |  898.94                            | 0                                  |   0                                | Intel                              | Mac                                | 0                                  | 0                                  |\n",
       "| 3                                  | HP                                 | 250 G6                             | Notebook                           | 15.6                               | Full HD 1920x1080                  | Intel Core i5 7200U 2.5GHz         |  8                                 | 1.86                               |  575.00                            | 0                                  | 256                                | Intel                              | Others/No OS/Linux                 | 0                                  | 0                                  |\n",
       "| 4                                  | Apple                              | MacBook Pro                        | Ultrabook                          | 15.4                               | IPS Panel Retina Display 2880x1800 | Intel Core i7 2.7GHz               | 16                                 | 1.83                               | 2537.45                            | 0                                  | 512                                | AMD                                | Mac                                | 0                                  | 1                                  |\n",
       "| 5                                  | Apple                              | MacBook Pro                        | Ultrabook                          | 13.3                               | IPS Panel Retina Display 2560x1600 | Intel Core i5 3.1GHz               |  8                                 | 1.37                               | 1803.60                            | 0                                  | 256                                | Intel                              | Mac                                | 0                                  | 1                                  |\n",
       "| 6                                  | Acer                               | Aspire 3                           | Notebook                           | 15.6                               | 1366x768                           | AMD A9-Series 9420 3GHz            |  4                                 | 2.10                               |  400.00                            | 0                                  |   0                                | AMD                                | Windows                            | 0                                  | 0                                  |\n",
       "\n"
      ],
      "text/plain": [
       "  laptop_ID Company Product     TypeName  Inches\n",
       "1 1         Apple   MacBook Pro Ultrabook 13.3  \n",
       "2 2         Apple   Macbook Air Ultrabook 13.3  \n",
       "3 3         HP      250 G6      Notebook  15.6  \n",
       "4 4         Apple   MacBook Pro Ultrabook 15.4  \n",
       "5 5         Apple   MacBook Pro Ultrabook 13.3  \n",
       "6 6         Acer    Aspire 3    Notebook  15.6  \n",
       "  ScreenResolution                   Cpu                        Ram Weight\n",
       "1 IPS Panel Retina Display 2560x1600 Intel Core i5 2.3GHz        8  1.37  \n",
       "2 1440x900                           Intel Core i5 1.8GHz        8  1.34  \n",
       "3 Full HD 1920x1080                  Intel Core i5 7200U 2.5GHz  8  1.86  \n",
       "4 IPS Panel Retina Display 2880x1800 Intel Core i7 2.7GHz       16  1.83  \n",
       "5 IPS Panel Retina Display 2560x1600 Intel Core i5 3.1GHz        8  1.37  \n",
       "6 1366x768                           AMD A9-Series 9420 3GHz     4  2.10  \n",
       "  Price_euros HDD SSD Gpu_brand os                 Touchscreen Ips\n",
       "1 1339.69     0   128 Intel     Mac                0           1  \n",
       "2  898.94     0     0 Intel     Mac                0           0  \n",
       "3  575.00     0   256 Intel     Others/No OS/Linux 0           0  \n",
       "4 2537.45     0   512 AMD       Mac                0           1  \n",
       "5 1803.60     0   256 Intel     Mac                0           1  \n",
       "6  400.00     0     0 AMD       Windows            0           0  "
      ]
     },
     "metadata": {},
     "output_type": "display_data"
    }
   ],
   "source": [
    "data$Ips <- ifelse(grepl(\"IPS\", data$ScreenResolution), 1, 0)\n",
    "head(data)"
   ]
  },
  {
   "cell_type": "code",
   "execution_count": 27,
   "id": "11a6c1ed",
   "metadata": {},
   "outputs": [
    {
     "data": {
      "image/png": "[encoded data removed]",
      "text/plain": [
       "plot without title"
      ]
     },
     "metadata": {
      "image/png": {
       "height": 420,
       "width": 420
      }
     },
     "output_type": "display_data"
    }
   ],
   "source": [
    "ggplot(data) +\n",
    "  geom_bar(aes(y = Ips), fill = \"blue\") +\n",
    "  xlab(\"Count\") + ylab(\"Ips\")"
   ]
  },
  {
   "cell_type": "code",
   "execution_count": 28,
   "id": "5799d606",
   "metadata": {},
   "outputs": [
    {
     "data": {
      "text/html": [
       "<table>\n",
       "<thead><tr><th scope=col>laptop_ID</th><th scope=col>Company</th><th scope=col>Product</th><th scope=col>TypeName</th><th scope=col>Inches</th><th scope=col>ScreenResolution</th><th scope=col>Cpu</th><th scope=col>Ram</th><th scope=col>Weight</th><th scope=col>Price_euros</th><th scope=col>HDD</th><th scope=col>SSD</th><th scope=col>Gpu_brand</th><th scope=col>os</th><th scope=col>Touchscreen</th><th scope=col>Ips</th><th scope=col>split_SR</th><th scope=col>take_SR</th><th scope=col>X_res</th><th scope=col>Y_res</th></tr></thead>\n",
       "<tbody>\n",
       "\t<tr><td>1                                                    </td><td>Apple                                                </td><td>MacBook Pro                                          </td><td>Ultrabook                                            </td><td>13.3                                                 </td><td>IPS Panel Retina Display 2560x1600                   </td><td>Intel Core i5 2.3GHz                                 </td><td> 8                                                   </td><td>1.37                                                 </td><td>1339.69                                              </td><td>0                                                    </td><td>128                                                  </td><td>Intel                                                </td><td>Mac                                                  </td><td>0                                                    </td><td>1                                                    </td><td>IPS      , Panel    , Retina   , Display  , 2560x1600</td><td>2560x1600                                            </td><td>2560                                                 </td><td>1600                                                 </td></tr>\n",
       "\t<tr><td>2                                 </td><td>Apple                             </td><td>Macbook Air                       </td><td>Ultrabook                         </td><td>13.3                              </td><td>1440x900                          </td><td>Intel Core i5 1.8GHz              </td><td> 8                                </td><td>1.34                              </td><td> 898.94                           </td><td>0                                 </td><td>  0                               </td><td>Intel                             </td><td>Mac                               </td><td>0                                 </td><td>0                                 </td><td>1440x900                          </td><td>1440x900                          </td><td>1440                              </td><td> 900                              </td></tr>\n",
       "\t<tr><td>3                                 </td><td>HP                                </td><td>250 G6                            </td><td>Notebook                          </td><td>15.6                              </td><td>Full HD 1920x1080                 </td><td>Intel Core i5 7200U 2.5GHz        </td><td> 8                                </td><td>1.86                              </td><td> 575.00                           </td><td>0                                 </td><td>256                               </td><td>Intel                             </td><td>Others/No OS/Linux                </td><td>0                                 </td><td>0                                 </td><td>Full     , HD       , 1920x1080   </td><td>1920x1080                         </td><td>1920                              </td><td>1080                              </td></tr>\n",
       "\t<tr><td>4                                                    </td><td>Apple                                                </td><td>MacBook Pro                                          </td><td>Ultrabook                                            </td><td>15.4                                                 </td><td>IPS Panel Retina Display 2880x1800                   </td><td>Intel Core i7 2.7GHz                                 </td><td>16                                                   </td><td>1.83                                                 </td><td>2537.45                                              </td><td>0                                                    </td><td>512                                                  </td><td>AMD                                                  </td><td>Mac                                                  </td><td>0                                                    </td><td>1                                                    </td><td>IPS      , Panel    , Retina   , Display  , 2880x1800</td><td>2880x1800                                            </td><td>2880                                                 </td><td>1800                                                 </td></tr>\n",
       "\t<tr><td>5                                                    </td><td>Apple                                                </td><td>MacBook Pro                                          </td><td>Ultrabook                                            </td><td>13.3                                                 </td><td>IPS Panel Retina Display 2560x1600                   </td><td>Intel Core i5 3.1GHz                                 </td><td> 8                                                   </td><td>1.37                                                 </td><td>1803.60                                              </td><td>0                                                    </td><td>256                                                  </td><td>Intel                                                </td><td>Mac                                                  </td><td>0                                                    </td><td>1                                                    </td><td>IPS      , Panel    , Retina   , Display  , 2560x1600</td><td>2560x1600                                            </td><td>2560                                                 </td><td>1600                                                 </td></tr>\n",
       "\t<tr><td>6                                 </td><td>Acer                              </td><td>Aspire 3                          </td><td>Notebook                          </td><td>15.6                              </td><td>1366x768                          </td><td>AMD A9-Series 9420 3GHz           </td><td> 4                                </td><td>2.10                              </td><td> 400.00                           </td><td>0                                 </td><td>  0                               </td><td>AMD                               </td><td>Windows                           </td><td>0                                 </td><td>0                                 </td><td>1366x768                          </td><td>1366x768                          </td><td>1366                              </td><td> 768                              </td></tr>\n",
       "</tbody>\n",
       "</table>\n"
      ],
      "text/latex": [
       "\\begin{tabular}{r|llllllllllllllllllll}\n",
       " laptop\\_ID & Company & Product & TypeName & Inches & ScreenResolution & Cpu & Ram & Weight & Price\\_euros & HDD & SSD & Gpu\\_brand & os & Touchscreen & Ips & split\\_SR & take\\_SR & X\\_res & Y\\_res\\\\\n",
       "\\hline\n",
       "\t 1                                                     & Apple                                                 & MacBook Pro                                           & Ultrabook                                             & 13.3                                                  & IPS Panel Retina Display 2560x1600                    & Intel Core i5 2.3GHz                                  &  8                                                    & 1.37                                                  & 1339.69                                               & 0                                                     & 128                                                   & Intel                                                 & Mac                                                   & 0                                                     & 1                                                     & IPS      , Panel    , Retina   , Display  , 2560x1600 & 2560x1600                                             & 2560                                                  & 1600                                                 \\\\\n",
       "\t 2                                  & Apple                              & Macbook Air                        & Ultrabook                          & 13.3                               & 1440x900                           & Intel Core i5 1.8GHz               &  8                                 & 1.34                               &  898.94                            & 0                                  &   0                                & Intel                              & Mac                                & 0                                  & 0                                  & 1440x900                           & 1440x900                           & 1440                               &  900                              \\\\\n",
       "\t 3                                  & HP                                 & 250 G6                             & Notebook                           & 15.6                               & Full HD 1920x1080                  & Intel Core i5 7200U 2.5GHz         &  8                                 & 1.86                               &  575.00                            & 0                                  & 256                                & Intel                              & Others/No OS/Linux                 & 0                                  & 0                                  & Full     , HD       , 1920x1080    & 1920x1080                          & 1920                               & 1080                              \\\\\n",
       "\t 4                                                     & Apple                                                 & MacBook Pro                                           & Ultrabook                                             & 15.4                                                  & IPS Panel Retina Display 2880x1800                    & Intel Core i7 2.7GHz                                  & 16                                                    & 1.83                                                  & 2537.45                                               & 0                                                     & 512                                                   & AMD                                                   & Mac                                                   & 0                                                     & 1                                                     & IPS      , Panel    , Retina   , Display  , 2880x1800 & 2880x1800                                             & 2880                                                  & 1800                                                 \\\\\n",
       "\t 5                                                     & Apple                                                 & MacBook Pro                                           & Ultrabook                                             & 13.3                                                  & IPS Panel Retina Display 2560x1600                    & Intel Core i5 3.1GHz                                  &  8                                                    & 1.37                                                  & 1803.60                                               & 0                                                     & 256                                                   & Intel                                                 & Mac                                                   & 0                                                     & 1                                                     & IPS      , Panel    , Retina   , Display  , 2560x1600 & 2560x1600                                             & 2560                                                  & 1600                                                 \\\\\n",
       "\t 6                                  & Acer                               & Aspire 3                           & Notebook                           & 15.6                               & 1366x768                           & AMD A9-Series 9420 3GHz            &  4                                 & 2.10                               &  400.00                            & 0                                  &   0                                & AMD                                & Windows                            & 0                                  & 0                                  & 1366x768                           & 1366x768                           & 1366                               &  768                              \\\\\n",
       "\\end{tabular}\n"
      ],
      "text/markdown": [
       "\n",
       "| laptop_ID | Company | Product | TypeName | Inches | ScreenResolution | Cpu | Ram | Weight | Price_euros | HDD | SSD | Gpu_brand | os | Touchscreen | Ips | split_SR | take_SR | X_res | Y_res |\n",
       "|---|---|---|---|---|---|---|---|---|---|---|---|---|---|---|---|---|---|---|---|\n",
       "| 1                                                     | Apple                                                 | MacBook Pro                                           | Ultrabook                                             | 13.3                                                  | IPS Panel Retina Display 2560x1600                    | Intel Core i5 2.3GHz                                  |  8                                                    | 1.37                                                  | 1339.69                                               | 0                                                     | 128                                                   | Intel                                                 | Mac                                                   | 0                                                     | 1                                                     | IPS      , Panel    , Retina   , Display  , 2560x1600 | 2560x1600                                             | 2560                                                  | 1600                                                  |\n",
       "| 2                                  | Apple                              | Macbook Air                        | Ultrabook                          | 13.3                               | 1440x900                           | Intel Core i5 1.8GHz               |  8                                 | 1.34                               |  898.94                            | 0                                  |   0                                | Intel                              | Mac                                | 0                                  | 0                                  | 1440x900                           | 1440x900                           | 1440                               |  900                               |\n",
       "| 3                                  | HP                                 | 250 G6                             | Notebook                           | 15.6                               | Full HD 1920x1080                  | Intel Core i5 7200U 2.5GHz         |  8                                 | 1.86                               |  575.00                            | 0                                  | 256                                | Intel                              | Others/No OS/Linux                 | 0                                  | 0                                  | Full     , HD       , 1920x1080    | 1920x1080                          | 1920                               | 1080                               |\n",
       "| 4                                                     | Apple                                                 | MacBook Pro                                           | Ultrabook                                             | 15.4                                                  | IPS Panel Retina Display 2880x1800                    | Intel Core i7 2.7GHz                                  | 16                                                    | 1.83                                                  | 2537.45                                               | 0                                                     | 512                                                   | AMD                                                   | Mac                                                   | 0                                                     | 1                                                     | IPS      , Panel    , Retina   , Display  , 2880x1800 | 2880x1800                                             | 2880                                                  | 1800                                                  |\n",
       "| 5                                                     | Apple                                                 | MacBook Pro                                           | Ultrabook                                             | 13.3                                                  | IPS Panel Retina Display 2560x1600                    | Intel Core i5 3.1GHz                                  |  8                                                    | 1.37                                                  | 1803.60                                               | 0                                                     | 256                                                   | Intel                                                 | Mac                                                   | 0                                                     | 1                                                     | IPS      , Panel    , Retina   , Display  , 2560x1600 | 2560x1600                                             | 2560                                                  | 1600                                                  |\n",
       "| 6                                  | Acer                               | Aspire 3                           | Notebook                           | 15.6                               | 1366x768                           | AMD A9-Series 9420 3GHz            |  4                                 | 2.10                               |  400.00                            | 0                                  |   0                                | AMD                                | Windows                            | 0                                  | 0                                  | 1366x768                           | 1366x768                           | 1366                               |  768                               |\n",
       "\n"
      ],
      "text/plain": [
       "  laptop_ID Company Product     TypeName  Inches\n",
       "1 1         Apple   MacBook Pro Ultrabook 13.3  \n",
       "2 2         Apple   Macbook Air Ultrabook 13.3  \n",
       "3 3         HP      250 G6      Notebook  15.6  \n",
       "4 4         Apple   MacBook Pro Ultrabook 15.4  \n",
       "5 5         Apple   MacBook Pro Ultrabook 13.3  \n",
       "6 6         Acer    Aspire 3    Notebook  15.6  \n",
       "  ScreenResolution                   Cpu                        Ram Weight\n",
       "1 IPS Panel Retina Display 2560x1600 Intel Core i5 2.3GHz        8  1.37  \n",
       "2 1440x900                           Intel Core i5 1.8GHz        8  1.34  \n",
       "3 Full HD 1920x1080                  Intel Core i5 7200U 2.5GHz  8  1.86  \n",
       "4 IPS Panel Retina Display 2880x1800 Intel Core i7 2.7GHz       16  1.83  \n",
       "5 IPS Panel Retina Display 2560x1600 Intel Core i5 3.1GHz        8  1.37  \n",
       "6 1366x768                           AMD A9-Series 9420 3GHz     4  2.10  \n",
       "  Price_euros HDD SSD Gpu_brand os                 Touchscreen Ips\n",
       "1 1339.69     0   128 Intel     Mac                0           1  \n",
       "2  898.94     0     0 Intel     Mac                0           0  \n",
       "3  575.00     0   256 Intel     Others/No OS/Linux 0           0  \n",
       "4 2537.45     0   512 AMD       Mac                0           1  \n",
       "5 1803.60     0   256 Intel     Mac                0           1  \n",
       "6  400.00     0     0 AMD       Windows            0           0  \n",
       "  split_SR                                              take_SR   X_res Y_res\n",
       "1 IPS      , Panel    , Retina   , Display  , 2560x1600 2560x1600 2560  1600 \n",
       "2 1440x900                                              1440x900  1440   900 \n",
       "3 Full     , HD       , 1920x1080                       1920x1080 1920  1080 \n",
       "4 IPS      , Panel    , Retina   , Display  , 2880x1800 2880x1800 2880  1800 \n",
       "5 IPS      , Panel    , Retina   , Display  , 2560x1600 2560x1600 2560  1600 \n",
       "6 1366x768                                              1366x768  1366   768 "
      ]
     },
     "metadata": {},
     "output_type": "display_data"
    }
   ],
   "source": [
    "data$ScreenResolution <- as.character(data$ScreenResolution)\n",
    "data$split_SR <- sapply(strsplit(data$ScreenResolution, \" \"), unlist)\n",
    "data$take_SR <- sapply(data$split_SR,tail,1)\n",
    "data$X_res <- as.numeric(sapply(strsplit(data$take_SR, \"x\"), `[`, 1))\n",
    "data$Y_res <- as.numeric(sapply(strsplit(data$take_SR, \"x\"), `[`, 2))\n",
    "head(data)"
   ]
  },
  {
   "cell_type": "code",
   "execution_count": 29,
   "id": "c5015bd0",
   "metadata": {},
   "outputs": [
    {
     "data": {
      "text/html": [
       "<table>\n",
       "<thead><tr><th scope=col>laptop_ID</th><th scope=col>Company</th><th scope=col>Product</th><th scope=col>TypeName</th><th scope=col>Inches</th><th scope=col>ScreenResolution</th><th scope=col>Cpu</th><th scope=col>Ram</th><th scope=col>Weight</th><th scope=col>Price_euros</th><th scope=col>...</th><th scope=col>SSD</th><th scope=col>Gpu_brand</th><th scope=col>os</th><th scope=col>Touchscreen</th><th scope=col>Ips</th><th scope=col>split_SR</th><th scope=col>take_SR</th><th scope=col>X_res</th><th scope=col>Y_res</th><th scope=col>ppi</th></tr></thead>\n",
       "<tbody>\n",
       "\t<tr><td>1                                                    </td><td>Apple                                                </td><td>MacBook Pro                                          </td><td>Ultrabook                                            </td><td>13.3                                                 </td><td>IPS Panel Retina Display 2560x1600                   </td><td>Intel Core i5 2.3GHz                                 </td><td> 8                                                   </td><td>1.37                                                 </td><td>1339.69                                              </td><td>...                                                  </td><td>128                                                  </td><td>Intel                                                </td><td>Mac                                                  </td><td>0                                                    </td><td>1                                                    </td><td>IPS      , Panel    , Retina   , Display  , 2560x1600</td><td>2560x1600                                            </td><td>2560                                                 </td><td>1600                                                 </td><td>226.9830                                             </td></tr>\n",
       "\t<tr><td>2                                 </td><td>Apple                             </td><td>Macbook Air                       </td><td>Ultrabook                         </td><td>13.3                              </td><td>1440x900                          </td><td>Intel Core i5 1.8GHz              </td><td> 8                                </td><td>1.34                              </td><td> 898.94                           </td><td>...                               </td><td>  0                               </td><td>Intel                             </td><td>Mac                               </td><td>0                                 </td><td>0                                 </td><td>1440x900                          </td><td>1440x900                          </td><td>1440                              </td><td> 900                              </td><td>127.6779                          </td></tr>\n",
       "\t<tr><td>3                                 </td><td>HP                                </td><td>250 G6                            </td><td>Notebook                          </td><td>15.6                              </td><td>Full HD 1920x1080                 </td><td>Intel Core i5 7200U 2.5GHz        </td><td> 8                                </td><td>1.86                              </td><td> 575.00                           </td><td>...                               </td><td>256                               </td><td>Intel                             </td><td>Others/No OS/Linux                </td><td>0                                 </td><td>0                                 </td><td>Full     , HD       , 1920x1080   </td><td>1920x1080                         </td><td>1920                              </td><td>1080                              </td><td>141.2120                          </td></tr>\n",
       "\t<tr><td>4                                                    </td><td>Apple                                                </td><td>MacBook Pro                                          </td><td>Ultrabook                                            </td><td>15.4                                                 </td><td>IPS Panel Retina Display 2880x1800                   </td><td>Intel Core i7 2.7GHz                                 </td><td>16                                                   </td><td>1.83                                                 </td><td>2537.45                                              </td><td>...                                                  </td><td>512                                                  </td><td>AMD                                                  </td><td>Mac                                                  </td><td>0                                                    </td><td>1                                                    </td><td>IPS      , Panel    , Retina   , Display  , 2880x1800</td><td>2880x1800                                            </td><td>2880                                                 </td><td>1800                                                 </td><td>220.5346                                             </td></tr>\n",
       "\t<tr><td>5                                                    </td><td>Apple                                                </td><td>MacBook Pro                                          </td><td>Ultrabook                                            </td><td>13.3                                                 </td><td>IPS Panel Retina Display 2560x1600                   </td><td>Intel Core i5 3.1GHz                                 </td><td> 8                                                   </td><td>1.37                                                 </td><td>1803.60                                              </td><td>...                                                  </td><td>256                                                  </td><td>Intel                                                </td><td>Mac                                                  </td><td>0                                                    </td><td>1                                                    </td><td>IPS      , Panel    , Retina   , Display  , 2560x1600</td><td>2560x1600                                            </td><td>2560                                                 </td><td>1600                                                 </td><td>226.9830                                             </td></tr>\n",
       "\t<tr><td>6                                 </td><td>Acer                              </td><td>Aspire 3                          </td><td>Notebook                          </td><td>15.6                              </td><td>1366x768                          </td><td>AMD A9-Series 9420 3GHz           </td><td> 4                                </td><td>2.10                              </td><td> 400.00                           </td><td>...                               </td><td>  0                               </td><td>AMD                               </td><td>Windows                           </td><td>0                                 </td><td>0                                 </td><td>1366x768                          </td><td>1366x768                          </td><td>1366                              </td><td> 768                              </td><td>100.4547                          </td></tr>\n",
       "</tbody>\n",
       "</table>\n"
      ],
      "text/latex": [
       "\\begin{tabular}{r|lllllllllllllllllllll}\n",
       " laptop\\_ID & Company & Product & TypeName & Inches & ScreenResolution & Cpu & Ram & Weight & Price\\_euros & ... & SSD & Gpu\\_brand & os & Touchscreen & Ips & split\\_SR & take\\_SR & X\\_res & Y\\_res & ppi\\\\\n",
       "\\hline\n",
       "\t 1                                                     & Apple                                                 & MacBook Pro                                           & Ultrabook                                             & 13.3                                                  & IPS Panel Retina Display 2560x1600                    & Intel Core i5 2.3GHz                                  &  8                                                    & 1.37                                                  & 1339.69                                               & ...                                                   & 128                                                   & Intel                                                 & Mac                                                   & 0                                                     & 1                                                     & IPS      , Panel    , Retina   , Display  , 2560x1600 & 2560x1600                                             & 2560                                                  & 1600                                                  & 226.9830                                             \\\\\n",
       "\t 2                                  & Apple                              & Macbook Air                        & Ultrabook                          & 13.3                               & 1440x900                           & Intel Core i5 1.8GHz               &  8                                 & 1.34                               &  898.94                            & ...                                &   0                                & Intel                              & Mac                                & 0                                  & 0                                  & 1440x900                           & 1440x900                           & 1440                               &  900                               & 127.6779                          \\\\\n",
       "\t 3                                  & HP                                 & 250 G6                             & Notebook                           & 15.6                               & Full HD 1920x1080                  & Intel Core i5 7200U 2.5GHz         &  8                                 & 1.86                               &  575.00                            & ...                                & 256                                & Intel                              & Others/No OS/Linux                 & 0                                  & 0                                  & Full     , HD       , 1920x1080    & 1920x1080                          & 1920                               & 1080                               & 141.2120                          \\\\\n",
       "\t 4                                                     & Apple                                                 & MacBook Pro                                           & Ultrabook                                             & 15.4                                                  & IPS Panel Retina Display 2880x1800                    & Intel Core i7 2.7GHz                                  & 16                                                    & 1.83                                                  & 2537.45                                               & ...                                                   & 512                                                   & AMD                                                   & Mac                                                   & 0                                                     & 1                                                     & IPS      , Panel    , Retina   , Display  , 2880x1800 & 2880x1800                                             & 2880                                                  & 1800                                                  & 220.5346                                             \\\\\n",
       "\t 5                                                     & Apple                                                 & MacBook Pro                                           & Ultrabook                                             & 13.3                                                  & IPS Panel Retina Display 2560x1600                    & Intel Core i5 3.1GHz                                  &  8                                                    & 1.37                                                  & 1803.60                                               & ...                                                   & 256                                                   & Intel                                                 & Mac                                                   & 0                                                     & 1                                                     & IPS      , Panel    , Retina   , Display  , 2560x1600 & 2560x1600                                             & 2560                                                  & 1600                                                  & 226.9830                                             \\\\\n",
       "\t 6                                  & Acer                               & Aspire 3                           & Notebook                           & 15.6                               & 1366x768                           & AMD A9-Series 9420 3GHz            &  4                                 & 2.10                               &  400.00                            & ...                                &   0                                & AMD                                & Windows                            & 0                                  & 0                                  & 1366x768                           & 1366x768                           & 1366                               &  768                               & 100.4547                          \\\\\n",
       "\\end{tabular}\n"
      ],
      "text/markdown": [
       "\n",
       "| laptop_ID | Company | Product | TypeName | Inches | ScreenResolution | Cpu | Ram | Weight | Price_euros | ... | SSD | Gpu_brand | os | Touchscreen | Ips | split_SR | take_SR | X_res | Y_res | ppi |\n",
       "|---|---|---|---|---|---|---|---|---|---|---|---|---|---|---|---|---|---|---|---|---|\n",
       "| 1                                                     | Apple                                                 | MacBook Pro                                           | Ultrabook                                             | 13.3                                                  | IPS Panel Retina Display 2560x1600                    | Intel Core i5 2.3GHz                                  |  8                                                    | 1.37                                                  | 1339.69                                               | ...                                                   | 128                                                   | Intel                                                 | Mac                                                   | 0                                                     | 1                                                     | IPS      , Panel    , Retina   , Display  , 2560x1600 | 2560x1600                                             | 2560                                                  | 1600                                                  | 226.9830                                              |\n",
       "| 2                                  | Apple                              | Macbook Air                        | Ultrabook                          | 13.3                               | 1440x900                           | Intel Core i5 1.8GHz               |  8                                 | 1.34                               |  898.94                            | ...                                |   0                                | Intel                              | Mac                                | 0                                  | 0                                  | 1440x900                           | 1440x900                           | 1440                               |  900                               | 127.6779                           |\n",
       "| 3                                  | HP                                 | 250 G6                             | Notebook                           | 15.6                               | Full HD 1920x1080                  | Intel Core i5 7200U 2.5GHz         |  8                                 | 1.86                               |  575.00                            | ...                                | 256                                | Intel                              | Others/No OS/Linux                 | 0                                  | 0                                  | Full     , HD       , 1920x1080    | 1920x1080                          | 1920                               | 1080                               | 141.2120                           |\n",
       "| 4                                                     | Apple                                                 | MacBook Pro                                           | Ultrabook                                             | 15.4                                                  | IPS Panel Retina Display 2880x1800                    | Intel Core i7 2.7GHz                                  | 16                                                    | 1.83                                                  | 2537.45                                               | ...                                                   | 512                                                   | AMD                                                   | Mac                                                   | 0                                                     | 1                                                     | IPS      , Panel    , Retina   , Display  , 2880x1800 | 2880x1800                                             | 2880                                                  | 1800                                                  | 220.5346                                              |\n",
       "| 5                                                     | Apple                                                 | MacBook Pro                                           | Ultrabook                                             | 13.3                                                  | IPS Panel Retina Display 2560x1600                    | Intel Core i5 3.1GHz                                  |  8                                                    | 1.37                                                  | 1803.60                                               | ...                                                   | 256                                                   | Intel                                                 | Mac                                                   | 0                                                     | 1                                                     | IPS      , Panel    , Retina   , Display  , 2560x1600 | 2560x1600                                             | 2560                                                  | 1600                                                  | 226.9830                                              |\n",
       "| 6                                  | Acer                               | Aspire 3                           | Notebook                           | 15.6                               | 1366x768                           | AMD A9-Series 9420 3GHz            |  4                                 | 2.10                               |  400.00                            | ...                                |   0                                | AMD                                | Windows                            | 0                                  | 0                                  | 1366x768                           | 1366x768                           | 1366                               |  768                               | 100.4547                           |\n",
       "\n"
      ],
      "text/plain": [
       "  laptop_ID Company Product     TypeName  Inches\n",
       "1 1         Apple   MacBook Pro Ultrabook 13.3  \n",
       "2 2         Apple   Macbook Air Ultrabook 13.3  \n",
       "3 3         HP      250 G6      Notebook  15.6  \n",
       "4 4         Apple   MacBook Pro Ultrabook 15.4  \n",
       "5 5         Apple   MacBook Pro Ultrabook 13.3  \n",
       "6 6         Acer    Aspire 3    Notebook  15.6  \n",
       "  ScreenResolution                   Cpu                        Ram Weight\n",
       "1 IPS Panel Retina Display 2560x1600 Intel Core i5 2.3GHz        8  1.37  \n",
       "2 1440x900                           Intel Core i5 1.8GHz        8  1.34  \n",
       "3 Full HD 1920x1080                  Intel Core i5 7200U 2.5GHz  8  1.86  \n",
       "4 IPS Panel Retina Display 2880x1800 Intel Core i7 2.7GHz       16  1.83  \n",
       "5 IPS Panel Retina Display 2560x1600 Intel Core i5 3.1GHz        8  1.37  \n",
       "6 1366x768                           AMD A9-Series 9420 3GHz     4  2.10  \n",
       "  Price_euros ... SSD Gpu_brand os                 Touchscreen Ips\n",
       "1 1339.69     ... 128 Intel     Mac                0           1  \n",
       "2  898.94     ...   0 Intel     Mac                0           0  \n",
       "3  575.00     ... 256 Intel     Others/No OS/Linux 0           0  \n",
       "4 2537.45     ... 512 AMD       Mac                0           1  \n",
       "5 1803.60     ... 256 Intel     Mac                0           1  \n",
       "6  400.00     ...   0 AMD       Windows            0           0  \n",
       "  split_SR                                              take_SR   X_res Y_res\n",
       "1 IPS      , Panel    , Retina   , Display  , 2560x1600 2560x1600 2560  1600 \n",
       "2 1440x900                                              1440x900  1440   900 \n",
       "3 Full     , HD       , 1920x1080                       1920x1080 1920  1080 \n",
       "4 IPS      , Panel    , Retina   , Display  , 2880x1800 2880x1800 2880  1800 \n",
       "5 IPS      , Panel    , Retina   , Display  , 2560x1600 2560x1600 2560  1600 \n",
       "6 1366x768                                              1366x768  1366   768 \n",
       "  ppi     \n",
       "1 226.9830\n",
       "2 127.6779\n",
       "3 141.2120\n",
       "4 220.5346\n",
       "5 226.9830\n",
       "6 100.4547"
      ]
     },
     "metadata": {},
     "output_type": "display_data"
    }
   ],
   "source": [
    "data$ppi = as.numeric(((data$X_res^2) + (data$Y_res^2))^0.5/data$Inches)\n",
    "head(data)"
   ]
  },
  {
   "cell_type": "code",
   "execution_count": 30,
   "id": "206127db",
   "metadata": {},
   "outputs": [
    {
     "data": {
      "text/html": [
       "<table>\n",
       "<thead><tr><th scope=col>laptop_ID</th><th scope=col>Company</th><th scope=col>Product</th><th scope=col>TypeName</th><th scope=col>Inches</th><th scope=col>Cpu</th><th scope=col>Ram</th><th scope=col>Weight</th><th scope=col>Price_euros</th><th scope=col>HDD</th><th scope=col>SSD</th><th scope=col>Gpu_brand</th><th scope=col>os</th><th scope=col>Touchscreen</th><th scope=col>Ips</th><th scope=col>ppi</th></tr></thead>\n",
       "<tbody>\n",
       "\t<tr><td>1                         </td><td>Apple                     </td><td>MacBook Pro               </td><td>Ultrabook                 </td><td>13.3                      </td><td>Intel Core i5 2.3GHz      </td><td> 8                        </td><td>1.37                      </td><td>1339.69                   </td><td>0                         </td><td>128                       </td><td>Intel                     </td><td>Mac                       </td><td>0                         </td><td>1                         </td><td>226.9830                  </td></tr>\n",
       "\t<tr><td>2                         </td><td>Apple                     </td><td>Macbook Air               </td><td>Ultrabook                 </td><td>13.3                      </td><td>Intel Core i5 1.8GHz      </td><td> 8                        </td><td>1.34                      </td><td> 898.94                   </td><td>0                         </td><td>  0                       </td><td>Intel                     </td><td>Mac                       </td><td>0                         </td><td>0                         </td><td>127.6779                  </td></tr>\n",
       "\t<tr><td>3                         </td><td>HP                        </td><td>250 G6                    </td><td>Notebook                  </td><td>15.6                      </td><td>Intel Core i5 7200U 2.5GHz</td><td> 8                        </td><td>1.86                      </td><td> 575.00                   </td><td>0                         </td><td>256                       </td><td>Intel                     </td><td>Others/No OS/Linux        </td><td>0                         </td><td>0                         </td><td>141.2120                  </td></tr>\n",
       "\t<tr><td>4                         </td><td>Apple                     </td><td>MacBook Pro               </td><td>Ultrabook                 </td><td>15.4                      </td><td>Intel Core i7 2.7GHz      </td><td>16                        </td><td>1.83                      </td><td>2537.45                   </td><td>0                         </td><td>512                       </td><td>AMD                       </td><td>Mac                       </td><td>0                         </td><td>1                         </td><td>220.5346                  </td></tr>\n",
       "\t<tr><td>5                         </td><td>Apple                     </td><td>MacBook Pro               </td><td>Ultrabook                 </td><td>13.3                      </td><td>Intel Core i5 3.1GHz      </td><td> 8                        </td><td>1.37                      </td><td>1803.60                   </td><td>0                         </td><td>256                       </td><td>Intel                     </td><td>Mac                       </td><td>0                         </td><td>1                         </td><td>226.9830                  </td></tr>\n",
       "\t<tr><td>6                         </td><td>Acer                      </td><td>Aspire 3                  </td><td>Notebook                  </td><td>15.6                      </td><td>AMD A9-Series 9420 3GHz   </td><td> 4                        </td><td>2.10                      </td><td> 400.00                   </td><td>0                         </td><td>  0                       </td><td>AMD                       </td><td>Windows                   </td><td>0                         </td><td>0                         </td><td>100.4547                  </td></tr>\n",
       "</tbody>\n",
       "</table>\n"
      ],
      "text/latex": [
       "\\begin{tabular}{r|llllllllllllllll}\n",
       " laptop\\_ID & Company & Product & TypeName & Inches & Cpu & Ram & Weight & Price\\_euros & HDD & SSD & Gpu\\_brand & os & Touchscreen & Ips & ppi\\\\\n",
       "\\hline\n",
       "\t 1                          & Apple                      & MacBook Pro                & Ultrabook                  & 13.3                       & Intel Core i5 2.3GHz       &  8                         & 1.37                       & 1339.69                    & 0                          & 128                        & Intel                      & Mac                        & 0                          & 1                          & 226.9830                  \\\\\n",
       "\t 2                          & Apple                      & Macbook Air                & Ultrabook                  & 13.3                       & Intel Core i5 1.8GHz       &  8                         & 1.34                       &  898.94                    & 0                          &   0                        & Intel                      & Mac                        & 0                          & 0                          & 127.6779                  \\\\\n",
       "\t 3                          & HP                         & 250 G6                     & Notebook                   & 15.6                       & Intel Core i5 7200U 2.5GHz &  8                         & 1.86                       &  575.00                    & 0                          & 256                        & Intel                      & Others/No OS/Linux         & 0                          & 0                          & 141.2120                  \\\\\n",
       "\t 4                          & Apple                      & MacBook Pro                & Ultrabook                  & 15.4                       & Intel Core i7 2.7GHz       & 16                         & 1.83                       & 2537.45                    & 0                          & 512                        & AMD                        & Mac                        & 0                          & 1                          & 220.5346                  \\\\\n",
       "\t 5                          & Apple                      & MacBook Pro                & Ultrabook                  & 13.3                       & Intel Core i5 3.1GHz       &  8                         & 1.37                       & 1803.60                    & 0                          & 256                        & Intel                      & Mac                        & 0                          & 1                          & 226.9830                  \\\\\n",
       "\t 6                          & Acer                       & Aspire 3                   & Notebook                   & 15.6                       & AMD A9-Series 9420 3GHz    &  4                         & 2.10                       &  400.00                    & 0                          &   0                        & AMD                        & Windows                    & 0                          & 0                          & 100.4547                  \\\\\n",
       "\\end{tabular}\n"
      ],
      "text/markdown": [
       "\n",
       "| laptop_ID | Company | Product | TypeName | Inches | Cpu | Ram | Weight | Price_euros | HDD | SSD | Gpu_brand | os | Touchscreen | Ips | ppi |\n",
       "|---|---|---|---|---|---|---|---|---|---|---|---|---|---|---|---|\n",
       "| 1                          | Apple                      | MacBook Pro                | Ultrabook                  | 13.3                       | Intel Core i5 2.3GHz       |  8                         | 1.37                       | 1339.69                    | 0                          | 128                        | Intel                      | Mac                        | 0                          | 1                          | 226.9830                   |\n",
       "| 2                          | Apple                      | Macbook Air                | Ultrabook                  | 13.3                       | Intel Core i5 1.8GHz       |  8                         | 1.34                       |  898.94                    | 0                          |   0                        | Intel                      | Mac                        | 0                          | 0                          | 127.6779                   |\n",
       "| 3                          | HP                         | 250 G6                     | Notebook                   | 15.6                       | Intel Core i5 7200U 2.5GHz |  8                         | 1.86                       |  575.00                    | 0                          | 256                        | Intel                      | Others/No OS/Linux         | 0                          | 0                          | 141.2120                   |\n",
       "| 4                          | Apple                      | MacBook Pro                | Ultrabook                  | 15.4                       | Intel Core i7 2.7GHz       | 16                         | 1.83                       | 2537.45                    | 0                          | 512                        | AMD                        | Mac                        | 0                          | 1                          | 220.5346                   |\n",
       "| 5                          | Apple                      | MacBook Pro                | Ultrabook                  | 13.3                       | Intel Core i5 3.1GHz       |  8                         | 1.37                       | 1803.60                    | 0                          | 256                        | Intel                      | Mac                        | 0                          | 1                          | 226.9830                   |\n",
       "| 6                          | Acer                       | Aspire 3                   | Notebook                   | 15.6                       | AMD A9-Series 9420 3GHz    |  4                         | 2.10                       |  400.00                    | 0                          |   0                        | AMD                        | Windows                    | 0                          | 0                          | 100.4547                   |\n",
       "\n"
      ],
      "text/plain": [
       "  laptop_ID Company Product     TypeName  Inches Cpu                        Ram\n",
       "1 1         Apple   MacBook Pro Ultrabook 13.3   Intel Core i5 2.3GHz        8 \n",
       "2 2         Apple   Macbook Air Ultrabook 13.3   Intel Core i5 1.8GHz        8 \n",
       "3 3         HP      250 G6      Notebook  15.6   Intel Core i5 7200U 2.5GHz  8 \n",
       "4 4         Apple   MacBook Pro Ultrabook 15.4   Intel Core i7 2.7GHz       16 \n",
       "5 5         Apple   MacBook Pro Ultrabook 13.3   Intel Core i5 3.1GHz        8 \n",
       "6 6         Acer    Aspire 3    Notebook  15.6   AMD A9-Series 9420 3GHz     4 \n",
       "  Weight Price_euros HDD SSD Gpu_brand os                 Touchscreen Ips\n",
       "1 1.37   1339.69     0   128 Intel     Mac                0           1  \n",
       "2 1.34    898.94     0     0 Intel     Mac                0           0  \n",
       "3 1.86    575.00     0   256 Intel     Others/No OS/Linux 0           0  \n",
       "4 1.83   2537.45     0   512 AMD       Mac                0           1  \n",
       "5 1.37   1803.60     0   256 Intel     Mac                0           1  \n",
       "6 2.10    400.00     0     0 AMD       Windows            0           0  \n",
       "  ppi     \n",
       "1 226.9830\n",
       "2 127.6779\n",
       "3 141.2120\n",
       "4 220.5346\n",
       "5 226.9830\n",
       "6 100.4547"
      ]
     },
     "metadata": {},
     "output_type": "display_data"
    }
   ],
   "source": [
    "data <- data[,-c(6,17,18, 19, 20)]\n",
    "head(data)"
   ]
  },
  {
   "cell_type": "code",
   "execution_count": 31,
   "id": "9ec4b566",
   "metadata": {},
   "outputs": [
    {
     "data": {
      "text/html": [
       "<table>\n",
       "<thead><tr><th scope=col>laptop_ID</th><th scope=col>Company</th><th scope=col>Product</th><th scope=col>TypeName</th><th scope=col>Inches</th><th scope=col>Cpu</th><th scope=col>Ram</th><th scope=col>Weight</th><th scope=col>Price_euros</th><th scope=col>HDD</th><th scope=col>SSD</th><th scope=col>Gpu_brand</th><th scope=col>os</th><th scope=col>Touchscreen</th><th scope=col>Ips</th><th scope=col>ppi</th><th scope=col>Cpu_brand</th></tr></thead>\n",
       "<tbody>\n",
       "\t<tr><td>1                         </td><td>Apple                     </td><td>MacBook Pro               </td><td>Ultrabook                 </td><td>13.3                      </td><td>Intel Core i5 2.3GHz      </td><td> 8                        </td><td>1.37                      </td><td>1339.69                   </td><td>0                         </td><td>128                       </td><td>Intel                     </td><td>Mac                       </td><td>0                         </td><td>1                         </td><td>226.9830                  </td><td>Intel Core i5             </td></tr>\n",
       "\t<tr><td>2                         </td><td>Apple                     </td><td>Macbook Air               </td><td>Ultrabook                 </td><td>13.3                      </td><td>Intel Core i5 1.8GHz      </td><td> 8                        </td><td>1.34                      </td><td> 898.94                   </td><td>0                         </td><td>  0                       </td><td>Intel                     </td><td>Mac                       </td><td>0                         </td><td>0                         </td><td>127.6779                  </td><td>Intel Core i5             </td></tr>\n",
       "\t<tr><td>3                         </td><td>HP                        </td><td>250 G6                    </td><td>Notebook                  </td><td>15.6                      </td><td>Intel Core i5 7200U 2.5GHz</td><td> 8                        </td><td>1.86                      </td><td> 575.00                   </td><td>0                         </td><td>256                       </td><td>Intel                     </td><td>Others/No OS/Linux        </td><td>0                         </td><td>0                         </td><td>141.2120                  </td><td>Intel Core i5             </td></tr>\n",
       "\t<tr><td>4                         </td><td>Apple                     </td><td>MacBook Pro               </td><td>Ultrabook                 </td><td>15.4                      </td><td>Intel Core i7 2.7GHz      </td><td>16                        </td><td>1.83                      </td><td>2537.45                   </td><td>0                         </td><td>512                       </td><td>AMD                       </td><td>Mac                       </td><td>0                         </td><td>1                         </td><td>220.5346                  </td><td>Intel Core i7             </td></tr>\n",
       "\t<tr><td>5                         </td><td>Apple                     </td><td>MacBook Pro               </td><td>Ultrabook                 </td><td>13.3                      </td><td>Intel Core i5 3.1GHz      </td><td> 8                        </td><td>1.37                      </td><td>1803.60                   </td><td>0                         </td><td>256                       </td><td>Intel                     </td><td>Mac                       </td><td>0                         </td><td>1                         </td><td>226.9830                  </td><td>Intel Core i5             </td></tr>\n",
       "\t<tr><td>6                         </td><td>Acer                      </td><td>Aspire 3                  </td><td>Notebook                  </td><td>15.6                      </td><td>AMD A9-Series 9420 3GHz   </td><td> 4                        </td><td>2.10                      </td><td> 400.00                   </td><td>0                         </td><td>  0                       </td><td>AMD                       </td><td>Windows                   </td><td>0                         </td><td>0                         </td><td>100.4547                  </td><td>AMD Processor             </td></tr>\n",
       "</tbody>\n",
       "</table>\n"
      ],
      "text/latex": [
       "\\begin{tabular}{r|lllllllllllllllll}\n",
       " laptop\\_ID & Company & Product & TypeName & Inches & Cpu & Ram & Weight & Price\\_euros & HDD & SSD & Gpu\\_brand & os & Touchscreen & Ips & ppi & Cpu\\_brand\\\\\n",
       "\\hline\n",
       "\t 1                          & Apple                      & MacBook Pro                & Ultrabook                  & 13.3                       & Intel Core i5 2.3GHz       &  8                         & 1.37                       & 1339.69                    & 0                          & 128                        & Intel                      & Mac                        & 0                          & 1                          & 226.9830                   & Intel Core i5             \\\\\n",
       "\t 2                          & Apple                      & Macbook Air                & Ultrabook                  & 13.3                       & Intel Core i5 1.8GHz       &  8                         & 1.34                       &  898.94                    & 0                          &   0                        & Intel                      & Mac                        & 0                          & 0                          & 127.6779                   & Intel Core i5             \\\\\n",
       "\t 3                          & HP                         & 250 G6                     & Notebook                   & 15.6                       & Intel Core i5 7200U 2.5GHz &  8                         & 1.86                       &  575.00                    & 0                          & 256                        & Intel                      & Others/No OS/Linux         & 0                          & 0                          & 141.2120                   & Intel Core i5             \\\\\n",
       "\t 4                          & Apple                      & MacBook Pro                & Ultrabook                  & 15.4                       & Intel Core i7 2.7GHz       & 16                         & 1.83                       & 2537.45                    & 0                          & 512                        & AMD                        & Mac                        & 0                          & 1                          & 220.5346                   & Intel Core i7             \\\\\n",
       "\t 5                          & Apple                      & MacBook Pro                & Ultrabook                  & 13.3                       & Intel Core i5 3.1GHz       &  8                         & 1.37                       & 1803.60                    & 0                          & 256                        & Intel                      & Mac                        & 0                          & 1                          & 226.9830                   & Intel Core i5             \\\\\n",
       "\t 6                          & Acer                       & Aspire 3                   & Notebook                   & 15.6                       & AMD A9-Series 9420 3GHz    &  4                         & 2.10                       &  400.00                    & 0                          &   0                        & AMD                        & Windows                    & 0                          & 0                          & 100.4547                   & AMD Processor             \\\\\n",
       "\\end{tabular}\n"
      ],
      "text/markdown": [
       "\n",
       "| laptop_ID | Company | Product | TypeName | Inches | Cpu | Ram | Weight | Price_euros | HDD | SSD | Gpu_brand | os | Touchscreen | Ips | ppi | Cpu_brand |\n",
       "|---|---|---|---|---|---|---|---|---|---|---|---|---|---|---|---|---|\n",
       "| 1                          | Apple                      | MacBook Pro                | Ultrabook                  | 13.3                       | Intel Core i5 2.3GHz       |  8                         | 1.37                       | 1339.69                    | 0                          | 128                        | Intel                      | Mac                        | 0                          | 1                          | 226.9830                   | Intel Core i5              |\n",
       "| 2                          | Apple                      | Macbook Air                | Ultrabook                  | 13.3                       | Intel Core i5 1.8GHz       |  8                         | 1.34                       |  898.94                    | 0                          |   0                        | Intel                      | Mac                        | 0                          | 0                          | 127.6779                   | Intel Core i5              |\n",
       "| 3                          | HP                         | 250 G6                     | Notebook                   | 15.6                       | Intel Core i5 7200U 2.5GHz |  8                         | 1.86                       |  575.00                    | 0                          | 256                        | Intel                      | Others/No OS/Linux         | 0                          | 0                          | 141.2120                   | Intel Core i5              |\n",
       "| 4                          | Apple                      | MacBook Pro                | Ultrabook                  | 15.4                       | Intel Core i7 2.7GHz       | 16                         | 1.83                       | 2537.45                    | 0                          | 512                        | AMD                        | Mac                        | 0                          | 1                          | 220.5346                   | Intel Core i7              |\n",
       "| 5                          | Apple                      | MacBook Pro                | Ultrabook                  | 13.3                       | Intel Core i5 3.1GHz       |  8                         | 1.37                       | 1803.60                    | 0                          | 256                        | Intel                      | Mac                        | 0                          | 1                          | 226.9830                   | Intel Core i5              |\n",
       "| 6                          | Acer                       | Aspire 3                   | Notebook                   | 15.6                       | AMD A9-Series 9420 3GHz    |  4                         | 2.10                       |  400.00                    | 0                          |   0                        | AMD                        | Windows                    | 0                          | 0                          | 100.4547                   | AMD Processor              |\n",
       "\n"
      ],
      "text/plain": [
       "  laptop_ID Company Product     TypeName  Inches Cpu                        Ram\n",
       "1 1         Apple   MacBook Pro Ultrabook 13.3   Intel Core i5 2.3GHz        8 \n",
       "2 2         Apple   Macbook Air Ultrabook 13.3   Intel Core i5 1.8GHz        8 \n",
       "3 3         HP      250 G6      Notebook  15.6   Intel Core i5 7200U 2.5GHz  8 \n",
       "4 4         Apple   MacBook Pro Ultrabook 15.4   Intel Core i7 2.7GHz       16 \n",
       "5 5         Apple   MacBook Pro Ultrabook 13.3   Intel Core i5 3.1GHz        8 \n",
       "6 6         Acer    Aspire 3    Notebook  15.6   AMD A9-Series 9420 3GHz     4 \n",
       "  Weight Price_euros HDD SSD Gpu_brand os                 Touchscreen Ips\n",
       "1 1.37   1339.69     0   128 Intel     Mac                0           1  \n",
       "2 1.34    898.94     0     0 Intel     Mac                0           0  \n",
       "3 1.86    575.00     0   256 Intel     Others/No OS/Linux 0           0  \n",
       "4 1.83   2537.45     0   512 AMD       Mac                0           1  \n",
       "5 1.37   1803.60     0   256 Intel     Mac                0           1  \n",
       "6 2.10    400.00     0     0 AMD       Windows            0           0  \n",
       "  ppi      Cpu_brand    \n",
       "1 226.9830 Intel Core i5\n",
       "2 127.6779 Intel Core i5\n",
       "3 141.2120 Intel Core i5\n",
       "4 220.5346 Intel Core i7\n",
       "5 226.9830 Intel Core i5\n",
       "6 100.4547 AMD Processor"
      ]
     },
     "metadata": {},
     "output_type": "display_data"
    }
   ],
   "source": [
    "data$Cpu <- as.character(data$Cpu)\n",
    "data$Cpu_brand <- ifelse(grepl(\"Intel Core i7\", data$Cpu), \"Intel Core i7\",\n",
    "                          ifelse(grepl('Intel Core i5', data$Cpu),'Intel Core i5',\n",
    "                                ifelse(grepl('Intel Core i3', data$Cpu), 'Intel Core i3',\n",
    "                                      ifelse(grepl('Intel', data$Cpu), 'Other Intel Processor',\n",
    "                                            'AMD Processor'))))\n",
    "head(data)"
   ]
  },
  {
   "cell_type": "code",
   "execution_count": 32,
   "id": "8f8f449e",
   "metadata": {},
   "outputs": [
    {
     "data": {
      "image/png": "[encoded data removed]",
      "text/plain": [
       "plot without title"
      ]
     },
     "metadata": {
      "image/png": {
       "height": 420,
       "width": 420
      }
     },
     "output_type": "display_data"
    }
   ],
   "source": [
    "ggplot(data) +\n",
    "  geom_bar(aes(y = Cpu_brand), fill = \"pink\") +\n",
    "  xlab(\"Count\") + ylab(\"Cpu_brand\")"
   ]
  },
  {
   "cell_type": "code",
   "execution_count": 33,
   "id": "e60133a0",
   "metadata": {},
   "outputs": [
    {
     "data": {
      "text/html": [
       "<table>\n",
       "<thead><tr><th scope=col>Company</th><th scope=col>TypeName</th><th scope=col>Ram</th><th scope=col>Weight</th><th scope=col>Price_euros</th><th scope=col>HDD</th><th scope=col>SSD</th><th scope=col>Gpu_brand</th><th scope=col>os</th><th scope=col>Touchscreen</th><th scope=col>Ips</th><th scope=col>ppi</th><th scope=col>Cpu_brand</th></tr></thead>\n",
       "<tbody>\n",
       "\t<tr><td>Apple             </td><td>Ultrabook         </td><td> 8                </td><td>1.37              </td><td>1339.69           </td><td>0                 </td><td>128               </td><td>Intel             </td><td>Mac               </td><td>0                 </td><td>1                 </td><td>226.9830          </td><td>Intel Core i5     </td></tr>\n",
       "\t<tr><td>Apple             </td><td>Ultrabook         </td><td> 8                </td><td>1.34              </td><td> 898.94           </td><td>0                 </td><td>  0               </td><td>Intel             </td><td>Mac               </td><td>0                 </td><td>0                 </td><td>127.6779          </td><td>Intel Core i5     </td></tr>\n",
       "\t<tr><td>HP                </td><td>Notebook          </td><td> 8                </td><td>1.86              </td><td> 575.00           </td><td>0                 </td><td>256               </td><td>Intel             </td><td>Others/No OS/Linux</td><td>0                 </td><td>0                 </td><td>141.2120          </td><td>Intel Core i5     </td></tr>\n",
       "\t<tr><td>Apple             </td><td>Ultrabook         </td><td>16                </td><td>1.83              </td><td>2537.45           </td><td>0                 </td><td>512               </td><td>AMD               </td><td>Mac               </td><td>0                 </td><td>1                 </td><td>220.5346          </td><td>Intel Core i7     </td></tr>\n",
       "\t<tr><td>Apple             </td><td>Ultrabook         </td><td> 8                </td><td>1.37              </td><td>1803.60           </td><td>0                 </td><td>256               </td><td>Intel             </td><td>Mac               </td><td>0                 </td><td>1                 </td><td>226.9830          </td><td>Intel Core i5     </td></tr>\n",
       "\t<tr><td>Acer              </td><td>Notebook          </td><td> 4                </td><td>2.10              </td><td> 400.00           </td><td>0                 </td><td>  0               </td><td>AMD               </td><td>Windows           </td><td>0                 </td><td>0                 </td><td>100.4547          </td><td>AMD Processor     </td></tr>\n",
       "</tbody>\n",
       "</table>\n"
      ],
      "text/latex": [
       "\\begin{tabular}{r|lllllllllllll}\n",
       " Company & TypeName & Ram & Weight & Price\\_euros & HDD & SSD & Gpu\\_brand & os & Touchscreen & Ips & ppi & Cpu\\_brand\\\\\n",
       "\\hline\n",
       "\t Apple              & Ultrabook          &  8                 & 1.37               & 1339.69            & 0                  & 128                & Intel              & Mac                & 0                  & 1                  & 226.9830           & Intel Core i5     \\\\\n",
       "\t Apple              & Ultrabook          &  8                 & 1.34               &  898.94            & 0                  &   0                & Intel              & Mac                & 0                  & 0                  & 127.6779           & Intel Core i5     \\\\\n",
       "\t HP                 & Notebook           &  8                 & 1.86               &  575.00            & 0                  & 256                & Intel              & Others/No OS/Linux & 0                  & 0                  & 141.2120           & Intel Core i5     \\\\\n",
       "\t Apple              & Ultrabook          & 16                 & 1.83               & 2537.45            & 0                  & 512                & AMD                & Mac                & 0                  & 1                  & 220.5346           & Intel Core i7     \\\\\n",
       "\t Apple              & Ultrabook          &  8                 & 1.37               & 1803.60            & 0                  & 256                & Intel              & Mac                & 0                  & 1                  & 226.9830           & Intel Core i5     \\\\\n",
       "\t Acer               & Notebook           &  4                 & 2.10               &  400.00            & 0                  &   0                & AMD                & Windows            & 0                  & 0                  & 100.4547           & AMD Processor     \\\\\n",
       "\\end{tabular}\n"
      ],
      "text/markdown": [
       "\n",
       "| Company | TypeName | Ram | Weight | Price_euros | HDD | SSD | Gpu_brand | os | Touchscreen | Ips | ppi | Cpu_brand |\n",
       "|---|---|---|---|---|---|---|---|---|---|---|---|---|\n",
       "| Apple              | Ultrabook          |  8                 | 1.37               | 1339.69            | 0                  | 128                | Intel              | Mac                | 0                  | 1                  | 226.9830           | Intel Core i5      |\n",
       "| Apple              | Ultrabook          |  8                 | 1.34               |  898.94            | 0                  |   0                | Intel              | Mac                | 0                  | 0                  | 127.6779           | Intel Core i5      |\n",
       "| HP                 | Notebook           |  8                 | 1.86               |  575.00            | 0                  | 256                | Intel              | Others/No OS/Linux | 0                  | 0                  | 141.2120           | Intel Core i5      |\n",
       "| Apple              | Ultrabook          | 16                 | 1.83               | 2537.45            | 0                  | 512                | AMD                | Mac                | 0                  | 1                  | 220.5346           | Intel Core i7      |\n",
       "| Apple              | Ultrabook          |  8                 | 1.37               | 1803.60            | 0                  | 256                | Intel              | Mac                | 0                  | 1                  | 226.9830           | Intel Core i5      |\n",
       "| Acer               | Notebook           |  4                 | 2.10               |  400.00            | 0                  |   0                | AMD                | Windows            | 0                  | 0                  | 100.4547           | AMD Processor      |\n",
       "\n"
      ],
      "text/plain": [
       "  Company TypeName  Ram Weight Price_euros HDD SSD Gpu_brand os                \n",
       "1 Apple   Ultrabook  8  1.37   1339.69     0   128 Intel     Mac               \n",
       "2 Apple   Ultrabook  8  1.34    898.94     0     0 Intel     Mac               \n",
       "3 HP      Notebook   8  1.86    575.00     0   256 Intel     Others/No OS/Linux\n",
       "4 Apple   Ultrabook 16  1.83   2537.45     0   512 AMD       Mac               \n",
       "5 Apple   Ultrabook  8  1.37   1803.60     0   256 Intel     Mac               \n",
       "6 Acer    Notebook   4  2.10    400.00     0     0 AMD       Windows           \n",
       "  Touchscreen Ips ppi      Cpu_brand    \n",
       "1 0           1   226.9830 Intel Core i5\n",
       "2 0           0   127.6779 Intel Core i5\n",
       "3 0           0   141.2120 Intel Core i5\n",
       "4 0           1   220.5346 Intel Core i7\n",
       "5 0           1   226.9830 Intel Core i5\n",
       "6 0           0   100.4547 AMD Processor"
      ]
     },
     "metadata": {},
     "output_type": "display_data"
    }
   ],
   "source": [
    "data <- data[,-c(1,3,5,6)]\n",
    "head(data)"
   ]
  },
  {
   "cell_type": "code",
   "execution_count": 34,
   "id": "c5748ed7",
   "metadata": {},
   "outputs": [
    {
     "name": "stderr",
     "output_type": "stream",
     "text": [
      "Warning message:\n",
      "\"package 'caret' was built under R version 3.6.3\"\n",
      "Loading required package: lattice\n",
      "\n"
     ]
    }
   ],
   "source": [
    "library(caret)"
   ]
  },
  {
   "cell_type": "code",
   "execution_count": 35,
   "id": "bb00393d",
   "metadata": {},
   "outputs": [],
   "source": [
    "final_df <- data[,c(1,2,8,9,13)]\n",
    "dummy <- dummyVars(\" ~ .\", data=final_df)\n",
    "final_df <- data.frame(predict(dummy, newdata=final_df))"
   ]
  },
  {
   "cell_type": "code",
   "execution_count": 36,
   "id": "9c13ab8a",
   "metadata": {},
   "outputs": [
    {
     "data": {
      "text/html": [
       "<table>\n",
       "<thead><tr><th scope=col>Company.Acer</th><th scope=col>Company.Apple</th><th scope=col>Company.Asus</th><th scope=col>Company.Chuwi</th><th scope=col>Company.Dell</th><th scope=col>Company.Fujitsu</th><th scope=col>Company.Google</th><th scope=col>Company.HP</th><th scope=col>Company.Huawei</th><th scope=col>Company.Lenovo</th><th scope=col>...</th><th scope=col>Gpu_brandIntel</th><th scope=col>Gpu_brandNvidia</th><th scope=col>osMac</th><th scope=col>osOthers.No.OS.Linux</th><th scope=col>osWindows</th><th scope=col>Cpu_brandAMD.Processor</th><th scope=col>Cpu_brandIntel.Core.i3</th><th scope=col>Cpu_brandIntel.Core.i5</th><th scope=col>Cpu_brandIntel.Core.i7</th><th scope=col>Cpu_brandOther.Intel.Processor</th></tr></thead>\n",
       "<tbody>\n",
       "\t<tr><td>0  </td><td>1  </td><td>0  </td><td>0  </td><td>0  </td><td>0  </td><td>0  </td><td>0  </td><td>0  </td><td>0  </td><td>...</td><td>1  </td><td>0  </td><td>1  </td><td>0  </td><td>0  </td><td>0  </td><td>0  </td><td>1  </td><td>0  </td><td>0  </td></tr>\n",
       "\t<tr><td>0  </td><td>1  </td><td>0  </td><td>0  </td><td>0  </td><td>0  </td><td>0  </td><td>0  </td><td>0  </td><td>0  </td><td>...</td><td>1  </td><td>0  </td><td>1  </td><td>0  </td><td>0  </td><td>0  </td><td>0  </td><td>1  </td><td>0  </td><td>0  </td></tr>\n",
       "\t<tr><td>0  </td><td>0  </td><td>0  </td><td>0  </td><td>0  </td><td>0  </td><td>0  </td><td>1  </td><td>0  </td><td>0  </td><td>...</td><td>1  </td><td>0  </td><td>0  </td><td>1  </td><td>0  </td><td>0  </td><td>0  </td><td>1  </td><td>0  </td><td>0  </td></tr>\n",
       "\t<tr><td>0  </td><td>1  </td><td>0  </td><td>0  </td><td>0  </td><td>0  </td><td>0  </td><td>0  </td><td>0  </td><td>0  </td><td>...</td><td>0  </td><td>0  </td><td>1  </td><td>0  </td><td>0  </td><td>0  </td><td>0  </td><td>0  </td><td>1  </td><td>0  </td></tr>\n",
       "\t<tr><td>0  </td><td>1  </td><td>0  </td><td>0  </td><td>0  </td><td>0  </td><td>0  </td><td>0  </td><td>0  </td><td>0  </td><td>...</td><td>1  </td><td>0  </td><td>1  </td><td>0  </td><td>0  </td><td>0  </td><td>0  </td><td>1  </td><td>0  </td><td>0  </td></tr>\n",
       "\t<tr><td>1  </td><td>0  </td><td>0  </td><td>0  </td><td>0  </td><td>0  </td><td>0  </td><td>0  </td><td>0  </td><td>0  </td><td>...</td><td>0  </td><td>0  </td><td>0  </td><td>0  </td><td>1  </td><td>1  </td><td>0  </td><td>0  </td><td>0  </td><td>0  </td></tr>\n",
       "</tbody>\n",
       "</table>\n"
      ],
      "text/latex": [
       "\\begin{tabular}{r|llllllllllllllllllllllllllllllllllll}\n",
       " Company.Acer & Company.Apple & Company.Asus & Company.Chuwi & Company.Dell & Company.Fujitsu & Company.Google & Company.HP & Company.Huawei & Company.Lenovo & ... & Gpu\\_brandIntel & Gpu\\_brandNvidia & osMac & osOthers.No.OS.Linux & osWindows & Cpu\\_brandAMD.Processor & Cpu\\_brandIntel.Core.i3 & Cpu\\_brandIntel.Core.i5 & Cpu\\_brandIntel.Core.i7 & Cpu\\_brandOther.Intel.Processor\\\\\n",
       "\\hline\n",
       "\t 0   & 1   & 0   & 0   & 0   & 0   & 0   & 0   & 0   & 0   & ... & 1   & 0   & 1   & 0   & 0   & 0   & 0   & 1   & 0   & 0  \\\\\n",
       "\t 0   & 1   & 0   & 0   & 0   & 0   & 0   & 0   & 0   & 0   & ... & 1   & 0   & 1   & 0   & 0   & 0   & 0   & 1   & 0   & 0  \\\\\n",
       "\t 0   & 0   & 0   & 0   & 0   & 0   & 0   & 1   & 0   & 0   & ... & 1   & 0   & 0   & 1   & 0   & 0   & 0   & 1   & 0   & 0  \\\\\n",
       "\t 0   & 1   & 0   & 0   & 0   & 0   & 0   & 0   & 0   & 0   & ... & 0   & 0   & 1   & 0   & 0   & 0   & 0   & 0   & 1   & 0  \\\\\n",
       "\t 0   & 1   & 0   & 0   & 0   & 0   & 0   & 0   & 0   & 0   & ... & 1   & 0   & 1   & 0   & 0   & 0   & 0   & 1   & 0   & 0  \\\\\n",
       "\t 1   & 0   & 0   & 0   & 0   & 0   & 0   & 0   & 0   & 0   & ... & 0   & 0   & 0   & 0   & 1   & 1   & 0   & 0   & 0   & 0  \\\\\n",
       "\\end{tabular}\n"
      ],
      "text/markdown": [
       "\n",
       "| Company.Acer | Company.Apple | Company.Asus | Company.Chuwi | Company.Dell | Company.Fujitsu | Company.Google | Company.HP | Company.Huawei | Company.Lenovo | ... | Gpu_brandIntel | Gpu_brandNvidia | osMac | osOthers.No.OS.Linux | osWindows | Cpu_brandAMD.Processor | Cpu_brandIntel.Core.i3 | Cpu_brandIntel.Core.i5 | Cpu_brandIntel.Core.i7 | Cpu_brandOther.Intel.Processor |\n",
       "|---|---|---|---|---|---|---|---|---|---|---|---|---|---|---|---|---|---|---|---|---|\n",
       "| 0   | 1   | 0   | 0   | 0   | 0   | 0   | 0   | 0   | 0   | ... | 1   | 0   | 1   | 0   | 0   | 0   | 0   | 1   | 0   | 0   |\n",
       "| 0   | 1   | 0   | 0   | 0   | 0   | 0   | 0   | 0   | 0   | ... | 1   | 0   | 1   | 0   | 0   | 0   | 0   | 1   | 0   | 0   |\n",
       "| 0   | 0   | 0   | 0   | 0   | 0   | 0   | 1   | 0   | 0   | ... | 1   | 0   | 0   | 1   | 0   | 0   | 0   | 1   | 0   | 0   |\n",
       "| 0   | 1   | 0   | 0   | 0   | 0   | 0   | 0   | 0   | 0   | ... | 0   | 0   | 1   | 0   | 0   | 0   | 0   | 0   | 1   | 0   |\n",
       "| 0   | 1   | 0   | 0   | 0   | 0   | 0   | 0   | 0   | 0   | ... | 1   | 0   | 1   | 0   | 0   | 0   | 0   | 1   | 0   | 0   |\n",
       "| 1   | 0   | 0   | 0   | 0   | 0   | 0   | 0   | 0   | 0   | ... | 0   | 0   | 0   | 0   | 1   | 1   | 0   | 0   | 0   | 0   |\n",
       "\n"
      ],
      "text/plain": [
       "  Company.Acer Company.Apple Company.Asus Company.Chuwi Company.Dell\n",
       "1 0            1             0            0             0           \n",
       "2 0            1             0            0             0           \n",
       "3 0            0             0            0             0           \n",
       "4 0            1             0            0             0           \n",
       "5 0            1             0            0             0           \n",
       "6 1            0             0            0             0           \n",
       "  Company.Fujitsu Company.Google Company.HP Company.Huawei Company.Lenovo ...\n",
       "1 0               0              0          0              0              ...\n",
       "2 0               0              0          0              0              ...\n",
       "3 0               0              1          0              0              ...\n",
       "4 0               0              0          0              0              ...\n",
       "5 0               0              0          0              0              ...\n",
       "6 0               0              0          0              0              ...\n",
       "  Gpu_brandIntel Gpu_brandNvidia osMac osOthers.No.OS.Linux osWindows\n",
       "1 1              0               1     0                    0        \n",
       "2 1              0               1     0                    0        \n",
       "3 1              0               0     1                    0        \n",
       "4 0              0               1     0                    0        \n",
       "5 1              0               1     0                    0        \n",
       "6 0              0               0     0                    1        \n",
       "  Cpu_brandAMD.Processor Cpu_brandIntel.Core.i3 Cpu_brandIntel.Core.i5\n",
       "1 0                      0                      1                     \n",
       "2 0                      0                      1                     \n",
       "3 0                      0                      1                     \n",
       "4 0                      0                      0                     \n",
       "5 0                      0                      1                     \n",
       "6 1                      0                      0                     \n",
       "  Cpu_brandIntel.Core.i7 Cpu_brandOther.Intel.Processor\n",
       "1 0                      0                             \n",
       "2 0                      0                             \n",
       "3 0                      0                             \n",
       "4 1                      0                             \n",
       "5 0                      0                             \n",
       "6 0                      0                             "
      ]
     },
     "metadata": {},
     "output_type": "display_data"
    }
   ],
   "source": [
    "head(final_df)"
   ]
  },
  {
   "cell_type": "code",
   "execution_count": 37,
   "id": "00d4f6d9",
   "metadata": {},
   "outputs": [],
   "source": [
    "final_df$Ram = data$Ram\n",
    "final_df$Weight = data$Weight\n",
    "final_df$SSD = data$SSD\n",
    "final_df$HDD = data$HDD\n",
    "final_df$Touchscreen = data$Touchscreen\n",
    "final_df$Ips = data$Ips\n",
    "final_df$ppi = data$ppi\n",
    "final_df$Price = data$Price_euros"
   ]
  },
  {
   "cell_type": "code",
   "execution_count": 38,
   "id": "f6b40ffd",
   "metadata": {},
   "outputs": [
    {
     "data": {
      "text/html": [
       "<table>\n",
       "<thead><tr><th scope=col>Company.Acer</th><th scope=col>Company.Apple</th><th scope=col>Company.Asus</th><th scope=col>Company.Chuwi</th><th scope=col>Company.Dell</th><th scope=col>Company.Fujitsu</th><th scope=col>Company.Google</th><th scope=col>Company.HP</th><th scope=col>Company.Huawei</th><th scope=col>Company.Lenovo</th><th scope=col>...</th><th scope=col>Cpu_brandIntel.Core.i7</th><th scope=col>Cpu_brandOther.Intel.Processor</th><th scope=col>Ram</th><th scope=col>Weight</th><th scope=col>SSD</th><th scope=col>HDD</th><th scope=col>Touchscreen</th><th scope=col>Ips</th><th scope=col>ppi</th><th scope=col>Price</th></tr></thead>\n",
       "<tbody>\n",
       "\t<tr><td>0       </td><td>1       </td><td>0       </td><td>0       </td><td>0       </td><td>0       </td><td>0       </td><td>0       </td><td>0       </td><td>0       </td><td>...     </td><td>0       </td><td>0       </td><td> 8      </td><td>1.37    </td><td>128     </td><td>0       </td><td>0       </td><td>1       </td><td>226.9830</td><td>1339.69 </td></tr>\n",
       "\t<tr><td>0       </td><td>1       </td><td>0       </td><td>0       </td><td>0       </td><td>0       </td><td>0       </td><td>0       </td><td>0       </td><td>0       </td><td>...     </td><td>0       </td><td>0       </td><td> 8      </td><td>1.34    </td><td>  0     </td><td>0       </td><td>0       </td><td>0       </td><td>127.6779</td><td> 898.94 </td></tr>\n",
       "\t<tr><td>0       </td><td>0       </td><td>0       </td><td>0       </td><td>0       </td><td>0       </td><td>0       </td><td>1       </td><td>0       </td><td>0       </td><td>...     </td><td>0       </td><td>0       </td><td> 8      </td><td>1.86    </td><td>256     </td><td>0       </td><td>0       </td><td>0       </td><td>141.2120</td><td> 575.00 </td></tr>\n",
       "\t<tr><td>0       </td><td>1       </td><td>0       </td><td>0       </td><td>0       </td><td>0       </td><td>0       </td><td>0       </td><td>0       </td><td>0       </td><td>...     </td><td>1       </td><td>0       </td><td>16      </td><td>1.83    </td><td>512     </td><td>0       </td><td>0       </td><td>1       </td><td>220.5346</td><td>2537.45 </td></tr>\n",
       "\t<tr><td>0       </td><td>1       </td><td>0       </td><td>0       </td><td>0       </td><td>0       </td><td>0       </td><td>0       </td><td>0       </td><td>0       </td><td>...     </td><td>0       </td><td>0       </td><td> 8      </td><td>1.37    </td><td>256     </td><td>0       </td><td>0       </td><td>1       </td><td>226.9830</td><td>1803.60 </td></tr>\n",
       "</tbody>\n",
       "</table>\n"
      ],
      "text/latex": [
       "\\begin{tabular}{r|llllllllllllllllllllllllllllllllllllllllllll}\n",
       " Company.Acer & Company.Apple & Company.Asus & Company.Chuwi & Company.Dell & Company.Fujitsu & Company.Google & Company.HP & Company.Huawei & Company.Lenovo & ... & Cpu\\_brandIntel.Core.i7 & Cpu\\_brandOther.Intel.Processor & Ram & Weight & SSD & HDD & Touchscreen & Ips & ppi & Price\\\\\n",
       "\\hline\n",
       "\t 0        & 1        & 0        & 0        & 0        & 0        & 0        & 0        & 0        & 0        & ...      & 0        & 0        &  8       & 1.37     & 128      & 0        & 0        & 1        & 226.9830 & 1339.69 \\\\\n",
       "\t 0        & 1        & 0        & 0        & 0        & 0        & 0        & 0        & 0        & 0        & ...      & 0        & 0        &  8       & 1.34     &   0      & 0        & 0        & 0        & 127.6779 &  898.94 \\\\\n",
       "\t 0        & 0        & 0        & 0        & 0        & 0        & 0        & 1        & 0        & 0        & ...      & 0        & 0        &  8       & 1.86     & 256      & 0        & 0        & 0        & 141.2120 &  575.00 \\\\\n",
       "\t 0        & 1        & 0        & 0        & 0        & 0        & 0        & 0        & 0        & 0        & ...      & 1        & 0        & 16       & 1.83     & 512      & 0        & 0        & 1        & 220.5346 & 2537.45 \\\\\n",
       "\t 0        & 1        & 0        & 0        & 0        & 0        & 0        & 0        & 0        & 0        & ...      & 0        & 0        &  8       & 1.37     & 256      & 0        & 0        & 1        & 226.9830 & 1803.60 \\\\\n",
       "\\end{tabular}\n"
      ],
      "text/markdown": [
       "\n",
       "| Company.Acer | Company.Apple | Company.Asus | Company.Chuwi | Company.Dell | Company.Fujitsu | Company.Google | Company.HP | Company.Huawei | Company.Lenovo | ... | Cpu_brandIntel.Core.i7 | Cpu_brandOther.Intel.Processor | Ram | Weight | SSD | HDD | Touchscreen | Ips | ppi | Price |\n",
       "|---|---|---|---|---|---|---|---|---|---|---|---|---|---|---|---|---|---|---|---|---|\n",
       "| 0        | 1        | 0        | 0        | 0        | 0        | 0        | 0        | 0        | 0        | ...      | 0        | 0        |  8       | 1.37     | 128      | 0        | 0        | 1        | 226.9830 | 1339.69  |\n",
       "| 0        | 1        | 0        | 0        | 0        | 0        | 0        | 0        | 0        | 0        | ...      | 0        | 0        |  8       | 1.34     |   0      | 0        | 0        | 0        | 127.6779 |  898.94  |\n",
       "| 0        | 0        | 0        | 0        | 0        | 0        | 0        | 1        | 0        | 0        | ...      | 0        | 0        |  8       | 1.86     | 256      | 0        | 0        | 0        | 141.2120 |  575.00  |\n",
       "| 0        | 1        | 0        | 0        | 0        | 0        | 0        | 0        | 0        | 0        | ...      | 1        | 0        | 16       | 1.83     | 512      | 0        | 0        | 1        | 220.5346 | 2537.45  |\n",
       "| 0        | 1        | 0        | 0        | 0        | 0        | 0        | 0        | 0        | 0        | ...      | 0        | 0        |  8       | 1.37     | 256      | 0        | 0        | 1        | 226.9830 | 1803.60  |\n",
       "\n"
      ],
      "text/plain": [
       "  Company.Acer Company.Apple Company.Asus Company.Chuwi Company.Dell\n",
       "1 0            1             0            0             0           \n",
       "2 0            1             0            0             0           \n",
       "3 0            0             0            0             0           \n",
       "4 0            1             0            0             0           \n",
       "5 0            1             0            0             0           \n",
       "  Company.Fujitsu Company.Google Company.HP Company.Huawei Company.Lenovo ...\n",
       "1 0               0              0          0              0              ...\n",
       "2 0               0              0          0              0              ...\n",
       "3 0               0              1          0              0              ...\n",
       "4 0               0              0          0              0              ...\n",
       "5 0               0              0          0              0              ...\n",
       "  Cpu_brandIntel.Core.i7 Cpu_brandOther.Intel.Processor Ram Weight SSD HDD\n",
       "1 0                      0                               8  1.37   128 0  \n",
       "2 0                      0                               8  1.34     0 0  \n",
       "3 0                      0                               8  1.86   256 0  \n",
       "4 1                      0                              16  1.83   512 0  \n",
       "5 0                      0                               8  1.37   256 0  \n",
       "  Touchscreen Ips ppi      Price  \n",
       "1 0           1   226.9830 1339.69\n",
       "2 0           0   127.6779  898.94\n",
       "3 0           0   141.2120  575.00\n",
       "4 0           1   220.5346 2537.45\n",
       "5 0           1   226.9830 1803.60"
      ]
     },
     "metadata": {},
     "output_type": "display_data"
    }
   ],
   "source": [
    "head(final_df,5)"
   ]
  },
  {
   "cell_type": "code",
   "execution_count": 39,
   "id": "a069bab4",
   "metadata": {},
   "outputs": [],
   "source": [
    "set.seed(123) \n",
    "train_indices <- sample(1:nrow(final_df), nrow(final_df)*0.8)\n",
    "train_data <- final_df[train_indices, ]\n",
    "test_data <- final_df[-train_indices, ]"
   ]
  },
  {
   "cell_type": "code",
   "execution_count": 40,
   "id": "967b5696",
   "metadata": {},
   "outputs": [
    {
     "name": "stderr",
     "output_type": "stream",
     "text": [
      "Warning message:\n",
      "\"package 'randomForest' was built under R version 3.6.3\"\n",
      "randomForest 4.6-14\n",
      "\n",
      "Type rfNews() to see new features/changes/bug fixes.\n",
      "\n",
      "\n",
      "Attaching package: 'randomForest'\n",
      "\n",
      "\n",
      "The following object is masked from 'package:ggplot2':\n",
      "\n",
      "    margin\n",
      "\n",
      "\n"
     ]
    }
   ],
   "source": [
    "library(randomForest)"
   ]
  },
  {
   "cell_type": "code",
   "execution_count": 41,
   "id": "9454a938",
   "metadata": {},
   "outputs": [],
   "source": [
    "model <- randomForest(train_data$Price ~ ., data = train_data[-44])"
   ]
  },
  {
   "cell_type": "code",
   "execution_count": 42,
   "id": "f45efee7",
   "metadata": {},
   "outputs": [],
   "source": [
    "predictions <- predict(model, newdata = test_data[-44])"
   ]
  },
  {
   "cell_type": "code",
   "execution_count": 43,
   "id": "690c589c",
   "metadata": {},
   "outputs": [],
   "source": [
    "mse <- mean((predictions - test_data$Price )^2)\n",
    "rmse <- sqrt(mse)\n",
    "rsquared <- 1 - (sum((test_data$Price  - predictions)^2) / sum((test_data$Price  - mean(test_data$Price ))^2))"
   ]
  },
  {
   "cell_type": "code",
   "execution_count": 44,
   "id": "398829d5",
   "metadata": {},
   "outputs": [
    {
     "name": "stdout",
     "output_type": "stream",
     "text": [
      "[1] \"Mean square error:  86034.2717192193\"\n",
      "[1] \"Root mean square error:  293.315992948252\"\n",
      "[1] \"R-square:  0.830348831594706\"\n"
     ]
    }
   ],
   "source": [
    "print(paste(\"Mean square error: \", mse))\n",
    "print(paste(\"Root mean square error: \", rmse))\n",
    "print(paste(\"R-square: \", rsquared))"
   ]
  },
  {
   "cell_type": "code",
   "execution_count": 45,
   "id": "35ebf006",
   "metadata": {},
   "outputs": [],
   "source": [
    "path = \"C:/Users/ACER/Self_learning/DSR301m_p/Ass/Prj_ass/model.rds\"\n",
    "saveRDS(model, path)"
   ]
  },
  {
   "cell_type": "code",
   "execution_count": 46,
   "id": "dfb0a1cf",
   "metadata": {},
   "outputs": [],
   "source": [
    "loaded_model <- readRDS(\"C:/Users/ACER/Self_learning/DSR301m_p/Ass/Prj_ass/model.rds\")"
   ]
  },
  {
   "cell_type": "code",
   "execution_count": 47,
   "id": "c456ca97",
   "metadata": {},
   "outputs": [
    {
     "name": "stdout",
     "output_type": "stream",
     "text": [
      "       1        2        3        4        5 \n",
      "1369.761 1054.127  857.055 2585.826 1633.952 \n"
     ]
    }
   ],
   "source": [
    "new_data <- head(final_df,5)[-44]  # Example new input data\n",
    "predictions <- predict(loaded_model, newdata = new_data)\n",
    "\n",
    "print(predictions)"
   ]
  },
  {
   "cell_type": "code",
   "execution_count": 77,
   "id": "f35c9177",
   "metadata": {},
   "outputs": [
    {
     "name": "stdout",
     "output_type": "stream",
     "text": [
      "       1 \n",
      "1369.761 \n"
     ]
    }
   ],
   "source": [
    "new_data <- head(final_df,1)[-44]  # Example new input data\n",
    "predictions <- predict(loaded_model, newdata = new_data)\n",
    "\n",
    "print(predictions)"
   ]
  },
  {
   "cell_type": "code",
   "execution_count": 81,
   "id": "91f7eb15",
   "metadata": {},
   "outputs": [
    {
     "data": {
      "text/html": [
       "<table>\n",
       "<thead><tr><th scope=col>Company.Acer</th><th scope=col>Company.Apple</th><th scope=col>Company.Asus</th><th scope=col>Company.Chuwi</th><th scope=col>Company.Dell</th><th scope=col>Company.Fujitsu</th><th scope=col>Company.Google</th><th scope=col>Company.HP</th><th scope=col>Company.Huawei</th><th scope=col>Company.Lenovo</th><th scope=col>...</th><th scope=col>Cpu_brandIntel.Core.i5</th><th scope=col>Cpu_brandIntel.Core.i7</th><th scope=col>Cpu_brandOther.Intel.Processor</th><th scope=col>Ram</th><th scope=col>Weight</th><th scope=col>SSD</th><th scope=col>HDD</th><th scope=col>Touchscreen</th><th scope=col>Ips</th><th scope=col>ppi</th></tr></thead>\n",
       "<tbody>\n",
       "\t<tr><td>0      </td><td>1      </td><td>0      </td><td>0      </td><td>0      </td><td>0      </td><td>0      </td><td>0      </td><td>0      </td><td>0      </td><td>...    </td><td>1      </td><td>0      </td><td>0      </td><td>8      </td><td>1.37   </td><td>128    </td><td>0      </td><td>0      </td><td>1      </td><td>226.983</td></tr>\n",
       "</tbody>\n",
       "</table>\n"
      ],
      "text/latex": [
       "\\begin{tabular}{r|lllllllllllllllllllllllllllllllllllllllllll}\n",
       " Company.Acer & Company.Apple & Company.Asus & Company.Chuwi & Company.Dell & Company.Fujitsu & Company.Google & Company.HP & Company.Huawei & Company.Lenovo & ... & Cpu\\_brandIntel.Core.i5 & Cpu\\_brandIntel.Core.i7 & Cpu\\_brandOther.Intel.Processor & Ram & Weight & SSD & HDD & Touchscreen & Ips & ppi\\\\\n",
       "\\hline\n",
       "\t 0       & 1       & 0       & 0       & 0       & 0       & 0       & 0       & 0       & 0       & ...     & 1       & 0       & 0       & 8       & 1.37    & 128     & 0       & 0       & 1       & 226.983\\\\\n",
       "\\end{tabular}\n"
      ],
      "text/markdown": [
       "\n",
       "| Company.Acer | Company.Apple | Company.Asus | Company.Chuwi | Company.Dell | Company.Fujitsu | Company.Google | Company.HP | Company.Huawei | Company.Lenovo | ... | Cpu_brandIntel.Core.i5 | Cpu_brandIntel.Core.i7 | Cpu_brandOther.Intel.Processor | Ram | Weight | SSD | HDD | Touchscreen | Ips | ppi |\n",
       "|---|---|---|---|---|---|---|---|---|---|---|---|---|---|---|---|---|---|---|---|---|\n",
       "| 0       | 1       | 0       | 0       | 0       | 0       | 0       | 0       | 0       | 0       | ...     | 1       | 0       | 0       | 8       | 1.37    | 128     | 0       | 0       | 1       | 226.983 |\n",
       "\n"
      ],
      "text/plain": [
       "  Company.Acer Company.Apple Company.Asus Company.Chuwi Company.Dell\n",
       "1 0            1             0            0             0           \n",
       "  Company.Fujitsu Company.Google Company.HP Company.Huawei Company.Lenovo ...\n",
       "1 0               0              0          0              0              ...\n",
       "  Cpu_brandIntel.Core.i5 Cpu_brandIntel.Core.i7 Cpu_brandOther.Intel.Processor\n",
       "1 1                      0                      0                             \n",
       "  Ram Weight SSD HDD Touchscreen Ips ppi    \n",
       "1 8   1.37   128 0   0           1   226.983"
      ]
     },
     "metadata": {},
     "output_type": "display_data"
    }
   ],
   "source": [
    "head(final_df,1)[-44] "
   ]
  },
  {
   "cell_type": "code",
   "execution_count": 78,
   "id": "15063310",
   "metadata": {},
   "outputs": [
    {
     "data": {
      "text/html": [
       "'data.frame'"
      ],
      "text/latex": [
       "'data.frame'"
      ],
      "text/markdown": [
       "'data.frame'"
      ],
      "text/plain": [
       "[1] \"data.frame\""
      ]
     },
     "metadata": {},
     "output_type": "display_data"
    }
   ],
   "source": [
    "class(new_data)"
   ]
  },
  {
   "cell_type": "code",
   "execution_count": null,
   "id": "3c604df6",
   "metadata": {},
   "outputs": [],
   "source": []
  },
  {
   "cell_type": "code",
   "execution_count": 48,
   "id": "3703e7bd",
   "metadata": {},
   "outputs": [
    {
     "data": {
      "text/html": [
       "<table>\n",
       "<thead><tr><th scope=col>Price</th></tr></thead>\n",
       "<tbody>\n",
       "\t<tr><td>1339.69</td></tr>\n",
       "\t<tr><td> 898.94</td></tr>\n",
       "\t<tr><td> 575.00</td></tr>\n",
       "\t<tr><td>2537.45</td></tr>\n",
       "\t<tr><td>1803.60</td></tr>\n",
       "</tbody>\n",
       "</table>\n"
      ],
      "text/latex": [
       "\\begin{tabular}{r|l}\n",
       " Price\\\\\n",
       "\\hline\n",
       "\t 1339.69\\\\\n",
       "\t  898.94\\\\\n",
       "\t  575.00\\\\\n",
       "\t 2537.45\\\\\n",
       "\t 1803.60\\\\\n",
       "\\end{tabular}\n"
      ],
      "text/markdown": [
       "\n",
       "| Price |\n",
       "|---|\n",
       "| 1339.69 |\n",
       "|  898.94 |\n",
       "|  575.00 |\n",
       "| 2537.45 |\n",
       "| 1803.60 |\n",
       "\n"
      ],
      "text/plain": [
       "  Price  \n",
       "1 1339.69\n",
       "2  898.94\n",
       "3  575.00\n",
       "4 2537.45\n",
       "5 1803.60"
      ]
     },
     "metadata": {},
     "output_type": "display_data"
    }
   ],
   "source": [
    "head(final_df,5)[44]"
   ]
  },
  {
   "cell_type": "code",
   "execution_count": 49,
   "id": "24f3b46a",
   "metadata": {},
   "outputs": [
    {
     "name": "stderr",
     "output_type": "stream",
     "text": [
      "Warning message:\n",
      "\"package 'tidymodels' was built under R version 3.6.3\"\n",
      "-- \u001b[1mAttaching packages\u001b[22m ------------------------------------------------------------------------------ tidymodels 0.1.3 --\n",
      "\n",
      "\u001b[32mv\u001b[39m \u001b[34mbroom       \u001b[39m 1.0.5      \u001b[32mv\u001b[39m \u001b[34mrecipes     \u001b[39m 0.1.16\n",
      "\u001b[32mv\u001b[39m \u001b[34mdials       \u001b[39m 0.0.9      \u001b[32mv\u001b[39m \u001b[34mrsample     \u001b[39m 0.1.0 \n",
      "\u001b[32mv\u001b[39m \u001b[34mdplyr       \u001b[39m 1.0.6      \u001b[32mv\u001b[39m \u001b[34mtibble      \u001b[39m 3.1.1 \n",
      "\u001b[32mv\u001b[39m \u001b[34minfer       \u001b[39m 1.0.4      \u001b[32mv\u001b[39m \u001b[34mtune        \u001b[39m 0.1.5 \n",
      "\u001b[32mv\u001b[39m \u001b[34mmodeldata   \u001b[39m 1.1.0      \u001b[32mv\u001b[39m \u001b[34mworkflows   \u001b[39m 0.2.2 \n",
      "\u001b[32mv\u001b[39m \u001b[34mparsnip     \u001b[39m 0.1.5      \u001b[32mv\u001b[39m \u001b[34mworkflowsets\u001b[39m 0.0.2 \n",
      "\u001b[32mv\u001b[39m \u001b[34mpurrr       \u001b[39m 0.3.4      \u001b[32mv\u001b[39m \u001b[34myardstick   \u001b[39m 0.0.8 \n",
      "\n",
      "Warning message:\n",
      "\"package 'dials' was built under R version 3.6.3\"\n",
      "Warning message:\n",
      "\"package 'scales' was built under R version 3.6.3\"\n",
      "Warning message:\n",
      "\"package 'dplyr' was built under R version 3.6.3\"\n",
      "Warning message:\n",
      "\"package 'parsnip' was built under R version 3.6.3\"\n",
      "Warning message:\n",
      "\"package 'purrr' was built under R version 3.6.3\"\n",
      "Warning message:\n",
      "\"package 'recipes' was built under R version 3.6.3\"\n",
      "Warning message:\n",
      "\"package 'rsample' was built under R version 3.6.3\"\n",
      "Warning message:\n",
      "\"package 'tibble' was built under R version 3.6.3\"\n",
      "Warning message:\n",
      "\"package 'tune' was built under R version 3.6.3\"\n",
      "Warning message:\n",
      "\"package 'workflows' was built under R version 3.6.3\"\n",
      "Warning message:\n",
      "\"package 'workflowsets' was built under R version 3.6.3\"\n",
      "Warning message:\n",
      "\"package 'yardstick' was built under R version 3.6.3\"\n",
      "-- \u001b[1mConflicts\u001b[22m --------------------------------------------------------------------------------- tidymodels_conflicts() --\n",
      "\u001b[31mx\u001b[39m \u001b[34mdplyr\u001b[39m::\u001b[32mcombine()\u001b[39m         masks \u001b[34mrandomForest\u001b[39m::combine()\n",
      "\u001b[31mx\u001b[39m \u001b[34mpurrr\u001b[39m::\u001b[32mdiscard()\u001b[39m         masks \u001b[34mscales\u001b[39m::discard()\n",
      "\u001b[31mx\u001b[39m \u001b[34mdplyr\u001b[39m::\u001b[32mfilter()\u001b[39m          masks \u001b[34mstats\u001b[39m::filter()\n",
      "\u001b[31mx\u001b[39m \u001b[34mrecipes\u001b[39m::\u001b[32mfixed()\u001b[39m         masks \u001b[34mstringr\u001b[39m::fixed()\n",
      "\u001b[31mx\u001b[39m \u001b[34mdplyr\u001b[39m::\u001b[32mlag()\u001b[39m             masks \u001b[34mstats\u001b[39m::lag()\n",
      "\u001b[31mx\u001b[39m \u001b[34mpurrr\u001b[39m::\u001b[32mlift()\u001b[39m            masks \u001b[34mcaret\u001b[39m::lift()\n",
      "\u001b[31mx\u001b[39m \u001b[34mrandomForest\u001b[39m::\u001b[32mmargin()\u001b[39m   masks \u001b[34mggplot2\u001b[39m::margin()\n",
      "\u001b[31mx\u001b[39m \u001b[34myardstick\u001b[39m::\u001b[32mprecision()\u001b[39m   masks \u001b[34mcaret\u001b[39m::precision()\n",
      "\u001b[31mx\u001b[39m \u001b[34myardstick\u001b[39m::\u001b[32mrecall()\u001b[39m      masks \u001b[34mcaret\u001b[39m::recall()\n",
      "\u001b[31mx\u001b[39m \u001b[34myardstick\u001b[39m::\u001b[32msensitivity()\u001b[39m masks \u001b[34mcaret\u001b[39m::sensitivity()\n",
      "\u001b[31mx\u001b[39m \u001b[34myardstick\u001b[39m::\u001b[32mspecificity()\u001b[39m masks \u001b[34mcaret\u001b[39m::specificity()\n",
      "\u001b[31mx\u001b[39m \u001b[34mrecipes\u001b[39m::\u001b[32mstep()\u001b[39m          masks \u001b[34mstats\u001b[39m::step()\n",
      "\u001b[34m*\u001b[39m Use \u001b[32mtidymodels_prefer()\u001b[39m to resolve common conflicts.\n",
      "\n"
     ]
    }
   ],
   "source": [
    "library(tidymodels)"
   ]
  },
  {
   "cell_type": "code",
   "execution_count": 50,
   "id": "52d90ae0",
   "metadata": {},
   "outputs": [
    {
     "name": "stderr",
     "output_type": "stream",
     "text": [
      "Warning message in predict.lm(object = object$fit, newdata = new_data, type = \"response\"):\n",
      "\"prediction from a rank-deficient fit may be misleading\"\n",
      "Warning message in predict.lm(object = object$fit, newdata = new_data, type = \"response\"):\n",
      "\"prediction from a rank-deficient fit may be misleading\"\n"
     ]
    },
    {
     "data": {
      "text/html": [
       "<table>\n",
       "<thead><tr><th scope=col>.pred</th><th scope=col>truth</th></tr></thead>\n",
       "<tbody>\n",
       "\t<tr><td>1625.2308</td><td>1339.69  </td></tr>\n",
       "\t<tr><td>2104.1911</td><td>2139.97  </td></tr>\n",
       "\t<tr><td> 667.2152</td><td> 498.90  </td></tr>\n",
       "\t<tr><td>1503.8628</td><td>1262.40  </td></tr>\n",
       "\t<tr><td> 284.1985</td><td> 191.90  </td></tr>\n",
       "\t<tr><td>1210.6673</td><td> 999.00  </td></tr>\n",
       "</tbody>\n",
       "</table>\n"
      ],
      "text/latex": [
       "\\begin{tabular}{r|ll}\n",
       " .pred & truth\\\\\n",
       "\\hline\n",
       "\t 1625.2308 & 1339.69  \\\\\n",
       "\t 2104.1911 & 2139.97  \\\\\n",
       "\t  667.2152 &  498.90  \\\\\n",
       "\t 1503.8628 & 1262.40  \\\\\n",
       "\t  284.1985 &  191.90  \\\\\n",
       "\t 1210.6673 &  999.00  \\\\\n",
       "\\end{tabular}\n"
      ],
      "text/markdown": [
       "\n",
       "| .pred | truth |\n",
       "|---|---|\n",
       "| 1625.2308 | 1339.69   |\n",
       "| 2104.1911 | 2139.97   |\n",
       "|  667.2152 |  498.90   |\n",
       "| 1503.8628 | 1262.40   |\n",
       "|  284.1985 |  191.90   |\n",
       "| 1210.6673 |  999.00   |\n",
       "\n"
      ],
      "text/plain": [
       "  .pred     truth  \n",
       "1 1625.2308 1339.69\n",
       "2 2104.1911 2139.97\n",
       "3  667.2152  498.90\n",
       "4 1503.8628 1262.40\n",
       "5  284.1985  191.90\n",
       "6 1210.6673  999.00"
      ]
     },
     "metadata": {},
     "output_type": "display_data"
    }
   ],
   "source": [
    "lrg <- linear_reg() %>%\n",
    "  set_engine(engine = \"lm\")\n",
    "\n",
    "train_fit <- lrg %>% \n",
    "    fit(Price ~ ., data = train_data)\n",
    "\n",
    "train_rs1 <- train_fit %>%\n",
    "  predict(new_data = train_data) %>%\n",
    "  mutate(truth = train_data$Price)\n",
    "\n",
    "test_rs1 <- train_fit %>%\n",
    "  predict(new_data = test_data) %>%\n",
    "  mutate(truth = test_data$Price)\n",
    "\n",
    "head(test_rs1)"
   ]
  },
  {
   "cell_type": "code",
   "execution_count": 51,
   "id": "ff0eea09",
   "metadata": {},
   "outputs": [],
   "source": [
    "mse <- mean((test_rs1$.pred - test_rs1$truth )^2)\n",
    "rmse <- sqrt(mse)\n",
    "rsquared <- 1 - (sum((test_rs1$truth - test_rs1$.pred)^2) / sum((test_rs1$truth  - mean(test_rs1$truth))^2))"
   ]
  },
  {
   "cell_type": "code",
   "execution_count": 52,
   "id": "200becf4",
   "metadata": {},
   "outputs": [
    {
     "name": "stdout",
     "output_type": "stream",
     "text": [
      "[1] \"Mean square error:  119418.087855226\"\n",
      "[1] \"Root mean square error:  345.569222957175\"\n",
      "[1] \"R-square:  0.764519211605771\"\n"
     ]
    }
   ],
   "source": [
    "print(paste(\"Mean square error: \", mse))\n",
    "print(paste(\"Root mean square error: \", rmse))\n",
    "print(paste(\"R-square: \", rsquared))"
   ]
  },
  {
   "cell_type": "code",
   "execution_count": 80,
   "id": "0dc40007",
   "metadata": {},
   "outputs": [],
   "source": [
    "write.csv(final_df, 'data_clean.csv')"
   ]
  }
 ],
 "metadata": {
  "kernelspec": {
   "display_name": "R",
   "language": "R",
   "name": "kernelspec"
  },
  "language_info": {
   "codemirror_mode": "r",
   "file_extension": ".r",
   "mimetype": "text/x-r-source",
   "name": "R",
   "pygments_lexer": "r",
   "version": "3.6.1"
  }
 },
 "nbformat": 4,
 "nbformat_minor": 5
}
